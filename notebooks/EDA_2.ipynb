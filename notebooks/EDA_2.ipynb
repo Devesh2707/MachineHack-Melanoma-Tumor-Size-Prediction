{
 "cells": [
  {
   "cell_type": "code",
   "execution_count": 1,
   "metadata": {},
   "outputs": [],
   "source": [
    "import pandas as pd\n",
    "import numpy as np"
   ]
  },
  {
   "cell_type": "code",
   "execution_count": 12,
   "metadata": {},
   "outputs": [],
   "source": [
    "train = pd.read_csv('/run/media/devesh/Hard Disk/Projects/Machinehack-Melanoma Tumor Size Predicition/input/Train.csv')"
   ]
  },
  {
   "cell_type": "code",
   "execution_count": 13,
   "metadata": {},
   "outputs": [],
   "source": [
    "target = train.pop('tumor_size')"
   ]
  },
  {
   "cell_type": "code",
   "execution_count": 11,
   "metadata": {},
   "outputs": [],
   "source": [
    "# malign_area_under_study = train['size_npear']/(train['malign_ratio'] + 1)\n",
    "# normal_area_under_study = train['malign_ratio'] * malign_area_under_study"
   ]
  },
  {
   "cell_type": "code",
   "execution_count": 12,
   "metadata": {},
   "outputs": [],
   "source": [
    "# train['normal_area_under_study '] = normal_area_under_study"
   ]
  },
  {
   "cell_type": "code",
   "execution_count": 14,
   "metadata": {},
   "outputs": [],
   "source": [
    "import matplotlib.pyplot as plt\n",
    "import seaborn as sns\n",
    "\n",
    "plt.style.use('fivethirtyeight')"
   ]
  },
  {
   "cell_type": "code",
   "execution_count": 25,
   "metadata": {},
   "outputs": [
    {
     "data": {
      "text/plain": [
       "Index(['mass_npea', 'size_npear', 'malign_ratio', 'damage_size',\n",
       "       'exposed_area', 'std_dev_malign', 'err_malign', 'malign_penalty',\n",
       "       'damage_ratio'],\n",
       "      dtype='object')"
      ]
     },
     "execution_count": 25,
     "metadata": {},
     "output_type": "execute_result"
    }
   ],
   "source": [
    "train.columns"
   ]
  },
  {
   "cell_type": "code",
   "execution_count": 55,
   "metadata": {},
   "outputs": [
    {
     "data": {
      "text/plain": [
       "<matplotlib.axes._subplots.AxesSubplot at 0x7f1871ce2c90>"
      ]
     },
     "execution_count": 55,
     "metadata": {},
     "output_type": "execute_result"
    },
    {
     "data": {
      "image/png": "[encoded data removed]",
      "text/plain": [
       "<Figure size 432x288 with 1 Axes>"
      ]
     },
     "metadata": {},
     "output_type": "display_data"
    }
   ],
   "source": [
    "sns.distplot(np.log(train['damage_ratio']))\n",
    "# sns.distplot(train['std_dev_malign'])"
   ]
  },
  {
   "cell_type": "code",
   "execution_count": 17,
   "metadata": {},
   "outputs": [],
   "source": [
    "train['mass_npea'] = np.log(train['mass_npea'])"
   ]
  },
  {
   "cell_type": "code",
   "execution_count": 22,
   "metadata": {},
   "outputs": [],
   "source": [
    "train['size_npear'] = np.log(train['size_npear'])"
   ]
  },
  {
   "cell_type": "code",
   "execution_count": 30,
   "metadata": {},
   "outputs": [],
   "source": [
    "train['damage_size'] = np.sqrt(train['damage_size'])"
   ]
  },
  {
   "cell_type": "code",
   "execution_count": 35,
   "metadata": {},
   "outputs": [],
   "source": [
    "train['exposed_area'] = np.log(train['exposed_area'])"
   ]
  },
  {
   "cell_type": "code",
   "execution_count": 40,
   "metadata": {},
   "outputs": [],
   "source": [
    "train['std_dev_malign'] = np.log(train['std_dev_malign'])"
   ]
  },
  {
   "cell_type": "code",
   "execution_count": 49,
   "metadata": {},
   "outputs": [],
   "source": [
    "train['malign_penalty'] = np.sqrt(train['malign_penalty'])"
   ]
  },
  {
   "cell_type": "code",
   "execution_count": 56,
   "metadata": {},
   "outputs": [],
   "source": [
    "train['damage_ratio'] = np.sqrt(train['damage_ratio'])"
   ]
  },
  {
   "cell_type": "code",
   "execution_count": 4,
   "metadata": {},
   "outputs": [],
   "source": [
    "from sklearn.ensemble import RandomForestRegressor, ExtraTreesRegressor\n",
    "from lightgbm import LGBMRegressor\n",
    "from xgboost import XGBRegressor\n",
    "from sklearn.metrics import mean_squared_error, make_scorer\n",
    "from sklearn.model_selection import cross_val_score"
   ]
  },
  {
   "cell_type": "code",
   "execution_count": 5,
   "metadata": {},
   "outputs": [],
   "source": [
    "def RMSE(y_true, y_pred):\n",
    "    return np.sqrt(mean_squared_error(y_true, y_pred))\n",
    "\n",
    "rmse = make_scorer(RMSE, greater_is_better=False)"
   ]
  },
  {
   "cell_type": "code",
   "execution_count": 6,
   "metadata": {},
   "outputs": [],
   "source": [
    "etc = ExtraTreesRegressor(max_features=0.999, min_samples_split=int(2.0), n_estimators=int(378.21212316566664), random_state = 2, n_jobs = -1)"
   ]
  },
  {
   "cell_type": "code",
   "execution_count": 9,
   "metadata": {},
   "outputs": [],
   "source": [
    "# train.drop(['mass_npea'], axis = 1, inplace = True)"
   ]
  },
  {
   "cell_type": "code",
   "execution_count": 57,
   "metadata": {},
   "outputs": [],
   "source": [
    "scores = cross_val_score(etc, train, target, cv = 5, scoring = rmse)"
   ]
  },
  {
   "cell_type": "code",
   "execution_count": 58,
   "metadata": {},
   "outputs": [
    {
     "data": {
      "text/plain": [
       "-3.9109061000715557"
      ]
     },
     "execution_count": 58,
     "metadata": {},
     "output_type": "execute_result"
    }
   ],
   "source": [
    "scores.mean()"
   ]
  },
  {
   "cell_type": "code",
   "execution_count": null,
   "metadata": {},
   "outputs": [],
   "source": []
  },
  {
   "cell_type": "code",
   "execution_count": 59,
   "metadata": {},
   "outputs": [],
   "source": [
    "from bayes_opt import BayesianOptimization\n",
    "from bayes_opt.util import Colours\n",
    "\n",
    "def rfc_cv(n_estimators, min_samples_split, max_features, data, targets):\n",
    "    \"\"\"Random Forest cross validation.\n",
    "    This function will instantiate a random forest classifier with parameters\n",
    "    n_estimators, min_samples_split, and max_features. Combined with data and\n",
    "    targets this will in turn be used to perform cross validation. The result\n",
    "    of cross validation is returned.\n",
    "    Our goal is to find combinations of n_estimators, min_samples_split, and\n",
    "    max_features that minimzes the log loss.\n",
    "    \"\"\"\n",
    "    estimator = RandomForestRegressor(\n",
    "        n_estimators=n_estimators,\n",
    "        min_samples_split=min_samples_split,\n",
    "        max_features=max_features,\n",
    "        random_state=2,\n",
    "        n_jobs = -1\n",
    "    )\n",
    "    cval = cross_val_score(estimator, data, targets,\n",
    "                           scoring=rmse, cv=5)\n",
    "    return cval.mean()"
   ]
  },
  {
   "cell_type": "code",
   "execution_count": 60,
   "metadata": {},
   "outputs": [],
   "source": [
    "def optimize_rfc(data, targets):\n",
    "    \"\"\"Apply Bayesian Optimization to Random Forest parameters.\"\"\"\n",
    "    def rfc_crossval(n_estimators, min_samples_split, max_features):\n",
    "        \"\"\"Wrapper of RandomForest cross validation.\n",
    "        Notice how we ensure n_estimators and min_samples_split are casted\n",
    "        to integer before we pass them along. Moreover, to avoid max_features\n",
    "        taking values outside the (0, 1) range, we also ensure it is capped\n",
    "        accordingly.\n",
    "        \"\"\"\n",
    "        return rfc_cv(\n",
    "            n_estimators=int(n_estimators),\n",
    "            min_samples_split=int(min_samples_split),\n",
    "            max_features=max(min(max_features, 0.999), 1e-3),\n",
    "            data=data,\n",
    "            targets=targets,\n",
    "        )\n",
    "\n",
    "    optimizer = BayesianOptimization(\n",
    "        f=rfc_crossval,\n",
    "        pbounds={\n",
    "            \"n_estimators\": (10, 450),\n",
    "            \"min_samples_split\": (2, 25),\n",
    "            \"max_features\": (0.1, 0.999),\n",
    "        },\n",
    "        random_state=1234,\n",
    "        verbose=2\n",
    "    )\n",
    "    optimizer.maximize(n_iter=15, init_points=10)\n",
    "\n",
    "    print(\"Final result:\", optimizer.max)"
   ]
  },
  {
   "cell_type": "code",
   "execution_count": 61,
   "metadata": {},
   "outputs": [
    {
     "name": "stdout",
     "output_type": "stream",
     "text": [
      "\u001b[92m--- Optimizing Random Forest ---\u001b[0m\n",
      "|   iter    |  target   | max_fe... | min_sa... | n_esti... |\n",
      "-------------------------------------------------------------\n",
      "| \u001b[0m 1       \u001b[0m | \u001b[0m-4.193   \u001b[0m | \u001b[0m 0.2722  \u001b[0m | \u001b[0m 16.31   \u001b[0m | \u001b[0m 202.6   \u001b[0m |\n",
      "| \u001b[95m 2       \u001b[0m | \u001b[95m-4.18    \u001b[0m | \u001b[95m 0.806   \u001b[0m | \u001b[95m 19.94   \u001b[0m | \u001b[95m 129.9   \u001b[0m |\n",
      "| \u001b[0m 3       \u001b[0m | \u001b[0m-4.194   \u001b[0m | \u001b[0m 0.3485  \u001b[0m | \u001b[0m 20.44   \u001b[0m | \u001b[0m 431.6   \u001b[0m |\n",
      "| \u001b[95m 4       \u001b[0m | \u001b[95m-4.088   \u001b[0m | \u001b[95m 0.8875  \u001b[0m | \u001b[95m 10.23   \u001b[0m | \u001b[95m 230.4   \u001b[0m |\n",
      "| \u001b[0m 5       \u001b[0m | \u001b[0m-4.161   \u001b[0m | \u001b[0m 0.7144  \u001b[0m | \u001b[0m 18.39   \u001b[0m | \u001b[0m 172.9   \u001b[0m |\n",
      "| \u001b[0m 6       \u001b[0m | \u001b[0m-4.192   \u001b[0m | \u001b[0m 0.6045  \u001b[0m | \u001b[0m 13.57   \u001b[0m | \u001b[0m 16.06   \u001b[0m |\n",
      "| \u001b[0m 7       \u001b[0m | \u001b[0m-4.196   \u001b[0m | \u001b[0m 0.7948  \u001b[0m | \u001b[0m 22.3    \u001b[0m | \u001b[0m 170.5   \u001b[0m |\n",
      "| \u001b[95m 8       \u001b[0m | \u001b[95m-4.034   \u001b[0m | \u001b[95m 0.6532  \u001b[0m | \u001b[95m 3.734   \u001b[0m | \u001b[95m 172.3   \u001b[0m |\n",
      "| \u001b[0m 9       \u001b[0m | \u001b[0m-4.149   \u001b[0m | \u001b[0m 0.9389  \u001b[0m | \u001b[0m 16.98   \u001b[0m | \u001b[0m 184.8   \u001b[0m |\n",
      "| \u001b[0m 10      \u001b[0m | \u001b[0m-4.082   \u001b[0m | \u001b[0m 0.8091  \u001b[0m | \u001b[0m 9.287   \u001b[0m | \u001b[0m 260.0   \u001b[0m |\n",
      "| \u001b[95m 11      \u001b[0m | \u001b[95m-4.032   \u001b[0m | \u001b[95m 0.999   \u001b[0m | \u001b[95m 2.0     \u001b[0m | \u001b[95m 359.1   \u001b[0m |\n",
      "| \u001b[0m 12      \u001b[0m | \u001b[0m-4.038   \u001b[0m | \u001b[0m 0.8123  \u001b[0m | \u001b[0m 4.699   \u001b[0m | \u001b[0m 359.4   \u001b[0m |\n",
      "| \u001b[0m 13      \u001b[0m | \u001b[0m-4.057   \u001b[0m | \u001b[0m 0.999   \u001b[0m | \u001b[0m 2.0     \u001b[0m | \u001b[0m 70.85   \u001b[0m |\n",
      "| \u001b[0m 14      \u001b[0m | \u001b[0m-4.225   \u001b[0m | \u001b[0m 0.9561  \u001b[0m | \u001b[0m 24.99   \u001b[0m | \u001b[0m 56.84   \u001b[0m |\n",
      "| \u001b[0m 15      \u001b[0m | \u001b[0m-4.035   \u001b[0m | \u001b[0m 0.999   \u001b[0m | \u001b[0m 2.0     \u001b[0m | \u001b[0m 312.1   \u001b[0m |\n",
      "| \u001b[95m 16      \u001b[0m | \u001b[95m-4.019   \u001b[0m | \u001b[95m 0.3651  \u001b[0m | \u001b[95m 2.732   \u001b[0m | \u001b[95m 450.0   \u001b[0m |\n",
      "| \u001b[0m 17      \u001b[0m | \u001b[0m-4.032   \u001b[0m | \u001b[0m 0.999   \u001b[0m | \u001b[0m 2.0     \u001b[0m | \u001b[0m 408.1   \u001b[0m |\n",
      "| \u001b[95m 18      \u001b[0m | \u001b[95m-4.019   \u001b[0m | \u001b[95m 0.5486  \u001b[0m | \u001b[95m 2.078   \u001b[0m | \u001b[95m 241.9   \u001b[0m |\n",
      "| \u001b[0m 19      \u001b[0m | \u001b[0m-4.049   \u001b[0m | \u001b[0m 0.9984  \u001b[0m | \u001b[0m 2.18    \u001b[0m | \u001b[0m 112.1   \u001b[0m |\n",
      "| \u001b[0m 20      \u001b[0m | \u001b[0m-4.209   \u001b[0m | \u001b[0m 0.9476  \u001b[0m | \u001b[0m 24.96   \u001b[0m | \u001b[0m 316.5   \u001b[0m |\n",
      "| \u001b[0m 21      \u001b[0m | \u001b[0m-4.032   \u001b[0m | \u001b[0m 0.2514  \u001b[0m | \u001b[0m 2.069   \u001b[0m | \u001b[0m 384.8   \u001b[0m |\n",
      "| \u001b[0m 22      \u001b[0m | \u001b[0m-4.059   \u001b[0m | \u001b[0m 0.6206  \u001b[0m | \u001b[0m 2.13    \u001b[0m | \u001b[0m 40.35   \u001b[0m |\n",
      "| \u001b[0m 23      \u001b[0m | \u001b[0m-4.045   \u001b[0m | \u001b[0m 0.9896  \u001b[0m | \u001b[0m 2.24    \u001b[0m | \u001b[0m 135.3   \u001b[0m |\n",
      "| \u001b[0m 24      \u001b[0m | \u001b[0m-4.034   \u001b[0m | \u001b[0m 0.9524  \u001b[0m | \u001b[0m 2.032   \u001b[0m | \u001b[0m 280.2   \u001b[0m |\n",
      "| \u001b[0m 25      \u001b[0m | \u001b[0m-4.103   \u001b[0m | \u001b[0m 0.1     \u001b[0m | \u001b[0m 2.0     \u001b[0m | \u001b[0m 429.9   \u001b[0m |\n",
      "=============================================================\n",
      "Final result: {'target': -4.01910615147563, 'params': {'max_features': 0.5485821983830768, 'min_samples_split': 2.0775817159783943, 'n_estimators': 241.94870271493284}}\n"
     ]
    }
   ],
   "source": [
    "print(Colours.green(\"--- Optimizing Random Forest ---\"))\n",
    "optimize_rfc(train, target)"
   ]
  },
  {
   "cell_type": "code",
   "execution_count": 62,
   "metadata": {},
   "outputs": [],
   "source": [
    "rfc = RandomForestRegressor(max_features=0.5485821983830768,\n",
    "                           min_samples_split=int(2.0775817159783943), \n",
    "                           n_estimators=int(241.94870271493284),\n",
    "                            n_jobs = -1,\n",
    "                           random_state = 2)"
   ]
  },
  {
   "cell_type": "code",
   "execution_count": 63,
   "metadata": {},
   "outputs": [],
   "source": [
    "def lgb_cv(n_estimators, num_leaves, data, targets):\n",
    "    estimator = LGBMRegressor(\n",
    "        n_estimators=n_estimators,\n",
    "        num_leaves = num_leaves\n",
    "    )\n",
    "    cval = cross_val_score(estimator, data, targets,\n",
    "                           scoring=rmse, cv=5)\n",
    "    return cval.mean()"
   ]
  },
  {
   "cell_type": "code",
   "execution_count": 64,
   "metadata": {},
   "outputs": [],
   "source": [
    "def optimize_lgb(data, targets):\n",
    "    def lgb_crossval(n_estimators, num_leaves):\n",
    "        return lgb_cv(\n",
    "            n_estimators=int(n_estimators),\n",
    "            num_leaves = int(num_leaves),\n",
    "            data=data,\n",
    "            targets=targets,\n",
    "        )\n",
    "\n",
    "    optimizer = BayesianOptimization(\n",
    "        f=lgb_crossval,\n",
    "        pbounds={\n",
    "            \"n_estimators\": (400, 1000),\n",
    "            \"num_leaves\": (40,80),\n",
    "        },\n",
    "        random_state=1234,\n",
    "        verbose=2\n",
    "    )\n",
    "    optimizer.maximize(n_iter=25, init_points=20)\n",
    "\n",
    "    print(\"Final result:\", optimizer.max)"
   ]
  },
  {
   "cell_type": "code",
   "execution_count": 65,
   "metadata": {},
   "outputs": [
    {
     "name": "stdout",
     "output_type": "stream",
     "text": [
      "\u001b[94m--- Optimizing Light GBM ---\u001b[0m\n",
      "|   iter    |  target   | n_esti... | num_le... |\n",
      "-------------------------------------------------\n",
      "| \u001b[0m 1       \u001b[0m | \u001b[0m-4.045   \u001b[0m | \u001b[0m 514.9   \u001b[0m | \u001b[0m 64.88   \u001b[0m |\n",
      "| \u001b[0m 2       \u001b[0m | \u001b[0m-4.052   \u001b[0m | \u001b[0m 662.6   \u001b[0m | \u001b[0m 71.41   \u001b[0m |\n",
      "| \u001b[0m 3       \u001b[0m | \u001b[0m-4.048   \u001b[0m | \u001b[0m 868.0   \u001b[0m | \u001b[0m 50.9    \u001b[0m |\n",
      "| \u001b[0m 4       \u001b[0m | \u001b[0m-4.077   \u001b[0m | \u001b[0m 565.9   \u001b[0m | \u001b[0m 72.07   \u001b[0m |\n",
      "| \u001b[0m 5       \u001b[0m | \u001b[0m-4.086   \u001b[0m | \u001b[0m 974.9   \u001b[0m | \u001b[0m 75.04   \u001b[0m |\n",
      "| \u001b[0m 6       \u001b[0m | \u001b[0m-4.066   \u001b[0m | \u001b[0m 614.7   \u001b[0m | \u001b[0m 60.04   \u001b[0m |\n",
      "| \u001b[0m 7       \u001b[0m | \u001b[0m-4.046   \u001b[0m | \u001b[0m 810.1   \u001b[0m | \u001b[0m 68.51   \u001b[0m |\n",
      "| \u001b[0m 8       \u001b[0m | \u001b[0m-4.063   \u001b[0m | \u001b[0m 622.2   \u001b[0m | \u001b[0m 62.45   \u001b[0m |\n",
      "| \u001b[0m 9       \u001b[0m | \u001b[0m-4.068   \u001b[0m | \u001b[0m 701.8   \u001b[0m | \u001b[0m 40.55   \u001b[0m |\n",
      "| \u001b[0m 10      \u001b[0m | \u001b[0m-4.085   \u001b[0m | \u001b[0m 863.7   \u001b[0m | \u001b[0m 75.31   \u001b[0m |\n",
      "| \u001b[0m 11      \u001b[0m | \u001b[0m-4.047   \u001b[0m | \u001b[0m 618.9   \u001b[0m | \u001b[0m 64.62   \u001b[0m |\n",
      "| \u001b[95m 12      \u001b[0m | \u001b[95m-4.041   \u001b[0m | \u001b[95m 445.2   \u001b[0m | \u001b[95m 54.75   \u001b[0m |\n",
      "| \u001b[0m 13      \u001b[0m | \u001b[0m-4.062   \u001b[0m | \u001b[0m 959.9   \u001b[0m | \u001b[0m 66.06   \u001b[0m |\n",
      "| \u001b[0m 14      \u001b[0m | \u001b[0m-4.052   \u001b[0m | \u001b[0m 638.3   \u001b[0m | \u001b[0m 71.55   \u001b[0m |\n",
      "| \u001b[0m 15      \u001b[0m | \u001b[0m-4.062   \u001b[0m | \u001b[0m 590.1   \u001b[0m | \u001b[0m 62.72   \u001b[0m |\n",
      "| \u001b[0m 16      \u001b[0m | \u001b[0m-4.07    \u001b[0m | \u001b[0m 921.5   \u001b[0m | \u001b[0m 57.45   \u001b[0m |\n",
      "| \u001b[0m 17      \u001b[0m | \u001b[0m-4.061   \u001b[0m | \u001b[0m 881.3   \u001b[0m | \u001b[0m 45.75   \u001b[0m |\n",
      "| \u001b[0m 18      \u001b[0m | \u001b[0m-4.046   \u001b[0m | \u001b[0m 822.6   \u001b[0m | \u001b[0m 68.18   \u001b[0m |\n",
      "| \u001b[0m 19      \u001b[0m | \u001b[0m-4.087   \u001b[0m | \u001b[0m 531.3   \u001b[0m | \u001b[0m 76.99   \u001b[0m |\n",
      "| \u001b[0m 20      \u001b[0m | \u001b[0m-4.092   \u001b[0m | \u001b[0m 665.3   \u001b[0m | \u001b[0m 76.37   \u001b[0m |\n",
      "| \u001b[0m 21      \u001b[0m | \u001b[0m-4.045   \u001b[0m | \u001b[0m 400.0   \u001b[0m | \u001b[0m 80.0    \u001b[0m |\n",
      "| \u001b[0m 22      \u001b[0m | \u001b[0m-4.06    \u001b[0m | \u001b[0m 1e+03   \u001b[0m | \u001b[0m 41.54   \u001b[0m |\n",
      "| \u001b[0m 23      \u001b[0m | \u001b[0m-4.069   \u001b[0m | \u001b[0m 400.0   \u001b[0m | \u001b[0m 40.0    \u001b[0m |\n",
      "| \u001b[0m 24      \u001b[0m | \u001b[0m-4.071   \u001b[0m | \u001b[0m 792.5   \u001b[0m | \u001b[0m 40.0    \u001b[0m |\n",
      "| \u001b[0m 25      \u001b[0m | \u001b[0m-4.059   \u001b[0m | \u001b[0m 472.8   \u001b[0m | \u001b[0m 79.49   \u001b[0m |\n",
      "| \u001b[0m 26      \u001b[0m | \u001b[0m-4.065   \u001b[0m | \u001b[0m 481.7   \u001b[0m | \u001b[0m 40.0    \u001b[0m |\n",
      "| \u001b[0m 27      \u001b[0m | \u001b[0m-4.073   \u001b[0m | \u001b[0m 955.1   \u001b[0m | \u001b[0m 40.17   \u001b[0m |\n",
      "| \u001b[0m 28      \u001b[0m | \u001b[0m-4.067   \u001b[0m | \u001b[0m 672.6   \u001b[0m | \u001b[0m 40.21   \u001b[0m |\n",
      "| \u001b[0m 29      \u001b[0m | \u001b[0m-4.053   \u001b[0m | \u001b[0m 751.1   \u001b[0m | \u001b[0m 64.4    \u001b[0m |\n",
      "| \u001b[0m 30      \u001b[0m | \u001b[0m-4.063   \u001b[0m | \u001b[0m 598.5   \u001b[0m | \u001b[0m 79.91   \u001b[0m |\n",
      "| \u001b[0m 31      \u001b[0m | \u001b[0m-4.065   \u001b[0m | \u001b[0m 533.3   \u001b[0m | \u001b[0m 40.06   \u001b[0m |\n",
      "| \u001b[95m 32      \u001b[0m | \u001b[95m-4.037   \u001b[0m | \u001b[95m 448.8   \u001b[0m | \u001b[95m 53.92   \u001b[0m |\n",
      "| \u001b[0m 33      \u001b[0m | \u001b[0m-4.07    \u001b[0m | \u001b[0m 833.7   \u001b[0m | \u001b[0m 40.07   \u001b[0m |\n",
      "| \u001b[0m 34      \u001b[0m | \u001b[0m-4.069   \u001b[0m | \u001b[0m 751.5   \u001b[0m | \u001b[0m 40.18   \u001b[0m |\n",
      "| \u001b[0m 35      \u001b[0m | \u001b[0m-4.07    \u001b[0m | \u001b[0m 927.3   \u001b[0m | \u001b[0m 80.0    \u001b[0m |\n",
      "| \u001b[0m 36      \u001b[0m | \u001b[0m-4.054   \u001b[0m | \u001b[0m 683.0   \u001b[0m | \u001b[0m 56.58   \u001b[0m |\n",
      "| \u001b[0m 37      \u001b[0m | \u001b[0m-4.067   \u001b[0m | \u001b[0m 777.5   \u001b[0m | \u001b[0m 79.99   \u001b[0m |\n",
      "| \u001b[0m 38      \u001b[0m | \u001b[0m-4.057   \u001b[0m | \u001b[0m 438.7   \u001b[0m | \u001b[0m 79.73   \u001b[0m |\n",
      "| \u001b[0m 39      \u001b[0m | \u001b[0m-4.067   \u001b[0m | \u001b[0m 776.0   \u001b[0m | \u001b[0m 58.8    \u001b[0m |\n",
      "| \u001b[0m 40      \u001b[0m | \u001b[0m-4.072   \u001b[0m | \u001b[0m 999.9   \u001b[0m | \u001b[0m 79.34   \u001b[0m |\n",
      "| \u001b[0m 41      \u001b[0m | \u001b[0m-4.058   \u001b[0m | \u001b[0m 400.1   \u001b[0m | \u001b[0m 62.07   \u001b[0m |\n",
      "| \u001b[0m 42      \u001b[0m | \u001b[0m-4.06    \u001b[0m | \u001b[0m 476.4   \u001b[0m | \u001b[0m 60.88   \u001b[0m |\n",
      "| \u001b[0m 43      \u001b[0m | \u001b[0m-4.069   \u001b[0m | \u001b[0m 437.8   \u001b[0m | \u001b[0m 40.16   \u001b[0m |\n",
      "| \u001b[0m 44      \u001b[0m | \u001b[0m-4.063   \u001b[0m | \u001b[0m 536.8   \u001b[0m | \u001b[0m 57.07   \u001b[0m |\n",
      "| \u001b[0m 45      \u001b[0m | \u001b[0m-4.073   \u001b[0m | \u001b[0m 999.8   \u001b[0m | \u001b[0m 58.4    \u001b[0m |\n",
      "=================================================\n",
      "Final result: {'target': -4.036821671062259, 'params': {'n_estimators': 448.78370114525615, 'num_leaves': 53.92397448222811}}\n"
     ]
    }
   ],
   "source": [
    "print(Colours.blue(\"--- Optimizing Light GBM ---\"))\n",
    "optimize_lgb(train, target)"
   ]
  },
  {
   "cell_type": "code",
   "execution_count": 10,
   "metadata": {},
   "outputs": [],
   "source": [
    "lgb = LGBMRegressor(n_estimators=int(431.84798648371225),\n",
    "                    num_leaves = int(46.27797904226284),\n",
    "                   random_state = 2)"
   ]
  },
  {
   "cell_type": "code",
   "execution_count": 34,
   "metadata": {},
   "outputs": [],
   "source": [
    "def xgb_cv(n_estimators, max_depth, data, targets):\n",
    "    estimator = LGBMRegressor(\n",
    "        n_estimators=n_estimators,\n",
    "        max_depth = max_depth\n",
    "    )\n",
    "    cval = cross_val_score(estimator, data, targets,\n",
    "                           scoring=rmse, cv=5)\n",
    "    return cval.mean()"
   ]
  },
  {
   "cell_type": "code",
   "execution_count": 49,
   "metadata": {},
   "outputs": [],
   "source": [
    "def optimize_xgb(data, targets):\n",
    "    def xgb_crossval(n_estimators, max_depth):\n",
    "        return xgb_cv(\n",
    "            n_estimators=int(n_estimators),\n",
    "            max_depth = int(max_depth),\n",
    "            data=data,\n",
    "            targets=targets,\n",
    "        )\n",
    "\n",
    "    optimizer = BayesianOptimization(\n",
    "        f=xgb_crossval,\n",
    "        pbounds={\n",
    "            \"n_estimators\": (250, 600),\n",
    "            \"max_depth\": (6,15),\n",
    "        },\n",
    "        random_state=1234,\n",
    "        verbose=2\n",
    "    )\n",
    "    optimizer.maximize(n_iter=25, init_points=20)\n",
    "\n",
    "    print(\"Final result:\", optimizer.max)"
   ]
  },
  {
   "cell_type": "code",
   "execution_count": 50,
   "metadata": {},
   "outputs": [
    {
     "name": "stdout",
     "output_type": "stream",
     "text": [
      "\u001b[91m--- Optimizing XGBoost ---\u001b[0m\n",
      "|   iter    |  target   | max_depth | n_esti... |\n",
      "-------------------------------------------------\n",
      "| \u001b[0m 1       \u001b[0m | \u001b[0m-4.107   \u001b[0m | \u001b[0m 7.724   \u001b[0m | \u001b[0m 467.7   \u001b[0m |\n",
      "| \u001b[95m 2       \u001b[0m | \u001b[95m-4.082   \u001b[0m | \u001b[95m 9.94    \u001b[0m | \u001b[95m 524.9   \u001b[0m |\n",
      "| \u001b[0m 3       \u001b[0m | \u001b[0m-4.087   \u001b[0m | \u001b[0m 13.02   \u001b[0m | \u001b[0m 345.4   \u001b[0m |\n",
      "| \u001b[0m 4       \u001b[0m | \u001b[0m-4.098   \u001b[0m | \u001b[0m 8.488   \u001b[0m | \u001b[0m 530.7   \u001b[0m |\n",
      "| \u001b[95m 5       \u001b[0m | \u001b[95m-4.066   \u001b[0m | \u001b[95m 14.62   \u001b[0m | \u001b[95m 556.6   \u001b[0m |\n",
      "| \u001b[0m 6       \u001b[0m | \u001b[0m-4.09    \u001b[0m | \u001b[0m 9.22    \u001b[0m | \u001b[0m 425.3   \u001b[0m |\n",
      "| \u001b[0m 7       \u001b[0m | \u001b[0m-4.083   \u001b[0m | \u001b[0m 12.15   \u001b[0m | \u001b[0m 499.4   \u001b[0m |\n",
      "| \u001b[0m 8       \u001b[0m | \u001b[0m-4.091   \u001b[0m | \u001b[0m 9.332   \u001b[0m | \u001b[0m 446.4   \u001b[0m |\n",
      "| \u001b[0m 9       \u001b[0m | \u001b[0m-4.119   \u001b[0m | \u001b[0m 10.53   \u001b[0m | \u001b[0m 254.8   \u001b[0m |\n",
      "| \u001b[0m 10      \u001b[0m | \u001b[0m-4.08    \u001b[0m | \u001b[0m 12.96   \u001b[0m | \u001b[0m 558.9   \u001b[0m |\n",
      "| \u001b[0m 11      \u001b[0m | \u001b[0m-4.088   \u001b[0m | \u001b[0m 9.284   \u001b[0m | \u001b[0m 465.4   \u001b[0m |\n",
      "| \u001b[0m 12      \u001b[0m | \u001b[0m-4.111   \u001b[0m | \u001b[0m 6.678   \u001b[0m | \u001b[0m 379.1   \u001b[0m |\n",
      "| \u001b[0m 13      \u001b[0m | \u001b[0m-4.067   \u001b[0m | \u001b[0m 14.4    \u001b[0m | \u001b[0m 478.0   \u001b[0m |\n",
      "| \u001b[0m 14      \u001b[0m | \u001b[0m-4.082   \u001b[0m | \u001b[0m 9.575   \u001b[0m | \u001b[0m 526.1   \u001b[0m |\n",
      "| \u001b[0m 15      \u001b[0m | \u001b[0m-4.101   \u001b[0m | \u001b[0m 8.852   \u001b[0m | \u001b[0m 448.8   \u001b[0m |\n",
      "| \u001b[0m 16      \u001b[0m | \u001b[0m-4.081   \u001b[0m | \u001b[0m 13.82   \u001b[0m | \u001b[0m 402.7   \u001b[0m |\n",
      "| \u001b[0m 17      \u001b[0m | \u001b[0m-4.097   \u001b[0m | \u001b[0m 13.22   \u001b[0m | \u001b[0m 300.3   \u001b[0m |\n",
      "| \u001b[0m 18      \u001b[0m | \u001b[0m-4.083   \u001b[0m | \u001b[0m 12.34   \u001b[0m | \u001b[0m 496.6   \u001b[0m |\n",
      "| \u001b[0m 19      \u001b[0m | \u001b[0m-4.105   \u001b[0m | \u001b[0m 7.969   \u001b[0m | \u001b[0m 573.7   \u001b[0m |\n",
      "| \u001b[0m 20      \u001b[0m | \u001b[0m-4.081   \u001b[0m | \u001b[0m 9.979   \u001b[0m | \u001b[0m 568.3   \u001b[0m |\n",
      "| \u001b[95m 21      \u001b[0m | \u001b[95m-4.066   \u001b[0m | \u001b[95m 14.95   \u001b[0m | \u001b[95m 599.7   \u001b[0m |\n",
      "| \u001b[0m 22      \u001b[0m | \u001b[0m-4.124   \u001b[0m | \u001b[0m 6.029   \u001b[0m | \u001b[0m 319.6   \u001b[0m |\n",
      "| \u001b[0m 23      \u001b[0m | \u001b[0m-4.139   \u001b[0m | \u001b[0m 6.053   \u001b[0m | \u001b[0m 276.8   \u001b[0m |\n",
      "| \u001b[95m 24      \u001b[0m | \u001b[95m-4.066   \u001b[0m | \u001b[95m 14.91   \u001b[0m | \u001b[95m 581.8   \u001b[0m |\n",
      "| \u001b[0m 25      \u001b[0m | \u001b[0m-4.082   \u001b[0m | \u001b[0m 15.0    \u001b[0m | \u001b[0m 371.0   \u001b[0m |\n",
      "| \u001b[0m 26      \u001b[0m | \u001b[0m-4.068   \u001b[0m | \u001b[0m 14.97   \u001b[0m | \u001b[0m 433.9   \u001b[0m |\n",
      "| \u001b[0m 27      \u001b[0m | \u001b[0m-4.1     \u001b[0m | \u001b[0m 14.99   \u001b[0m | \u001b[0m 271.7   \u001b[0m |\n",
      "| \u001b[0m 28      \u001b[0m | \u001b[0m-4.085   \u001b[0m | \u001b[0m 14.96   \u001b[0m | \u001b[0m 322.6   \u001b[0m |\n",
      "| \u001b[95m 29      \u001b[0m | \u001b[95m-4.065   \u001b[0m | \u001b[95m 14.99   \u001b[0m | \u001b[95m 531.1   \u001b[0m |\n",
      "| \u001b[0m 30      \u001b[0m | \u001b[0m-4.068   \u001b[0m | \u001b[0m 14.98   \u001b[0m | \u001b[0m 457.8   \u001b[0m |\n",
      "| \u001b[0m 31      \u001b[0m | \u001b[0m-4.112   \u001b[0m | \u001b[0m 15.0    \u001b[0m | \u001b[0m 250.0   \u001b[0m |\n",
      "| \u001b[0m 32      \u001b[0m | \u001b[0m-4.066   \u001b[0m | \u001b[0m 14.99   \u001b[0m | \u001b[0m 568.5   \u001b[0m |\n",
      "| \u001b[0m 33      \u001b[0m | \u001b[0m-4.079   \u001b[0m | \u001b[0m 14.91   \u001b[0m | \u001b[0m 388.0   \u001b[0m |\n",
      "| \u001b[0m 34      \u001b[0m | \u001b[0m-4.116   \u001b[0m | \u001b[0m 6.092   \u001b[0m | \u001b[0m 354.7   \u001b[0m |\n",
      "| \u001b[0m 35      \u001b[0m | \u001b[0m-4.066   \u001b[0m | \u001b[0m 14.97   \u001b[0m | \u001b[0m 509.8   \u001b[0m |\n",
      "| \u001b[0m 36      \u001b[0m | \u001b[0m-4.067   \u001b[0m | \u001b[0m 14.97   \u001b[0m | \u001b[0m 468.7   \u001b[0m |\n",
      "| \u001b[0m 37      \u001b[0m | \u001b[0m-4.106   \u001b[0m | \u001b[0m 6.071   \u001b[0m | \u001b[0m 401.4   \u001b[0m |\n",
      "| \u001b[0m 38      \u001b[0m | \u001b[0m-4.066   \u001b[0m | \u001b[0m 14.72   \u001b[0m | \u001b[0m 543.0   \u001b[0m |\n",
      "| \u001b[0m 39      \u001b[0m | \u001b[0m-4.065   \u001b[0m | \u001b[0m 14.78   \u001b[0m | \u001b[0m 591.6   \u001b[0m |\n",
      "| \u001b[0m 40      \u001b[0m | \u001b[0m-4.084   \u001b[0m | \u001b[0m 14.97   \u001b[0m | \u001b[0m 355.6   \u001b[0m |\n",
      "| \u001b[0m 41      \u001b[0m | \u001b[0m-4.093   \u001b[0m | \u001b[0m 14.94   \u001b[0m | \u001b[0m 289.1   \u001b[0m |\n",
      "| \u001b[0m 42      \u001b[0m | \u001b[0m-4.074   \u001b[0m | \u001b[0m 14.98   \u001b[0m | \u001b[0m 417.0   \u001b[0m |\n",
      "| \u001b[0m 43      \u001b[0m | \u001b[0m-4.068   \u001b[0m | \u001b[0m 14.93   \u001b[0m | \u001b[0m 442.0   \u001b[0m |\n",
      "| \u001b[95m 44      \u001b[0m | \u001b[95m-4.065   \u001b[0m | \u001b[95m 14.98   \u001b[0m | \u001b[95m 519.1   \u001b[0m |\n",
      "| \u001b[0m 45      \u001b[0m | \u001b[0m-4.067   \u001b[0m | \u001b[0m 14.98   \u001b[0m | \u001b[0m 485.1   \u001b[0m |\n",
      "=================================================\n",
      "Final result: {'target': -4.064607477320492, 'params': {'max_depth': 14.984121412840341, 'n_estimators': 519.1058063632252}}\n"
     ]
    }
   ],
   "source": [
    "print(Colours.red(\"--- Optimizing XGBoost ---\"))\n",
    "optimize_xgb(train, target)"
   ]
  },
  {
   "cell_type": "code",
   "execution_count": 11,
   "metadata": {},
   "outputs": [],
   "source": [
    "xgb = XGBRegressor(n_estimators = int(519.1058063632252),\n",
    "                  max_depth = int(14.984121412840341),\n",
    "                  random_state = 2)"
   ]
  },
  {
   "cell_type": "code",
   "execution_count": 44,
   "metadata": {},
   "outputs": [],
   "source": [
    "def etc_cv(n_estimators, min_samples_split, max_features, data, targets):\n",
    "    estimator = ExtraTreesRegressor(\n",
    "        n_estimators=n_estimators,\n",
    "        min_samples_split=min_samples_split,\n",
    "        max_features=max_features,\n",
    "        random_state=2,\n",
    "        n_jobs = -1\n",
    "    )\n",
    "    cval = cross_val_score(estimator, data, targets,\n",
    "                           scoring=rmse, cv=5)\n",
    "    return cval.mean()"
   ]
  },
  {
   "cell_type": "code",
   "execution_count": 45,
   "metadata": {},
   "outputs": [],
   "source": [
    "def optimize_etc(data, targets):\n",
    "    def etc_crossval(n_estimators, min_samples_split, max_features):\n",
    "        return etc_cv(\n",
    "            n_estimators=int(n_estimators),\n",
    "            min_samples_split=int(min_samples_split),\n",
    "            max_features=max(min(max_features, 0.999), 1e-3),\n",
    "            data=data,\n",
    "            targets=targets,\n",
    "        )\n",
    "\n",
    "    optimizer = BayesianOptimization(\n",
    "        f=etc_crossval,\n",
    "        pbounds={\n",
    "            \"n_estimators\": (200, 400),\n",
    "            \"min_samples_split\": (2, 25),\n",
    "            \"max_features\": (0.1, 0.999),\n",
    "        },\n",
    "        random_state=1234,\n",
    "        verbose=2\n",
    "    )\n",
    "    optimizer.maximize(n_iter=15, init_points=10)\n",
    "\n",
    "    print(\"Final result:\", optimizer.max)"
   ]
  },
  {
   "cell_type": "code",
   "execution_count": 47,
   "metadata": {},
   "outputs": [
    {
     "name": "stdout",
     "output_type": "stream",
     "text": [
      "\u001b[93m--- Optimizing Extra Trees ---\u001b[0m\n",
      "|   iter    |  target   | max_fe... | min_sa... | n_esti... |\n",
      "-------------------------------------------------------------\n",
      "| \u001b[0m 1       \u001b[0m | \u001b[0m-4.291   \u001b[0m | \u001b[0m 0.2722  \u001b[0m | \u001b[0m 16.31   \u001b[0m | \u001b[0m 287.5   \u001b[0m |\n",
      "| \u001b[95m 2       \u001b[0m | \u001b[95m-4.167   \u001b[0m | \u001b[95m 0.806   \u001b[0m | \u001b[95m 19.94   \u001b[0m | \u001b[95m 254.5   \u001b[0m |\n",
      "| \u001b[0m 3       \u001b[0m | \u001b[0m-4.275   \u001b[0m | \u001b[0m 0.3485  \u001b[0m | \u001b[0m 20.44   \u001b[0m | \u001b[0m 391.6   \u001b[0m |\n",
      "| \u001b[95m 4       \u001b[0m | \u001b[95m-4.038   \u001b[0m | \u001b[95m 0.8875  \u001b[0m | \u001b[95m 10.23   \u001b[0m | \u001b[95m 300.2   \u001b[0m |\n",
      "| \u001b[0m 5       \u001b[0m | \u001b[0m-4.165   \u001b[0m | \u001b[0m 0.7144  \u001b[0m | \u001b[0m 18.39   \u001b[0m | \u001b[0m 274.1   \u001b[0m |\n",
      "| \u001b[0m 6       \u001b[0m | \u001b[0m-4.112   \u001b[0m | \u001b[0m 0.6045  \u001b[0m | \u001b[0m 13.57   \u001b[0m | \u001b[0m 202.8   \u001b[0m |\n",
      "| \u001b[0m 7       \u001b[0m | \u001b[0m-4.208   \u001b[0m | \u001b[0m 0.7948  \u001b[0m | \u001b[0m 22.3    \u001b[0m | \u001b[0m 273.0   \u001b[0m |\n",
      "| \u001b[95m 8       \u001b[0m | \u001b[95m-3.934   \u001b[0m | \u001b[95m 0.6532  \u001b[0m | \u001b[95m 3.734   \u001b[0m | \u001b[95m 273.8   \u001b[0m |\n",
      "| \u001b[0m 9       \u001b[0m | \u001b[0m-4.117   \u001b[0m | \u001b[0m 0.9389  \u001b[0m | \u001b[0m 16.98   \u001b[0m | \u001b[0m 279.4   \u001b[0m |\n",
      "| \u001b[0m 10      \u001b[0m | \u001b[0m-4.017   \u001b[0m | \u001b[0m 0.8091  \u001b[0m | \u001b[0m 9.287   \u001b[0m | \u001b[0m 313.6   \u001b[0m |\n",
      "| \u001b[95m 11      \u001b[0m | \u001b[95m-3.911   \u001b[0m | \u001b[95m 0.999   \u001b[0m | \u001b[95m 2.0     \u001b[0m | \u001b[95m 356.7   \u001b[0m |\n",
      "| \u001b[0m 12      \u001b[0m | \u001b[0m-4.222   \u001b[0m | \u001b[0m 0.999   \u001b[0m | \u001b[0m 25.0    \u001b[0m | \u001b[0m 350.2   \u001b[0m |\n",
      "| \u001b[0m 13      \u001b[0m | \u001b[0m-3.915   \u001b[0m | \u001b[0m 0.999   \u001b[0m | \u001b[0m 2.0     \u001b[0m | \u001b[0m 229.6   \u001b[0m |\n",
      "| \u001b[0m 14      \u001b[0m | \u001b[0m-3.912   \u001b[0m | \u001b[0m 0.8866  \u001b[0m | \u001b[0m 2.291   \u001b[0m | \u001b[0m 399.3   \u001b[0m |\n",
      "| \u001b[0m 15      \u001b[0m | \u001b[0m-4.224   \u001b[0m | \u001b[0m 0.999   \u001b[0m | \u001b[0m 25.0    \u001b[0m | \u001b[0m 224.4   \u001b[0m |\n",
      "| \u001b[95m 16      \u001b[0m | \u001b[95m-3.91    \u001b[0m | \u001b[95m 0.999   \u001b[0m | \u001b[95m 2.0     \u001b[0m | \u001b[95m 378.2   \u001b[0m |\n",
      "| \u001b[0m 17      \u001b[0m | \u001b[0m-3.911   \u001b[0m | \u001b[0m 0.999   \u001b[0m | \u001b[0m 2.0     \u001b[0m | \u001b[0m 333.3   \u001b[0m |\n",
      "| \u001b[0m 18      \u001b[0m | \u001b[0m-3.916   \u001b[0m | \u001b[0m 0.999   \u001b[0m | \u001b[0m 2.0     \u001b[0m | \u001b[0m 200.0   \u001b[0m |\n",
      "| \u001b[0m 19      \u001b[0m | \u001b[0m-3.92    \u001b[0m | \u001b[0m 0.8703  \u001b[0m | \u001b[0m 2.002   \u001b[0m | \u001b[0m 301.4   \u001b[0m |\n",
      "| \u001b[0m 20      \u001b[0m | \u001b[0m-3.912   \u001b[0m | \u001b[0m 0.999   \u001b[0m | \u001b[0m 2.0     \u001b[0m | \u001b[0m 249.8   \u001b[0m |\n",
      "| \u001b[0m 21      \u001b[0m | \u001b[0m-4.221   \u001b[0m | \u001b[0m 0.999   \u001b[0m | \u001b[0m 25.0    \u001b[0m | \u001b[0m 326.2   \u001b[0m |\n",
      "| \u001b[0m 22      \u001b[0m | \u001b[0m-3.914   \u001b[0m | \u001b[0m 0.999   \u001b[0m | \u001b[0m 2.0     \u001b[0m | \u001b[0m 213.5   \u001b[0m |\n",
      "| \u001b[0m 23      \u001b[0m | \u001b[0m-4.011   \u001b[0m | \u001b[0m 0.999   \u001b[0m | \u001b[0m 9.989   \u001b[0m | \u001b[0m 342.6   \u001b[0m |\n",
      "| \u001b[0m 24      \u001b[0m | \u001b[0m-4.422   \u001b[0m | \u001b[0m 0.1628  \u001b[0m | \u001b[0m 13.14   \u001b[0m | \u001b[0m 369.0   \u001b[0m |\n",
      "| \u001b[0m 25      \u001b[0m | \u001b[0m-3.942   \u001b[0m | \u001b[0m 0.3698  \u001b[0m | \u001b[0m 2.024   \u001b[0m | \u001b[0m 389.7   \u001b[0m |\n",
      "=============================================================\n",
      "Final result: {'target': -3.909836879613175, 'params': {'max_features': 0.999, 'min_samples_split': 2.0, 'n_estimators': 378.21212316566664}}\n"
     ]
    }
   ],
   "source": [
    "print(Colours.yellow(\"--- Optimizing Extra Trees ---\"))\n",
    "optimize_etc(train, target)"
   ]
  },
  {
   "cell_type": "code",
   "execution_count": 16,
   "metadata": {},
   "outputs": [],
   "source": [
    "from sklearn.ensemble import StackingRegressor\n",
    "\n",
    "estimators = [('etc', etc), ('rfc', rfc), ('xgb', xgb), ('lgb', lgb)]\n",
    "\n",
    "model = StackingRegressor(estimators=estimators)\n",
    "\n",
    "# scores = cross_val_score(model, train, target, cv = 5, scoring = rmse)"
   ]
  },
  {
   "cell_type": "code",
   "execution_count": 14,
   "metadata": {},
   "outputs": [
    {
     "data": {
      "text/plain": [
       "-3.85421365629905"
      ]
     },
     "execution_count": 14,
     "metadata": {},
     "output_type": "execute_result"
    }
   ],
   "source": [
    "scores.mean()"
   ]
  },
  {
   "cell_type": "code",
   "execution_count": 17,
   "metadata": {},
   "outputs": [
    {
     "data": {
      "text/plain": [
       "StackingRegressor(cv=None,\n",
       "                  estimators=[('etc',\n",
       "                               ExtraTreesRegressor(bootstrap=False,\n",
       "                                                   ccp_alpha=0.0,\n",
       "                                                   criterion='mse',\n",
       "                                                   max_depth=None,\n",
       "                                                   max_features=0.999,\n",
       "                                                   max_leaf_nodes=None,\n",
       "                                                   max_samples=None,\n",
       "                                                   min_impurity_decrease=0.0,\n",
       "                                                   min_impurity_split=None,\n",
       "                                                   min_samples_leaf=1,\n",
       "                                                   min_samples_split=2,\n",
       "                                                   min_weight_fraction_leaf=0.0,\n",
       "                                                   n_estimators=378, n_jobs=-1,\n",
       "                                                   oob_score=False,\n",
       "                                                   random_...\n",
       "                                             importance_type='split',\n",
       "                                             learning_rate=0.1, max_depth=-1,\n",
       "                                             min_child_samples=20,\n",
       "                                             min_child_weight=0.001,\n",
       "                                             min_split_gain=0.0,\n",
       "                                             n_estimators=431, n_jobs=-1,\n",
       "                                             num_leaves=46, objective=None,\n",
       "                                             random_state=2, reg_alpha=0.0,\n",
       "                                             reg_lambda=0.0, silent=True,\n",
       "                                             subsample=1.0,\n",
       "                                             subsample_for_bin=200000,\n",
       "                                             subsample_freq=0))],\n",
       "                  final_estimator=None, n_jobs=None, passthrough=False,\n",
       "                  verbose=0)"
      ]
     },
     "execution_count": 17,
     "metadata": {},
     "output_type": "execute_result"
    }
   ],
   "source": [
    "model.fit(train, target)"
   ]
  },
  {
   "cell_type": "code",
   "execution_count": 18,
   "metadata": {},
   "outputs": [],
   "source": [
    "test = pd.read_csv('/run/media/devesh/Hard Disk/Projects/Machinehack-Melanoma Tumor Size Predicition/input/Test.csv')"
   ]
  },
  {
   "cell_type": "code",
   "execution_count": 19,
   "metadata": {},
   "outputs": [],
   "source": [
    "preds = model.predict(test)"
   ]
  },
  {
   "cell_type": "code",
   "execution_count": 20,
   "metadata": {},
   "outputs": [],
   "source": [
    "sub = pd.read_csv('/run/media/devesh/Hard Disk/Projects/Machinehack-Melanoma Tumor Size Predicition/input/sample_submission.csv')"
   ]
  },
  {
   "cell_type": "code",
   "execution_count": 21,
   "metadata": {},
   "outputs": [],
   "source": [
    "sub['tumor_size'] = preds"
   ]
  },
  {
   "cell_type": "code",
   "execution_count": 22,
   "metadata": {},
   "outputs": [],
   "source": [
    "sub.to_csv('sub_3.csv', index = False)"
   ]
  },
  {
   "cell_type": "code",
   "execution_count": null,
   "metadata": {},
   "outputs": [],
   "source": []
  }
 ],
 "metadata": {
  "kernelspec": {
   "display_name": "Python 3",
   "language": "python",
   "name": "python3"
  },
  "language_info": {
   "codemirror_mode": {
    "name": "ipython",
    "version": 3
   },
   "file_extension": ".py",
   "mimetype": "text/x-python",
   "name": "python",
   "nbconvert_exporter": "python",
   "pygments_lexer": "ipython3",
   "version": "3.7.6"
  }
 },
 "nbformat": 4,
 "nbformat_minor": 4
}
