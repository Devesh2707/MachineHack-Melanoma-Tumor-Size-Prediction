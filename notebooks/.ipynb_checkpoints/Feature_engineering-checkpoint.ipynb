{
 "cells": [
  {
   "cell_type": "code",
   "execution_count": 1,
   "metadata": {},
   "outputs": [],
   "source": [
    "import pandas as pd\n",
    "import numpy as np\n",
    "import matplotlib.pyplot as plt\n",
    "import seaborn as sns\n",
    "\n",
    "plt.style.use('fivethirtyeight')"
   ]
  },
  {
   "cell_type": "code",
   "execution_count": 67,
   "metadata": {},
   "outputs": [],
   "source": [
    "train_ori = pd.read_csv('/run/media/devesh/Hard Disk/Projects/Machinehack-Melanoma Tumor Size Predicition/input/Train.csv')"
   ]
  },
  {
   "cell_type": "code",
   "execution_count": 68,
   "metadata": {},
   "outputs": [
    {
     "data": {
      "text/html": [
       "<div>\n",
       "<style scoped>\n",
       "    .dataframe tbody tr th:only-of-type {\n",
       "        vertical-align: middle;\n",
       "    }\n",
       "\n",
       "    .dataframe tbody tr th {\n",
       "        vertical-align: top;\n",
       "    }\n",
       "\n",
       "    .dataframe thead th {\n",
       "        text-align: right;\n",
       "    }\n",
       "</style>\n",
       "<table border=\"1\" class=\"dataframe\">\n",
       "  <thead>\n",
       "    <tr style=\"text-align: right;\">\n",
       "      <th></th>\n",
       "      <th>mass_npea</th>\n",
       "      <th>size_npear</th>\n",
       "      <th>malign_ratio</th>\n",
       "      <th>damage_size</th>\n",
       "      <th>exposed_area</th>\n",
       "      <th>std_dev_malign</th>\n",
       "      <th>err_malign</th>\n",
       "      <th>malign_penalty</th>\n",
       "      <th>damage_ratio</th>\n",
       "      <th>tumor_size</th>\n",
       "    </tr>\n",
       "  </thead>\n",
       "  <tbody>\n",
       "    <tr>\n",
       "      <th>0</th>\n",
       "      <td>6930.90</td>\n",
       "      <td>2919.02</td>\n",
       "      <td>0.42116</td>\n",
       "      <td>51.8298</td>\n",
       "      <td>9.888294e+05</td>\n",
       "      <td>109.487</td>\n",
       "      <td>2758.76</td>\n",
       "      <td>72</td>\n",
       "      <td>39.3620</td>\n",
       "      <td>14.103</td>\n",
       "    </tr>\n",
       "    <tr>\n",
       "      <th>1</th>\n",
       "      <td>15635.70</td>\n",
       "      <td>4879.36</td>\n",
       "      <td>0.31206</td>\n",
       "      <td>223.5500</td>\n",
       "      <td>2.058426e+06</td>\n",
       "      <td>248.881</td>\n",
       "      <td>5952.53</td>\n",
       "      <td>240</td>\n",
       "      <td>22.0253</td>\n",
       "      <td>2.648</td>\n",
       "    </tr>\n",
       "    <tr>\n",
       "      <th>2</th>\n",
       "      <td>10376.20</td>\n",
       "      <td>2613.88</td>\n",
       "      <td>0.25191</td>\n",
       "      <td>127.3370</td>\n",
       "      <td>1.434676e+06</td>\n",
       "      <td>160.093</td>\n",
       "      <td>4635.26</td>\n",
       "      <td>73</td>\n",
       "      <td>29.9963</td>\n",
       "      <td>1.688</td>\n",
       "    </tr>\n",
       "    <tr>\n",
       "      <th>3</th>\n",
       "      <td>13093.80</td>\n",
       "      <td>4510.06</td>\n",
       "      <td>0.34444</td>\n",
       "      <td>155.4400</td>\n",
       "      <td>1.812195e+06</td>\n",
       "      <td>173.015</td>\n",
       "      <td>5273.87</td>\n",
       "      <td>32</td>\n",
       "      <td>28.1354</td>\n",
       "      <td>3.796</td>\n",
       "    </tr>\n",
       "    <tr>\n",
       "      <th>4</th>\n",
       "      <td>7545.21</td>\n",
       "      <td>2882.36</td>\n",
       "      <td>0.38201</td>\n",
       "      <td>85.1237</td>\n",
       "      <td>1.043918e+06</td>\n",
       "      <td>124.414</td>\n",
       "      <td>3263.35</td>\n",
       "      <td>57</td>\n",
       "      <td>35.0200</td>\n",
       "      <td>18.023</td>\n",
       "    </tr>\n",
       "  </tbody>\n",
       "</table>\n",
       "</div>"
      ],
      "text/plain": [
       "   mass_npea  size_npear  malign_ratio  damage_size  exposed_area  \\\n",
       "0    6930.90     2919.02       0.42116      51.8298  9.888294e+05   \n",
       "1   15635.70     4879.36       0.31206     223.5500  2.058426e+06   \n",
       "2   10376.20     2613.88       0.25191     127.3370  1.434676e+06   \n",
       "3   13093.80     4510.06       0.34444     155.4400  1.812195e+06   \n",
       "4    7545.21     2882.36       0.38201      85.1237  1.043918e+06   \n",
       "\n",
       "   std_dev_malign  err_malign  malign_penalty  damage_ratio  tumor_size  \n",
       "0         109.487     2758.76              72       39.3620      14.103  \n",
       "1         248.881     5952.53             240       22.0253       2.648  \n",
       "2         160.093     4635.26              73       29.9963       1.688  \n",
       "3         173.015     5273.87              32       28.1354       3.796  \n",
       "4         124.414     3263.35              57       35.0200      18.023  "
      ]
     },
     "execution_count": 68,
     "metadata": {},
     "output_type": "execute_result"
    }
   ],
   "source": [
    "train_ori.head()"
   ]
  },
  {
   "cell_type": "code",
   "execution_count": 69,
   "metadata": {},
   "outputs": [],
   "source": [
    "target = train_ori.pop('tumor_size')"
   ]
  },
  {
   "cell_type": "code",
   "execution_count": 70,
   "metadata": {},
   "outputs": [
    {
     "data": {
      "text/html": [
       "<div>\n",
       "<style scoped>\n",
       "    .dataframe tbody tr th:only-of-type {\n",
       "        vertical-align: middle;\n",
       "    }\n",
       "\n",
       "    .dataframe tbody tr th {\n",
       "        vertical-align: top;\n",
       "    }\n",
       "\n",
       "    .dataframe thead th {\n",
       "        text-align: right;\n",
       "    }\n",
       "</style>\n",
       "<table border=\"1\" class=\"dataframe\">\n",
       "  <thead>\n",
       "    <tr style=\"text-align: right;\">\n",
       "      <th></th>\n",
       "      <th>mass_npea</th>\n",
       "      <th>size_npear</th>\n",
       "      <th>malign_ratio</th>\n",
       "      <th>damage_size</th>\n",
       "      <th>exposed_area</th>\n",
       "      <th>std_dev_malign</th>\n",
       "      <th>err_malign</th>\n",
       "      <th>malign_penalty</th>\n",
       "      <th>damage_ratio</th>\n",
       "    </tr>\n",
       "  </thead>\n",
       "  <tbody>\n",
       "    <tr>\n",
       "      <th>0</th>\n",
       "      <td>6930.90</td>\n",
       "      <td>2919.02</td>\n",
       "      <td>0.42116</td>\n",
       "      <td>51.8298</td>\n",
       "      <td>9.888294e+05</td>\n",
       "      <td>109.487</td>\n",
       "      <td>2758.76</td>\n",
       "      <td>72</td>\n",
       "      <td>39.3620</td>\n",
       "    </tr>\n",
       "    <tr>\n",
       "      <th>1</th>\n",
       "      <td>15635.70</td>\n",
       "      <td>4879.36</td>\n",
       "      <td>0.31206</td>\n",
       "      <td>223.5500</td>\n",
       "      <td>2.058426e+06</td>\n",
       "      <td>248.881</td>\n",
       "      <td>5952.53</td>\n",
       "      <td>240</td>\n",
       "      <td>22.0253</td>\n",
       "    </tr>\n",
       "    <tr>\n",
       "      <th>2</th>\n",
       "      <td>10376.20</td>\n",
       "      <td>2613.88</td>\n",
       "      <td>0.25191</td>\n",
       "      <td>127.3370</td>\n",
       "      <td>1.434676e+06</td>\n",
       "      <td>160.093</td>\n",
       "      <td>4635.26</td>\n",
       "      <td>73</td>\n",
       "      <td>29.9963</td>\n",
       "    </tr>\n",
       "    <tr>\n",
       "      <th>3</th>\n",
       "      <td>13093.80</td>\n",
       "      <td>4510.06</td>\n",
       "      <td>0.34444</td>\n",
       "      <td>155.4400</td>\n",
       "      <td>1.812195e+06</td>\n",
       "      <td>173.015</td>\n",
       "      <td>5273.87</td>\n",
       "      <td>32</td>\n",
       "      <td>28.1354</td>\n",
       "    </tr>\n",
       "    <tr>\n",
       "      <th>4</th>\n",
       "      <td>7545.21</td>\n",
       "      <td>2882.36</td>\n",
       "      <td>0.38201</td>\n",
       "      <td>85.1237</td>\n",
       "      <td>1.043918e+06</td>\n",
       "      <td>124.414</td>\n",
       "      <td>3263.35</td>\n",
       "      <td>57</td>\n",
       "      <td>35.0200</td>\n",
       "    </tr>\n",
       "  </tbody>\n",
       "</table>\n",
       "</div>"
      ],
      "text/plain": [
       "   mass_npea  size_npear  malign_ratio  damage_size  exposed_area  \\\n",
       "0    6930.90     2919.02       0.42116      51.8298  9.888294e+05   \n",
       "1   15635.70     4879.36       0.31206     223.5500  2.058426e+06   \n",
       "2   10376.20     2613.88       0.25191     127.3370  1.434676e+06   \n",
       "3   13093.80     4510.06       0.34444     155.4400  1.812195e+06   \n",
       "4    7545.21     2882.36       0.38201      85.1237  1.043918e+06   \n",
       "\n",
       "   std_dev_malign  err_malign  malign_penalty  damage_ratio  \n",
       "0         109.487     2758.76              72       39.3620  \n",
       "1         248.881     5952.53             240       22.0253  \n",
       "2         160.093     4635.26              73       29.9963  \n",
       "3         173.015     5273.87              32       28.1354  \n",
       "4         124.414     3263.35              57       35.0200  "
      ]
     },
     "execution_count": 70,
     "metadata": {},
     "output_type": "execute_result"
    }
   ],
   "source": [
    "train_ori.head()"
   ]
  },
  {
   "cell_type": "code",
   "execution_count": 71,
   "metadata": {},
   "outputs": [
    {
     "data": {
      "text/html": [
       "<div>\n",
       "<style scoped>\n",
       "    .dataframe tbody tr th:only-of-type {\n",
       "        vertical-align: middle;\n",
       "    }\n",
       "\n",
       "    .dataframe tbody tr th {\n",
       "        vertical-align: top;\n",
       "    }\n",
       "\n",
       "    .dataframe thead th {\n",
       "        text-align: right;\n",
       "    }\n",
       "</style>\n",
       "<table border=\"1\" class=\"dataframe\">\n",
       "  <thead>\n",
       "    <tr style=\"text-align: right;\">\n",
       "      <th></th>\n",
       "      <th>count</th>\n",
       "      <th>mean</th>\n",
       "      <th>std</th>\n",
       "      <th>min</th>\n",
       "      <th>25%</th>\n",
       "      <th>50%</th>\n",
       "      <th>75%</th>\n",
       "      <th>max</th>\n",
       "    </tr>\n",
       "  </thead>\n",
       "  <tbody>\n",
       "    <tr>\n",
       "      <th>mass_npea</th>\n",
       "      <td>9146.0</td>\n",
       "      <td>9.903052e+03</td>\n",
       "      <td>4060.577116</td>\n",
       "      <td>2864.76000</td>\n",
       "      <td>6988.420000</td>\n",
       "      <td>8.895965e+03</td>\n",
       "      <td>1.211995e+04</td>\n",
       "      <td>3.699540e+04</td>\n",
       "    </tr>\n",
       "    <tr>\n",
       "      <th>size_npear</th>\n",
       "      <td>9146.0</td>\n",
       "      <td>3.032828e+03</td>\n",
       "      <td>1462.334147</td>\n",
       "      <td>510.53000</td>\n",
       "      <td>1983.657500</td>\n",
       "      <td>2.684330e+03</td>\n",
       "      <td>3.830745e+03</td>\n",
       "      <td>1.353500e+04</td>\n",
       "    </tr>\n",
       "    <tr>\n",
       "      <th>malign_ratio</th>\n",
       "      <td>9146.0</td>\n",
       "      <td>3.030829e-01</td>\n",
       "      <td>0.062533</td>\n",
       "      <td>0.11482</td>\n",
       "      <td>0.259053</td>\n",
       "      <td>3.010550e-01</td>\n",
       "      <td>3.430025e-01</td>\n",
       "      <td>5.253000e-01</td>\n",
       "    </tr>\n",
       "    <tr>\n",
       "      <th>damage_size</th>\n",
       "      <td>9146.0</td>\n",
       "      <td>1.039021e+02</td>\n",
       "      <td>55.456862</td>\n",
       "      <td>10.31010</td>\n",
       "      <td>64.012525</td>\n",
       "      <td>8.845830e+01</td>\n",
       "      <td>1.342090e+02</td>\n",
       "      <td>3.464200e+02</td>\n",
       "    </tr>\n",
       "    <tr>\n",
       "      <th>exposed_area</th>\n",
       "      <td>9146.0</td>\n",
       "      <td>1.372442e+06</td>\n",
       "      <td>564677.287032</td>\n",
       "      <td>387853.40250</td>\n",
       "      <td>959687.264300</td>\n",
       "      <td>1.237057e+06</td>\n",
       "      <td>1.693083e+06</td>\n",
       "      <td>4.978616e+06</td>\n",
       "    </tr>\n",
       "    <tr>\n",
       "      <th>std_dev_malign</th>\n",
       "      <td>9146.0</td>\n",
       "      <td>1.463042e+02</td>\n",
       "      <td>70.512177</td>\n",
       "      <td>31.97040</td>\n",
       "      <td>95.853900</td>\n",
       "      <td>1.261385e+02</td>\n",
       "      <td>1.822515e+02</td>\n",
       "      <td>5.288900e+02</td>\n",
       "    </tr>\n",
       "    <tr>\n",
       "      <th>err_malign</th>\n",
       "      <td>9146.0</td>\n",
       "      <td>3.992936e+03</td>\n",
       "      <td>1780.672859</td>\n",
       "      <td>1089.19000</td>\n",
       "      <td>3177.682500</td>\n",
       "      <td>3.846320e+03</td>\n",
       "      <td>4.664577e+03</td>\n",
       "      <td>9.198370e+04</td>\n",
       "    </tr>\n",
       "    <tr>\n",
       "      <th>malign_penalty</th>\n",
       "      <td>9146.0</td>\n",
       "      <td>6.984966e+01</td>\n",
       "      <td>55.785332</td>\n",
       "      <td>0.00000</td>\n",
       "      <td>31.000000</td>\n",
       "      <td>5.400000e+01</td>\n",
       "      <td>9.100000e+01</td>\n",
       "      <td>3.400000e+02</td>\n",
       "    </tr>\n",
       "    <tr>\n",
       "      <th>damage_ratio</th>\n",
       "      <td>9146.0</td>\n",
       "      <td>3.446165e+01</td>\n",
       "      <td>5.972808</td>\n",
       "      <td>15.22800</td>\n",
       "      <td>30.290225</td>\n",
       "      <td>3.524575e+01</td>\n",
       "      <td>3.880607e+01</td>\n",
       "      <td>4.654640e+01</td>\n",
       "    </tr>\n",
       "  </tbody>\n",
       "</table>\n",
       "</div>"
      ],
      "text/plain": [
       "                 count          mean            std           min  \\\n",
       "mass_npea       9146.0  9.903052e+03    4060.577116    2864.76000   \n",
       "size_npear      9146.0  3.032828e+03    1462.334147     510.53000   \n",
       "malign_ratio    9146.0  3.030829e-01       0.062533       0.11482   \n",
       "damage_size     9146.0  1.039021e+02      55.456862      10.31010   \n",
       "exposed_area    9146.0  1.372442e+06  564677.287032  387853.40250   \n",
       "std_dev_malign  9146.0  1.463042e+02      70.512177      31.97040   \n",
       "err_malign      9146.0  3.992936e+03    1780.672859    1089.19000   \n",
       "malign_penalty  9146.0  6.984966e+01      55.785332       0.00000   \n",
       "damage_ratio    9146.0  3.446165e+01       5.972808      15.22800   \n",
       "\n",
       "                          25%           50%           75%           max  \n",
       "mass_npea         6988.420000  8.895965e+03  1.211995e+04  3.699540e+04  \n",
       "size_npear        1983.657500  2.684330e+03  3.830745e+03  1.353500e+04  \n",
       "malign_ratio         0.259053  3.010550e-01  3.430025e-01  5.253000e-01  \n",
       "damage_size         64.012525  8.845830e+01  1.342090e+02  3.464200e+02  \n",
       "exposed_area    959687.264300  1.237057e+06  1.693083e+06  4.978616e+06  \n",
       "std_dev_malign      95.853900  1.261385e+02  1.822515e+02  5.288900e+02  \n",
       "err_malign        3177.682500  3.846320e+03  4.664577e+03  9.198370e+04  \n",
       "malign_penalty      31.000000  5.400000e+01  9.100000e+01  3.400000e+02  \n",
       "damage_ratio        30.290225  3.524575e+01  3.880607e+01  4.654640e+01  "
      ]
     },
     "execution_count": 71,
     "metadata": {},
     "output_type": "execute_result"
    }
   ],
   "source": [
    "train_ori.describe().T"
   ]
  },
  {
   "cell_type": "code",
   "execution_count": 72,
   "metadata": {},
   "outputs": [],
   "source": [
    "train = train_ori.copy()"
   ]
  },
  {
   "cell_type": "code",
   "execution_count": 153,
   "metadata": {},
   "outputs": [],
   "source": [
    "train['mass_npea'] = np.log1p(train['mass_npea'])\n",
    "train['size_npear'] = np.log1p(train['size_npear'])\n",
    "train['exposed_area'] = np.log1p(train['exposed_area'])\n",
    "train['err_malign'] = np.log1p(train['err_malign'])"
   ]
  },
  {
   "cell_type": "code",
   "execution_count": 154,
   "metadata": {},
   "outputs": [
    {
     "data": {
      "text/html": [
       "<div>\n",
       "<style scoped>\n",
       "    .dataframe tbody tr th:only-of-type {\n",
       "        vertical-align: middle;\n",
       "    }\n",
       "\n",
       "    .dataframe tbody tr th {\n",
       "        vertical-align: top;\n",
       "    }\n",
       "\n",
       "    .dataframe thead th {\n",
       "        text-align: right;\n",
       "    }\n",
       "</style>\n",
       "<table border=\"1\" class=\"dataframe\">\n",
       "  <thead>\n",
       "    <tr style=\"text-align: right;\">\n",
       "      <th></th>\n",
       "      <th>count</th>\n",
       "      <th>mean</th>\n",
       "      <th>std</th>\n",
       "      <th>min</th>\n",
       "      <th>25%</th>\n",
       "      <th>50%</th>\n",
       "      <th>75%</th>\n",
       "      <th>max</th>\n",
       "    </tr>\n",
       "  </thead>\n",
       "  <tbody>\n",
       "    <tr>\n",
       "      <th>mass_npea</th>\n",
       "      <td>9146.0</td>\n",
       "      <td>9.122815</td>\n",
       "      <td>0.392642</td>\n",
       "      <td>7.960589</td>\n",
       "      <td>8.852153</td>\n",
       "      <td>9.093465</td>\n",
       "      <td>9.402691</td>\n",
       "      <td>10.518576</td>\n",
       "    </tr>\n",
       "    <tr>\n",
       "      <th>size_npear</th>\n",
       "      <td>9146.0</td>\n",
       "      <td>7.907376</td>\n",
       "      <td>0.473596</td>\n",
       "      <td>6.237406</td>\n",
       "      <td>7.593202</td>\n",
       "      <td>7.895559</td>\n",
       "      <td>8.251076</td>\n",
       "      <td>9.513108</td>\n",
       "    </tr>\n",
       "    <tr>\n",
       "      <th>malign_ratio</th>\n",
       "      <td>9146.0</td>\n",
       "      <td>0.303083</td>\n",
       "      <td>0.062533</td>\n",
       "      <td>0.114820</td>\n",
       "      <td>0.259053</td>\n",
       "      <td>0.301055</td>\n",
       "      <td>0.343002</td>\n",
       "      <td>0.525300</td>\n",
       "    </tr>\n",
       "    <tr>\n",
       "      <th>damage_size</th>\n",
       "      <td>9146.0</td>\n",
       "      <td>103.902118</td>\n",
       "      <td>55.456862</td>\n",
       "      <td>10.310100</td>\n",
       "      <td>64.012525</td>\n",
       "      <td>88.458300</td>\n",
       "      <td>134.209000</td>\n",
       "      <td>346.420000</td>\n",
       "    </tr>\n",
       "    <tr>\n",
       "      <th>exposed_area</th>\n",
       "      <td>9146.0</td>\n",
       "      <td>14.053139</td>\n",
       "      <td>0.395965</td>\n",
       "      <td>12.868385</td>\n",
       "      <td>13.774364</td>\n",
       "      <td>14.028247</td>\n",
       "      <td>14.342062</td>\n",
       "      <td>15.420663</td>\n",
       "    </tr>\n",
       "    <tr>\n",
       "      <th>std_dev_malign</th>\n",
       "      <td>9146.0</td>\n",
       "      <td>146.304239</td>\n",
       "      <td>70.512177</td>\n",
       "      <td>31.970400</td>\n",
       "      <td>95.853900</td>\n",
       "      <td>126.138500</td>\n",
       "      <td>182.251500</td>\n",
       "      <td>528.890000</td>\n",
       "    </tr>\n",
       "    <tr>\n",
       "      <th>err_malign</th>\n",
       "      <td>9146.0</td>\n",
       "      <td>8.238692</td>\n",
       "      <td>0.320002</td>\n",
       "      <td>6.994107</td>\n",
       "      <td>8.064222</td>\n",
       "      <td>8.255132</td>\n",
       "      <td>8.447967</td>\n",
       "      <td>11.429378</td>\n",
       "    </tr>\n",
       "    <tr>\n",
       "      <th>malign_penalty</th>\n",
       "      <td>9146.0</td>\n",
       "      <td>69.849661</td>\n",
       "      <td>55.785332</td>\n",
       "      <td>0.000000</td>\n",
       "      <td>31.000000</td>\n",
       "      <td>54.000000</td>\n",
       "      <td>91.000000</td>\n",
       "      <td>340.000000</td>\n",
       "    </tr>\n",
       "    <tr>\n",
       "      <th>damage_ratio</th>\n",
       "      <td>9146.0</td>\n",
       "      <td>34.461652</td>\n",
       "      <td>5.972808</td>\n",
       "      <td>15.228000</td>\n",
       "      <td>30.290225</td>\n",
       "      <td>35.245750</td>\n",
       "      <td>38.806075</td>\n",
       "      <td>46.546400</td>\n",
       "    </tr>\n",
       "  </tbody>\n",
       "</table>\n",
       "</div>"
      ],
      "text/plain": [
       "                 count        mean        std        min        25%  \\\n",
       "mass_npea       9146.0    9.122815   0.392642   7.960589   8.852153   \n",
       "size_npear      9146.0    7.907376   0.473596   6.237406   7.593202   \n",
       "malign_ratio    9146.0    0.303083   0.062533   0.114820   0.259053   \n",
       "damage_size     9146.0  103.902118  55.456862  10.310100  64.012525   \n",
       "exposed_area    9146.0   14.053139   0.395965  12.868385  13.774364   \n",
       "std_dev_malign  9146.0  146.304239  70.512177  31.970400  95.853900   \n",
       "err_malign      9146.0    8.238692   0.320002   6.994107   8.064222   \n",
       "malign_penalty  9146.0   69.849661  55.785332   0.000000  31.000000   \n",
       "damage_ratio    9146.0   34.461652   5.972808  15.228000  30.290225   \n",
       "\n",
       "                       50%         75%         max  \n",
       "mass_npea         9.093465    9.402691   10.518576  \n",
       "size_npear        7.895559    8.251076    9.513108  \n",
       "malign_ratio      0.301055    0.343002    0.525300  \n",
       "damage_size      88.458300  134.209000  346.420000  \n",
       "exposed_area     14.028247   14.342062   15.420663  \n",
       "std_dev_malign  126.138500  182.251500  528.890000  \n",
       "err_malign        8.255132    8.447967   11.429378  \n",
       "malign_penalty   54.000000   91.000000  340.000000  \n",
       "damage_ratio     35.245750   38.806075   46.546400  "
      ]
     },
     "execution_count": 154,
     "metadata": {},
     "output_type": "execute_result"
    }
   ],
   "source": [
    "train.describe().T"
   ]
  },
  {
   "cell_type": "code",
   "execution_count": 155,
   "metadata": {},
   "outputs": [],
   "source": [
    "train['std_dev_malign'] = np.log1p(train['std_dev_malign'])\n",
    "train['malign_penalty'] = np.sqrt(train['malign_penalty'])"
   ]
  },
  {
   "cell_type": "code",
   "execution_count": 156,
   "metadata": {},
   "outputs": [
    {
     "data": {
      "text/html": [
       "<div>\n",
       "<style scoped>\n",
       "    .dataframe tbody tr th:only-of-type {\n",
       "        vertical-align: middle;\n",
       "    }\n",
       "\n",
       "    .dataframe tbody tr th {\n",
       "        vertical-align: top;\n",
       "    }\n",
       "\n",
       "    .dataframe thead th {\n",
       "        text-align: right;\n",
       "    }\n",
       "</style>\n",
       "<table border=\"1\" class=\"dataframe\">\n",
       "  <thead>\n",
       "    <tr style=\"text-align: right;\">\n",
       "      <th></th>\n",
       "      <th>count</th>\n",
       "      <th>mean</th>\n",
       "      <th>std</th>\n",
       "      <th>min</th>\n",
       "      <th>25%</th>\n",
       "      <th>50%</th>\n",
       "      <th>75%</th>\n",
       "      <th>max</th>\n",
       "    </tr>\n",
       "  </thead>\n",
       "  <tbody>\n",
       "    <tr>\n",
       "      <th>mass_npea</th>\n",
       "      <td>9146.0</td>\n",
       "      <td>9.122815</td>\n",
       "      <td>0.392642</td>\n",
       "      <td>7.960589</td>\n",
       "      <td>8.852153</td>\n",
       "      <td>9.093465</td>\n",
       "      <td>9.402691</td>\n",
       "      <td>10.518576</td>\n",
       "    </tr>\n",
       "    <tr>\n",
       "      <th>size_npear</th>\n",
       "      <td>9146.0</td>\n",
       "      <td>7.907376</td>\n",
       "      <td>0.473596</td>\n",
       "      <td>6.237406</td>\n",
       "      <td>7.593202</td>\n",
       "      <td>7.895559</td>\n",
       "      <td>8.251076</td>\n",
       "      <td>9.513108</td>\n",
       "    </tr>\n",
       "    <tr>\n",
       "      <th>malign_ratio</th>\n",
       "      <td>9146.0</td>\n",
       "      <td>0.303083</td>\n",
       "      <td>0.062533</td>\n",
       "      <td>0.114820</td>\n",
       "      <td>0.259053</td>\n",
       "      <td>0.301055</td>\n",
       "      <td>0.343002</td>\n",
       "      <td>0.525300</td>\n",
       "    </tr>\n",
       "    <tr>\n",
       "      <th>damage_size</th>\n",
       "      <td>9146.0</td>\n",
       "      <td>103.902118</td>\n",
       "      <td>55.456862</td>\n",
       "      <td>10.310100</td>\n",
       "      <td>64.012525</td>\n",
       "      <td>88.458300</td>\n",
       "      <td>134.209000</td>\n",
       "      <td>346.420000</td>\n",
       "    </tr>\n",
       "    <tr>\n",
       "      <th>exposed_area</th>\n",
       "      <td>9146.0</td>\n",
       "      <td>14.053139</td>\n",
       "      <td>0.395965</td>\n",
       "      <td>12.868385</td>\n",
       "      <td>13.774364</td>\n",
       "      <td>14.028247</td>\n",
       "      <td>14.342062</td>\n",
       "      <td>15.420663</td>\n",
       "    </tr>\n",
       "    <tr>\n",
       "      <th>std_dev_malign</th>\n",
       "      <td>9146.0</td>\n",
       "      <td>4.886897</td>\n",
       "      <td>0.457909</td>\n",
       "      <td>3.495610</td>\n",
       "      <td>4.573204</td>\n",
       "      <td>4.845277</td>\n",
       "      <td>5.210860</td>\n",
       "      <td>6.272669</td>\n",
       "    </tr>\n",
       "    <tr>\n",
       "      <th>err_malign</th>\n",
       "      <td>9146.0</td>\n",
       "      <td>8.238692</td>\n",
       "      <td>0.320002</td>\n",
       "      <td>6.994107</td>\n",
       "      <td>8.064222</td>\n",
       "      <td>8.255132</td>\n",
       "      <td>8.447967</td>\n",
       "      <td>11.429378</td>\n",
       "    </tr>\n",
       "    <tr>\n",
       "      <th>malign_penalty</th>\n",
       "      <td>9146.0</td>\n",
       "      <td>7.765133</td>\n",
       "      <td>3.090859</td>\n",
       "      <td>0.000000</td>\n",
       "      <td>5.567764</td>\n",
       "      <td>7.348469</td>\n",
       "      <td>9.539392</td>\n",
       "      <td>18.439089</td>\n",
       "    </tr>\n",
       "    <tr>\n",
       "      <th>damage_ratio</th>\n",
       "      <td>9146.0</td>\n",
       "      <td>34.461652</td>\n",
       "      <td>5.972808</td>\n",
       "      <td>15.228000</td>\n",
       "      <td>30.290225</td>\n",
       "      <td>35.245750</td>\n",
       "      <td>38.806075</td>\n",
       "      <td>46.546400</td>\n",
       "    </tr>\n",
       "  </tbody>\n",
       "</table>\n",
       "</div>"
      ],
      "text/plain": [
       "                 count        mean        std        min        25%  \\\n",
       "mass_npea       9146.0    9.122815   0.392642   7.960589   8.852153   \n",
       "size_npear      9146.0    7.907376   0.473596   6.237406   7.593202   \n",
       "malign_ratio    9146.0    0.303083   0.062533   0.114820   0.259053   \n",
       "damage_size     9146.0  103.902118  55.456862  10.310100  64.012525   \n",
       "exposed_area    9146.0   14.053139   0.395965  12.868385  13.774364   \n",
       "std_dev_malign  9146.0    4.886897   0.457909   3.495610   4.573204   \n",
       "err_malign      9146.0    8.238692   0.320002   6.994107   8.064222   \n",
       "malign_penalty  9146.0    7.765133   3.090859   0.000000   5.567764   \n",
       "damage_ratio    9146.0   34.461652   5.972808  15.228000  30.290225   \n",
       "\n",
       "                      50%         75%         max  \n",
       "mass_npea        9.093465    9.402691   10.518576  \n",
       "size_npear       7.895559    8.251076    9.513108  \n",
       "malign_ratio     0.301055    0.343002    0.525300  \n",
       "damage_size     88.458300  134.209000  346.420000  \n",
       "exposed_area    14.028247   14.342062   15.420663  \n",
       "std_dev_malign   4.845277    5.210860    6.272669  \n",
       "err_malign       8.255132    8.447967   11.429378  \n",
       "malign_penalty   7.348469    9.539392   18.439089  \n",
       "damage_ratio    35.245750   38.806075   46.546400  "
      ]
     },
     "execution_count": 156,
     "metadata": {},
     "output_type": "execute_result"
    }
   ],
   "source": [
    "train.describe().T"
   ]
  },
  {
   "cell_type": "code",
   "execution_count": 8,
   "metadata": {},
   "outputs": [],
   "source": [
    "from sklearn.ensemble import ExtraTreesRegressor\n",
    "from sklearn.model_selection import cross_val_score\n",
    "from sklearn.metrics import mean_squared_error, make_scorer\n",
    "\n",
    "def RMSE(y_true, y_pred):\n",
    "    return np.sqrt(mean_squared_error(y_true, y_pred))\n",
    "\n",
    "rmse = make_scorer(RMSE, greater_is_better=False)"
   ]
  },
  {
   "cell_type": "code",
   "execution_count": 9,
   "metadata": {},
   "outputs": [],
   "source": [
    "model = ExtraTreesRegressor(n_jobs=-1, random_state=2)\n",
    "\n",
    "scores = cross_val_score(model, train_ori, target, cv = 5, scoring = rmse)"
   ]
  },
  {
   "cell_type": "code",
   "execution_count": 10,
   "metadata": {},
   "outputs": [
    {
     "data": {
      "text/plain": [
       "-3.9299506861461175"
      ]
     },
     "execution_count": 10,
     "metadata": {},
     "output_type": "execute_result"
    }
   ],
   "source": [
    "scores.mean()"
   ]
  },
  {
   "cell_type": "code",
   "execution_count": 11,
   "metadata": {},
   "outputs": [],
   "source": [
    "scores = cross_val_score(model, train, target, cv = 5, scoring = rmse)"
   ]
  },
  {
   "cell_type": "code",
   "execution_count": 12,
   "metadata": {},
   "outputs": [
    {
     "data": {
      "text/plain": [
       "-3.9299506861461175"
      ]
     },
     "execution_count": 12,
     "metadata": {},
     "output_type": "execute_result"
    }
   ],
   "source": [
    "scores.mean()"
   ]
  },
  {
   "cell_type": "code",
   "execution_count": 13,
   "metadata": {},
   "outputs": [
    {
     "data": {
      "text/html": [
       "<div>\n",
       "<style scoped>\n",
       "    .dataframe tbody tr th:only-of-type {\n",
       "        vertical-align: middle;\n",
       "    }\n",
       "\n",
       "    .dataframe tbody tr th {\n",
       "        vertical-align: top;\n",
       "    }\n",
       "\n",
       "    .dataframe thead th {\n",
       "        text-align: right;\n",
       "    }\n",
       "</style>\n",
       "<table border=\"1\" class=\"dataframe\">\n",
       "  <thead>\n",
       "    <tr style=\"text-align: right;\">\n",
       "      <th></th>\n",
       "      <th>mass_npea</th>\n",
       "      <th>size_npear</th>\n",
       "      <th>malign_ratio</th>\n",
       "      <th>damage_size</th>\n",
       "      <th>exposed_area</th>\n",
       "      <th>std_dev_malign</th>\n",
       "      <th>err_malign</th>\n",
       "      <th>malign_penalty</th>\n",
       "      <th>damage_ratio</th>\n",
       "    </tr>\n",
       "  </thead>\n",
       "  <tbody>\n",
       "    <tr>\n",
       "      <th>0</th>\n",
       "      <td>6930.90</td>\n",
       "      <td>2919.02</td>\n",
       "      <td>0.42116</td>\n",
       "      <td>51.8298</td>\n",
       "      <td>9.888294e+05</td>\n",
       "      <td>109.487</td>\n",
       "      <td>2758.76</td>\n",
       "      <td>72</td>\n",
       "      <td>39.3620</td>\n",
       "    </tr>\n",
       "    <tr>\n",
       "      <th>1</th>\n",
       "      <td>15635.70</td>\n",
       "      <td>4879.36</td>\n",
       "      <td>0.31206</td>\n",
       "      <td>223.5500</td>\n",
       "      <td>2.058426e+06</td>\n",
       "      <td>248.881</td>\n",
       "      <td>5952.53</td>\n",
       "      <td>240</td>\n",
       "      <td>22.0253</td>\n",
       "    </tr>\n",
       "    <tr>\n",
       "      <th>2</th>\n",
       "      <td>10376.20</td>\n",
       "      <td>2613.88</td>\n",
       "      <td>0.25191</td>\n",
       "      <td>127.3370</td>\n",
       "      <td>1.434676e+06</td>\n",
       "      <td>160.093</td>\n",
       "      <td>4635.26</td>\n",
       "      <td>73</td>\n",
       "      <td>29.9963</td>\n",
       "    </tr>\n",
       "    <tr>\n",
       "      <th>3</th>\n",
       "      <td>13093.80</td>\n",
       "      <td>4510.06</td>\n",
       "      <td>0.34444</td>\n",
       "      <td>155.4400</td>\n",
       "      <td>1.812195e+06</td>\n",
       "      <td>173.015</td>\n",
       "      <td>5273.87</td>\n",
       "      <td>32</td>\n",
       "      <td>28.1354</td>\n",
       "    </tr>\n",
       "    <tr>\n",
       "      <th>4</th>\n",
       "      <td>7545.21</td>\n",
       "      <td>2882.36</td>\n",
       "      <td>0.38201</td>\n",
       "      <td>85.1237</td>\n",
       "      <td>1.043918e+06</td>\n",
       "      <td>124.414</td>\n",
       "      <td>3263.35</td>\n",
       "      <td>57</td>\n",
       "      <td>35.0200</td>\n",
       "    </tr>\n",
       "  </tbody>\n",
       "</table>\n",
       "</div>"
      ],
      "text/plain": [
       "   mass_npea  size_npear  malign_ratio  damage_size  exposed_area  \\\n",
       "0    6930.90     2919.02       0.42116      51.8298  9.888294e+05   \n",
       "1   15635.70     4879.36       0.31206     223.5500  2.058426e+06   \n",
       "2   10376.20     2613.88       0.25191     127.3370  1.434676e+06   \n",
       "3   13093.80     4510.06       0.34444     155.4400  1.812195e+06   \n",
       "4    7545.21     2882.36       0.38201      85.1237  1.043918e+06   \n",
       "\n",
       "   std_dev_malign  err_malign  malign_penalty  damage_ratio  \n",
       "0         109.487     2758.76              72       39.3620  \n",
       "1         248.881     5952.53             240       22.0253  \n",
       "2         160.093     4635.26              73       29.9963  \n",
       "3         173.015     5273.87              32       28.1354  \n",
       "4         124.414     3263.35              57       35.0200  "
      ]
     },
     "execution_count": 13,
     "metadata": {},
     "output_type": "execute_result"
    }
   ],
   "source": [
    "train.head()"
   ]
  },
  {
   "cell_type": "code",
   "execution_count": 14,
   "metadata": {},
   "outputs": [
    {
     "data": {
      "text/plain": [
       "ExtraTreesRegressor(bootstrap=False, ccp_alpha=0.0, criterion='mse',\n",
       "                    max_depth=None, max_features='auto', max_leaf_nodes=None,\n",
       "                    max_samples=None, min_impurity_decrease=0.0,\n",
       "                    min_impurity_split=None, min_samples_leaf=1,\n",
       "                    min_samples_split=2, min_weight_fraction_leaf=0.0,\n",
       "                    n_estimators=100, n_jobs=-1, oob_score=False,\n",
       "                    random_state=2, verbose=0, warm_start=False)"
      ]
     },
     "execution_count": 14,
     "metadata": {},
     "output_type": "execute_result"
    }
   ],
   "source": [
    "model.fit(train, target)"
   ]
  },
  {
   "cell_type": "code",
   "execution_count": 15,
   "metadata": {},
   "outputs": [],
   "source": [
    "importance_df = pd.DataFrame()\n",
    "\n",
    "importance_df['cols'] = train.columns\n",
    "importance_df['importance'] = model.feature_importances_"
   ]
  },
  {
   "cell_type": "code",
   "execution_count": 16,
   "metadata": {},
   "outputs": [
    {
     "data": {
      "text/plain": [
       "<matplotlib.axes._subplots.AxesSubplot at 0x7fb2f1b66290>"
      ]
     },
     "execution_count": 16,
     "metadata": {},
     "output_type": "execute_result"
    },
    {
     "data": {
      "image/png": "[encoded data removed]",
      "text/plain": [
       "<Figure size 432x288 with 1 Axes>"
      ]
     },
     "metadata": {},
     "output_type": "display_data"
    }
   ],
   "source": [
    "sns.barplot(x = importance_df['importance'], y = importance_df['cols'])"
   ]
  },
  {
   "cell_type": "code",
   "execution_count": 73,
   "metadata": {},
   "outputs": [],
   "source": [
    "train['penalty-err'] = train['malign_penalty'] - train['err_malign']"
   ]
  },
  {
   "cell_type": "code",
   "execution_count": 163,
   "metadata": {},
   "outputs": [
    {
     "data": {
      "text/html": [
       "<div>\n",
       "<style scoped>\n",
       "    .dataframe tbody tr th:only-of-type {\n",
       "        vertical-align: middle;\n",
       "    }\n",
       "\n",
       "    .dataframe tbody tr th {\n",
       "        vertical-align: top;\n",
       "    }\n",
       "\n",
       "    .dataframe thead th {\n",
       "        text-align: right;\n",
       "    }\n",
       "</style>\n",
       "<table border=\"1\" class=\"dataframe\">\n",
       "  <thead>\n",
       "    <tr style=\"text-align: right;\">\n",
       "      <th></th>\n",
       "      <th>mass_npea</th>\n",
       "      <th>size_npear</th>\n",
       "      <th>malign_ratio</th>\n",
       "      <th>damage_size</th>\n",
       "      <th>exposed_area</th>\n",
       "      <th>std_dev_malign</th>\n",
       "      <th>err_malign</th>\n",
       "      <th>malign_penalty</th>\n",
       "      <th>damage_ratio</th>\n",
       "      <th>penalty-err</th>\n",
       "    </tr>\n",
       "  </thead>\n",
       "  <tbody>\n",
       "    <tr>\n",
       "      <th>mass_npea</th>\n",
       "      <td>1.000000</td>\n",
       "      <td>0.896015</td>\n",
       "      <td>0.130544</td>\n",
       "      <td>0.901565</td>\n",
       "      <td>0.997830</td>\n",
       "      <td>0.967969</td>\n",
       "      <td>0.876607</td>\n",
       "      <td>0.634090</td>\n",
       "      <td>-0.912466</td>\n",
       "      <td>0.573309</td>\n",
       "    </tr>\n",
       "    <tr>\n",
       "      <th>size_npear</th>\n",
       "      <td>0.896015</td>\n",
       "      <td>1.000000</td>\n",
       "      <td>0.552165</td>\n",
       "      <td>0.770396</td>\n",
       "      <td>0.892487</td>\n",
       "      <td>0.911200</td>\n",
       "      <td>0.775113</td>\n",
       "      <td>0.591589</td>\n",
       "      <td>-0.797041</td>\n",
       "      <td>0.539551</td>\n",
       "    </tr>\n",
       "    <tr>\n",
       "      <th>malign_ratio</th>\n",
       "      <td>0.130544</td>\n",
       "      <td>0.552165</td>\n",
       "      <td>1.000000</td>\n",
       "      <td>0.029167</td>\n",
       "      <td>0.126660</td>\n",
       "      <td>0.227111</td>\n",
       "      <td>0.091393</td>\n",
       "      <td>0.135561</td>\n",
       "      <td>-0.068605</td>\n",
       "      <td>0.133056</td>\n",
       "    </tr>\n",
       "    <tr>\n",
       "      <th>damage_size</th>\n",
       "      <td>0.901565</td>\n",
       "      <td>0.770396</td>\n",
       "      <td>0.029167</td>\n",
       "      <td>1.000000</td>\n",
       "      <td>0.895355</td>\n",
       "      <td>0.902618</td>\n",
       "      <td>0.741021</td>\n",
       "      <td>0.657417</td>\n",
       "      <td>-0.892006</td>\n",
       "      <td>0.612735</td>\n",
       "    </tr>\n",
       "    <tr>\n",
       "      <th>exposed_area</th>\n",
       "      <td>0.997830</td>\n",
       "      <td>0.892487</td>\n",
       "      <td>0.126660</td>\n",
       "      <td>0.895355</td>\n",
       "      <td>1.000000</td>\n",
       "      <td>0.960763</td>\n",
       "      <td>0.874377</td>\n",
       "      <td>0.627344</td>\n",
       "      <td>-0.910277</td>\n",
       "      <td>0.566435</td>\n",
       "    </tr>\n",
       "    <tr>\n",
       "      <th>std_dev_malign</th>\n",
       "      <td>0.967969</td>\n",
       "      <td>0.911200</td>\n",
       "      <td>0.227111</td>\n",
       "      <td>0.902618</td>\n",
       "      <td>0.960763</td>\n",
       "      <td>1.000000</td>\n",
       "      <td>0.852246</td>\n",
       "      <td>0.645155</td>\n",
       "      <td>-0.896134</td>\n",
       "      <td>0.587646</td>\n",
       "    </tr>\n",
       "    <tr>\n",
       "      <th>err_malign</th>\n",
       "      <td>0.876607</td>\n",
       "      <td>0.775113</td>\n",
       "      <td>0.091393</td>\n",
       "      <td>0.741021</td>\n",
       "      <td>0.874377</td>\n",
       "      <td>0.852246</td>\n",
       "      <td>1.000000</td>\n",
       "      <td>0.543586</td>\n",
       "      <td>-0.828297</td>\n",
       "      <td>0.464332</td>\n",
       "    </tr>\n",
       "    <tr>\n",
       "      <th>malign_penalty</th>\n",
       "      <td>0.634090</td>\n",
       "      <td>0.591589</td>\n",
       "      <td>0.135561</td>\n",
       "      <td>0.657417</td>\n",
       "      <td>0.627344</td>\n",
       "      <td>0.645155</td>\n",
       "      <td>0.543586</td>\n",
       "      <td>1.000000</td>\n",
       "      <td>-0.646593</td>\n",
       "      <td>0.995787</td>\n",
       "    </tr>\n",
       "    <tr>\n",
       "      <th>damage_ratio</th>\n",
       "      <td>-0.912466</td>\n",
       "      <td>-0.797041</td>\n",
       "      <td>-0.068605</td>\n",
       "      <td>-0.892006</td>\n",
       "      <td>-0.910277</td>\n",
       "      <td>-0.896134</td>\n",
       "      <td>-0.828297</td>\n",
       "      <td>-0.646593</td>\n",
       "      <td>1.000000</td>\n",
       "      <td>-0.591780</td>\n",
       "    </tr>\n",
       "    <tr>\n",
       "      <th>penalty-err</th>\n",
       "      <td>0.573309</td>\n",
       "      <td>0.539551</td>\n",
       "      <td>0.133056</td>\n",
       "      <td>0.612735</td>\n",
       "      <td>0.566435</td>\n",
       "      <td>0.587646</td>\n",
       "      <td>0.464332</td>\n",
       "      <td>0.995787</td>\n",
       "      <td>-0.591780</td>\n",
       "      <td>1.000000</td>\n",
       "    </tr>\n",
       "  </tbody>\n",
       "</table>\n",
       "</div>"
      ],
      "text/plain": [
       "                mass_npea  size_npear  malign_ratio  damage_size  \\\n",
       "mass_npea        1.000000    0.896015      0.130544     0.901565   \n",
       "size_npear       0.896015    1.000000      0.552165     0.770396   \n",
       "malign_ratio     0.130544    0.552165      1.000000     0.029167   \n",
       "damage_size      0.901565    0.770396      0.029167     1.000000   \n",
       "exposed_area     0.997830    0.892487      0.126660     0.895355   \n",
       "std_dev_malign   0.967969    0.911200      0.227111     0.902618   \n",
       "err_malign       0.876607    0.775113      0.091393     0.741021   \n",
       "malign_penalty   0.634090    0.591589      0.135561     0.657417   \n",
       "damage_ratio    -0.912466   -0.797041     -0.068605    -0.892006   \n",
       "penalty-err      0.573309    0.539551      0.133056     0.612735   \n",
       "\n",
       "                exposed_area  std_dev_malign  err_malign  malign_penalty  \\\n",
       "mass_npea           0.997830        0.967969    0.876607        0.634090   \n",
       "size_npear          0.892487        0.911200    0.775113        0.591589   \n",
       "malign_ratio        0.126660        0.227111    0.091393        0.135561   \n",
       "damage_size         0.895355        0.902618    0.741021        0.657417   \n",
       "exposed_area        1.000000        0.960763    0.874377        0.627344   \n",
       "std_dev_malign      0.960763        1.000000    0.852246        0.645155   \n",
       "err_malign          0.874377        0.852246    1.000000        0.543586   \n",
       "malign_penalty      0.627344        0.645155    0.543586        1.000000   \n",
       "damage_ratio       -0.910277       -0.896134   -0.828297       -0.646593   \n",
       "penalty-err         0.566435        0.587646    0.464332        0.995787   \n",
       "\n",
       "                damage_ratio  penalty-err  \n",
       "mass_npea          -0.912466     0.573309  \n",
       "size_npear         -0.797041     0.539551  \n",
       "malign_ratio       -0.068605     0.133056  \n",
       "damage_size        -0.892006     0.612735  \n",
       "exposed_area       -0.910277     0.566435  \n",
       "std_dev_malign     -0.896134     0.587646  \n",
       "err_malign         -0.828297     0.464332  \n",
       "malign_penalty     -0.646593     0.995787  \n",
       "damage_ratio        1.000000    -0.591780  \n",
       "penalty-err        -0.591780     1.000000  "
      ]
     },
     "execution_count": 163,
     "metadata": {},
     "output_type": "execute_result"
    }
   ],
   "source": [
    "train.corr()"
   ]
  },
  {
   "cell_type": "code",
   "execution_count": 74,
   "metadata": {},
   "outputs": [],
   "source": [
    "scores = cross_val_score(model, train, target, cv = 5, scoring = rmse)"
   ]
  },
  {
   "cell_type": "code",
   "execution_count": 75,
   "metadata": {},
   "outputs": [
    {
     "data": {
      "text/plain": [
       "-3.908323044467567"
      ]
     },
     "execution_count": 75,
     "metadata": {},
     "output_type": "execute_result"
    }
   ],
   "source": [
    "scores.mean()"
   ]
  },
  {
   "cell_type": "code",
   "execution_count": 76,
   "metadata": {},
   "outputs": [
    {
     "data": {
      "text/html": [
       "<div>\n",
       "<style scoped>\n",
       "    .dataframe tbody tr th:only-of-type {\n",
       "        vertical-align: middle;\n",
       "    }\n",
       "\n",
       "    .dataframe tbody tr th {\n",
       "        vertical-align: top;\n",
       "    }\n",
       "\n",
       "    .dataframe thead th {\n",
       "        text-align: right;\n",
       "    }\n",
       "</style>\n",
       "<table border=\"1\" class=\"dataframe\">\n",
       "  <thead>\n",
       "    <tr style=\"text-align: right;\">\n",
       "      <th></th>\n",
       "      <th>count</th>\n",
       "      <th>mean</th>\n",
       "      <th>std</th>\n",
       "      <th>min</th>\n",
       "      <th>25%</th>\n",
       "      <th>50%</th>\n",
       "      <th>75%</th>\n",
       "      <th>max</th>\n",
       "    </tr>\n",
       "  </thead>\n",
       "  <tbody>\n",
       "    <tr>\n",
       "      <th>mass_npea</th>\n",
       "      <td>9146.0</td>\n",
       "      <td>9.903052e+03</td>\n",
       "      <td>4060.577116</td>\n",
       "      <td>2864.76000</td>\n",
       "      <td>6988.420000</td>\n",
       "      <td>8.895965e+03</td>\n",
       "      <td>1.211995e+04</td>\n",
       "      <td>3.699540e+04</td>\n",
       "    </tr>\n",
       "    <tr>\n",
       "      <th>size_npear</th>\n",
       "      <td>9146.0</td>\n",
       "      <td>3.032828e+03</td>\n",
       "      <td>1462.334147</td>\n",
       "      <td>510.53000</td>\n",
       "      <td>1983.657500</td>\n",
       "      <td>2.684330e+03</td>\n",
       "      <td>3.830745e+03</td>\n",
       "      <td>1.353500e+04</td>\n",
       "    </tr>\n",
       "    <tr>\n",
       "      <th>malign_ratio</th>\n",
       "      <td>9146.0</td>\n",
       "      <td>3.030829e-01</td>\n",
       "      <td>0.062533</td>\n",
       "      <td>0.11482</td>\n",
       "      <td>0.259053</td>\n",
       "      <td>3.010550e-01</td>\n",
       "      <td>3.430025e-01</td>\n",
       "      <td>5.253000e-01</td>\n",
       "    </tr>\n",
       "    <tr>\n",
       "      <th>damage_size</th>\n",
       "      <td>9146.0</td>\n",
       "      <td>1.039021e+02</td>\n",
       "      <td>55.456862</td>\n",
       "      <td>10.31010</td>\n",
       "      <td>64.012525</td>\n",
       "      <td>8.845830e+01</td>\n",
       "      <td>1.342090e+02</td>\n",
       "      <td>3.464200e+02</td>\n",
       "    </tr>\n",
       "    <tr>\n",
       "      <th>exposed_area</th>\n",
       "      <td>9146.0</td>\n",
       "      <td>1.372442e+06</td>\n",
       "      <td>564677.287032</td>\n",
       "      <td>387853.40250</td>\n",
       "      <td>959687.264300</td>\n",
       "      <td>1.237057e+06</td>\n",
       "      <td>1.693083e+06</td>\n",
       "      <td>4.978616e+06</td>\n",
       "    </tr>\n",
       "    <tr>\n",
       "      <th>std_dev_malign</th>\n",
       "      <td>9146.0</td>\n",
       "      <td>1.463042e+02</td>\n",
       "      <td>70.512177</td>\n",
       "      <td>31.97040</td>\n",
       "      <td>95.853900</td>\n",
       "      <td>1.261385e+02</td>\n",
       "      <td>1.822515e+02</td>\n",
       "      <td>5.288900e+02</td>\n",
       "    </tr>\n",
       "    <tr>\n",
       "      <th>err_malign</th>\n",
       "      <td>9146.0</td>\n",
       "      <td>3.992936e+03</td>\n",
       "      <td>1780.672859</td>\n",
       "      <td>1089.19000</td>\n",
       "      <td>3177.682500</td>\n",
       "      <td>3.846320e+03</td>\n",
       "      <td>4.664577e+03</td>\n",
       "      <td>9.198370e+04</td>\n",
       "    </tr>\n",
       "    <tr>\n",
       "      <th>malign_penalty</th>\n",
       "      <td>9146.0</td>\n",
       "      <td>6.984966e+01</td>\n",
       "      <td>55.785332</td>\n",
       "      <td>0.00000</td>\n",
       "      <td>31.000000</td>\n",
       "      <td>5.400000e+01</td>\n",
       "      <td>9.100000e+01</td>\n",
       "      <td>3.400000e+02</td>\n",
       "    </tr>\n",
       "    <tr>\n",
       "      <th>damage_ratio</th>\n",
       "      <td>9146.0</td>\n",
       "      <td>3.446165e+01</td>\n",
       "      <td>5.972808</td>\n",
       "      <td>15.22800</td>\n",
       "      <td>30.290225</td>\n",
       "      <td>3.524575e+01</td>\n",
       "      <td>3.880607e+01</td>\n",
       "      <td>4.654640e+01</td>\n",
       "    </tr>\n",
       "    <tr>\n",
       "      <th>penalty-err</th>\n",
       "      <td>9146.0</td>\n",
       "      <td>-3.923087e+03</td>\n",
       "      <td>1760.148864</td>\n",
       "      <td>-91953.70000</td>\n",
       "      <td>-4568.067500</td>\n",
       "      <td>-3.799485e+03</td>\n",
       "      <td>-3.137638e+03</td>\n",
       "      <td>-1.053190e+03</td>\n",
       "    </tr>\n",
       "  </tbody>\n",
       "</table>\n",
       "</div>"
      ],
      "text/plain": [
       "                 count          mean            std           min  \\\n",
       "mass_npea       9146.0  9.903052e+03    4060.577116    2864.76000   \n",
       "size_npear      9146.0  3.032828e+03    1462.334147     510.53000   \n",
       "malign_ratio    9146.0  3.030829e-01       0.062533       0.11482   \n",
       "damage_size     9146.0  1.039021e+02      55.456862      10.31010   \n",
       "exposed_area    9146.0  1.372442e+06  564677.287032  387853.40250   \n",
       "std_dev_malign  9146.0  1.463042e+02      70.512177      31.97040   \n",
       "err_malign      9146.0  3.992936e+03    1780.672859    1089.19000   \n",
       "malign_penalty  9146.0  6.984966e+01      55.785332       0.00000   \n",
       "damage_ratio    9146.0  3.446165e+01       5.972808      15.22800   \n",
       "penalty-err     9146.0 -3.923087e+03    1760.148864  -91953.70000   \n",
       "\n",
       "                          25%           50%           75%           max  \n",
       "mass_npea         6988.420000  8.895965e+03  1.211995e+04  3.699540e+04  \n",
       "size_npear        1983.657500  2.684330e+03  3.830745e+03  1.353500e+04  \n",
       "malign_ratio         0.259053  3.010550e-01  3.430025e-01  5.253000e-01  \n",
       "damage_size         64.012525  8.845830e+01  1.342090e+02  3.464200e+02  \n",
       "exposed_area    959687.264300  1.237057e+06  1.693083e+06  4.978616e+06  \n",
       "std_dev_malign      95.853900  1.261385e+02  1.822515e+02  5.288900e+02  \n",
       "err_malign        3177.682500  3.846320e+03  4.664577e+03  9.198370e+04  \n",
       "malign_penalty      31.000000  5.400000e+01  9.100000e+01  3.400000e+02  \n",
       "damage_ratio        30.290225  3.524575e+01  3.880607e+01  4.654640e+01  \n",
       "penalty-err      -4568.067500 -3.799485e+03 -3.137638e+03 -1.053190e+03  "
      ]
     },
     "execution_count": 76,
     "metadata": {},
     "output_type": "execute_result"
    }
   ],
   "source": [
    "train.describe().T"
   ]
  },
  {
   "cell_type": "code",
   "execution_count": 270,
   "metadata": {},
   "outputs": [],
   "source": [
    "train['penalty/err'] = (train['malign_penalty']+1)/(train['err_malign']+1)"
   ]
  },
  {
   "cell_type": "code",
   "execution_count": 271,
   "metadata": {},
   "outputs": [],
   "source": [
    "scores = cross_val_score(model, train, target, cv = 5, scoring = rmse)"
   ]
  },
  {
   "cell_type": "code",
   "execution_count": 272,
   "metadata": {},
   "outputs": [
    {
     "data": {
      "text/plain": [
       "-3.687770159120447"
      ]
     },
     "execution_count": 272,
     "metadata": {},
     "output_type": "execute_result"
    }
   ],
   "source": [
    "scores.mean()"
   ]
  },
  {
   "cell_type": "code",
   "execution_count": 265,
   "metadata": {},
   "outputs": [],
   "source": [
    "train.drop(['penalty/err'], axis = 1, inplace = True)"
   ]
  },
  {
   "cell_type": "code",
   "execution_count": 266,
   "metadata": {},
   "outputs": [
    {
     "data": {
      "text/plain": [
       "-3.6968797344376467"
      ]
     },
     "execution_count": 266,
     "metadata": {},
     "output_type": "execute_result"
    }
   ],
   "source": [
    "scores = cross_val_score(model, train, target, cv = 5, scoring = rmse)\n",
    "\n",
    "scores.mean()"
   ]
  },
  {
   "cell_type": "code",
   "execution_count": 80,
   "metadata": {},
   "outputs": [
    {
     "data": {
      "text/plain": [
       "ExtraTreesRegressor(bootstrap=False, ccp_alpha=0.0, criterion='mse',\n",
       "                    max_depth=None, max_features='auto', max_leaf_nodes=None,\n",
       "                    max_samples=None, min_impurity_decrease=0.0,\n",
       "                    min_impurity_split=None, min_samples_leaf=1,\n",
       "                    min_samples_split=2, min_weight_fraction_leaf=0.0,\n",
       "                    n_estimators=100, n_jobs=-1, oob_score=False,\n",
       "                    random_state=2, verbose=0, warm_start=False)"
      ]
     },
     "execution_count": 80,
     "metadata": {},
     "output_type": "execute_result"
    }
   ],
   "source": [
    "model.fit(train, target)"
   ]
  },
  {
   "cell_type": "code",
   "execution_count": 81,
   "metadata": {},
   "outputs": [],
   "source": [
    "importance_df = pd.DataFrame()\n",
    "\n",
    "importance_df['cols'] = train.columns\n",
    "importance_df['importance'] = model.feature_importances_"
   ]
  },
  {
   "cell_type": "code",
   "execution_count": 82,
   "metadata": {},
   "outputs": [
    {
     "data": {
      "text/plain": [
       "<matplotlib.axes._subplots.AxesSubplot at 0x7fb2e0a76dd0>"
      ]
     },
     "execution_count": 82,
     "metadata": {},
     "output_type": "execute_result"
    },
    {
     "data": {
      "image/png": "[encoded data removed]",
      "text/plain": [
       "<Figure size 432x288 with 1 Axes>"
      ]
     },
     "metadata": {},
     "output_type": "display_data"
    }
   ],
   "source": [
    "sns.barplot(x = importance_df['importance'], y = importance_df['cols'])"
   ]
  },
  {
   "cell_type": "code",
   "execution_count": 83,
   "metadata": {},
   "outputs": [],
   "source": [
    "train['malign_area'] = np.log1p(train_ori['size_npear']/(train_ori['malign_ratio'] + 1))"
   ]
  },
  {
   "cell_type": "code",
   "execution_count": 84,
   "metadata": {},
   "outputs": [],
   "source": [
    "scores = cross_val_score(model, train, target, cv = 5, scoring = rmse)"
   ]
  },
  {
   "cell_type": "code",
   "execution_count": 85,
   "metadata": {},
   "outputs": [
    {
     "data": {
      "text/plain": [
       "-3.9022134961929034"
      ]
     },
     "execution_count": 85,
     "metadata": {},
     "output_type": "execute_result"
    }
   ],
   "source": [
    "scores.mean()"
   ]
  },
  {
   "cell_type": "code",
   "execution_count": 86,
   "metadata": {},
   "outputs": [],
   "source": [
    "train.drop(['malign_area'], axis = 1, inplace = True)"
   ]
  },
  {
   "cell_type": "code",
   "execution_count": 87,
   "metadata": {},
   "outputs": [
    {
     "data": {
      "text/html": [
       "<div>\n",
       "<style scoped>\n",
       "    .dataframe tbody tr th:only-of-type {\n",
       "        vertical-align: middle;\n",
       "    }\n",
       "\n",
       "    .dataframe tbody tr th {\n",
       "        vertical-align: top;\n",
       "    }\n",
       "\n",
       "    .dataframe thead th {\n",
       "        text-align: right;\n",
       "    }\n",
       "</style>\n",
       "<table border=\"1\" class=\"dataframe\">\n",
       "  <thead>\n",
       "    <tr style=\"text-align: right;\">\n",
       "      <th></th>\n",
       "      <th>mass_npea</th>\n",
       "      <th>size_npear</th>\n",
       "      <th>malign_ratio</th>\n",
       "      <th>damage_size</th>\n",
       "      <th>exposed_area</th>\n",
       "      <th>std_dev_malign</th>\n",
       "      <th>err_malign</th>\n",
       "      <th>malign_penalty</th>\n",
       "      <th>damage_ratio</th>\n",
       "      <th>penalty-err</th>\n",
       "      <th>penalty/err</th>\n",
       "    </tr>\n",
       "  </thead>\n",
       "  <tbody>\n",
       "    <tr>\n",
       "      <th>mass_npea</th>\n",
       "      <td>1.000000</td>\n",
       "      <td>0.907335</td>\n",
       "      <td>0.123411</td>\n",
       "      <td>0.930691</td>\n",
       "      <td>0.998167</td>\n",
       "      <td>0.968006</td>\n",
       "      <td>0.617207</td>\n",
       "      <td>0.654849</td>\n",
       "      <td>-0.901106</td>\n",
       "      <td>-0.603650</td>\n",
       "      <td>0.363954</td>\n",
       "    </tr>\n",
       "    <tr>\n",
       "      <th>size_npear</th>\n",
       "      <td>0.907335</td>\n",
       "      <td>1.000000</td>\n",
       "      <td>0.499398</td>\n",
       "      <td>0.794096</td>\n",
       "      <td>0.903502</td>\n",
       "      <td>0.907932</td>\n",
       "      <td>0.570343</td>\n",
       "      <td>0.593019</td>\n",
       "      <td>-0.791768</td>\n",
       "      <td>-0.558199</td>\n",
       "      <td>0.338679</td>\n",
       "    </tr>\n",
       "    <tr>\n",
       "      <th>malign_ratio</th>\n",
       "      <td>0.123411</td>\n",
       "      <td>0.499398</td>\n",
       "      <td>1.000000</td>\n",
       "      <td>0.029167</td>\n",
       "      <td>0.119389</td>\n",
       "      <td>0.196430</td>\n",
       "      <td>0.081228</td>\n",
       "      <td>0.102475</td>\n",
       "      <td>-0.068605</td>\n",
       "      <td>-0.078927</td>\n",
       "      <td>0.112221</td>\n",
       "    </tr>\n",
       "    <tr>\n",
       "      <th>damage_size</th>\n",
       "      <td>0.930691</td>\n",
       "      <td>0.794096</td>\n",
       "      <td>0.029167</td>\n",
       "      <td>1.000000</td>\n",
       "      <td>0.925266</td>\n",
       "      <td>0.938202</td>\n",
       "      <td>0.535834</td>\n",
       "      <td>0.676904</td>\n",
       "      <td>-0.892006</td>\n",
       "      <td>-0.520629</td>\n",
       "      <td>0.419515</td>\n",
       "    </tr>\n",
       "    <tr>\n",
       "      <th>exposed_area</th>\n",
       "      <td>0.998167</td>\n",
       "      <td>0.903502</td>\n",
       "      <td>0.119389</td>\n",
       "      <td>0.925266</td>\n",
       "      <td>1.000000</td>\n",
       "      <td>0.962462</td>\n",
       "      <td>0.617149</td>\n",
       "      <td>0.646444</td>\n",
       "      <td>-0.900717</td>\n",
       "      <td>-0.603857</td>\n",
       "      <td>0.355366</td>\n",
       "    </tr>\n",
       "    <tr>\n",
       "      <th>std_dev_malign</th>\n",
       "      <td>0.968006</td>\n",
       "      <td>0.907932</td>\n",
       "      <td>0.196430</td>\n",
       "      <td>0.938202</td>\n",
       "      <td>0.962462</td>\n",
       "      <td>1.000000</td>\n",
       "      <td>0.597842</td>\n",
       "      <td>0.667264</td>\n",
       "      <td>-0.884481</td>\n",
       "      <td>-0.583665</td>\n",
       "      <td>0.393207</td>\n",
       "    </tr>\n",
       "    <tr>\n",
       "      <th>err_malign</th>\n",
       "      <td>0.617207</td>\n",
       "      <td>0.570343</td>\n",
       "      <td>0.081228</td>\n",
       "      <td>0.535834</td>\n",
       "      <td>0.617149</td>\n",
       "      <td>0.597842</td>\n",
       "      <td>1.000000</td>\n",
       "      <td>0.381454</td>\n",
       "      <td>-0.583945</td>\n",
       "      <td>-0.999571</td>\n",
       "      <td>0.119414</td>\n",
       "    </tr>\n",
       "    <tr>\n",
       "      <th>malign_penalty</th>\n",
       "      <td>0.654849</td>\n",
       "      <td>0.593019</td>\n",
       "      <td>0.102475</td>\n",
       "      <td>0.676904</td>\n",
       "      <td>0.646444</td>\n",
       "      <td>0.667264</td>\n",
       "      <td>0.381454</td>\n",
       "      <td>1.000000</td>\n",
       "      <td>-0.646893</td>\n",
       "      <td>-0.354208</td>\n",
       "      <td>0.899606</td>\n",
       "    </tr>\n",
       "    <tr>\n",
       "      <th>damage_ratio</th>\n",
       "      <td>-0.901106</td>\n",
       "      <td>-0.791768</td>\n",
       "      <td>-0.068605</td>\n",
       "      <td>-0.892006</td>\n",
       "      <td>-0.900717</td>\n",
       "      <td>-0.884481</td>\n",
       "      <td>-0.583945</td>\n",
       "      <td>-0.646893</td>\n",
       "      <td>1.000000</td>\n",
       "      <td>0.570251</td>\n",
       "      <td>-0.364375</td>\n",
       "    </tr>\n",
       "    <tr>\n",
       "      <th>penalty-err</th>\n",
       "      <td>-0.603650</td>\n",
       "      <td>-0.558199</td>\n",
       "      <td>-0.078927</td>\n",
       "      <td>-0.520629</td>\n",
       "      <td>-0.603857</td>\n",
       "      <td>-0.583665</td>\n",
       "      <td>-0.999571</td>\n",
       "      <td>-0.354208</td>\n",
       "      <td>0.570251</td>\n",
       "      <td>1.000000</td>\n",
       "      <td>-0.092294</td>\n",
       "    </tr>\n",
       "    <tr>\n",
       "      <th>penalty/err</th>\n",
       "      <td>0.363954</td>\n",
       "      <td>0.338679</td>\n",
       "      <td>0.112221</td>\n",
       "      <td>0.419515</td>\n",
       "      <td>0.355366</td>\n",
       "      <td>0.393207</td>\n",
       "      <td>0.119414</td>\n",
       "      <td>0.899606</td>\n",
       "      <td>-0.364375</td>\n",
       "      <td>-0.092294</td>\n",
       "      <td>1.000000</td>\n",
       "    </tr>\n",
       "  </tbody>\n",
       "</table>\n",
       "</div>"
      ],
      "text/plain": [
       "                mass_npea  size_npear  malign_ratio  damage_size  \\\n",
       "mass_npea        1.000000    0.907335      0.123411     0.930691   \n",
       "size_npear       0.907335    1.000000      0.499398     0.794096   \n",
       "malign_ratio     0.123411    0.499398      1.000000     0.029167   \n",
       "damage_size      0.930691    0.794096      0.029167     1.000000   \n",
       "exposed_area     0.998167    0.903502      0.119389     0.925266   \n",
       "std_dev_malign   0.968006    0.907932      0.196430     0.938202   \n",
       "err_malign       0.617207    0.570343      0.081228     0.535834   \n",
       "malign_penalty   0.654849    0.593019      0.102475     0.676904   \n",
       "damage_ratio    -0.901106   -0.791768     -0.068605    -0.892006   \n",
       "penalty-err     -0.603650   -0.558199     -0.078927    -0.520629   \n",
       "penalty/err      0.363954    0.338679      0.112221     0.419515   \n",
       "\n",
       "                exposed_area  std_dev_malign  err_malign  malign_penalty  \\\n",
       "mass_npea           0.998167        0.968006    0.617207        0.654849   \n",
       "size_npear          0.903502        0.907932    0.570343        0.593019   \n",
       "malign_ratio        0.119389        0.196430    0.081228        0.102475   \n",
       "damage_size         0.925266        0.938202    0.535834        0.676904   \n",
       "exposed_area        1.000000        0.962462    0.617149        0.646444   \n",
       "std_dev_malign      0.962462        1.000000    0.597842        0.667264   \n",
       "err_malign          0.617149        0.597842    1.000000        0.381454   \n",
       "malign_penalty      0.646444        0.667264    0.381454        1.000000   \n",
       "damage_ratio       -0.900717       -0.884481   -0.583945       -0.646893   \n",
       "penalty-err        -0.603857       -0.583665   -0.999571       -0.354208   \n",
       "penalty/err         0.355366        0.393207    0.119414        0.899606   \n",
       "\n",
       "                damage_ratio  penalty-err  penalty/err  \n",
       "mass_npea          -0.901106    -0.603650     0.363954  \n",
       "size_npear         -0.791768    -0.558199     0.338679  \n",
       "malign_ratio       -0.068605    -0.078927     0.112221  \n",
       "damage_size        -0.892006    -0.520629     0.419515  \n",
       "exposed_area       -0.900717    -0.603857     0.355366  \n",
       "std_dev_malign     -0.884481    -0.583665     0.393207  \n",
       "err_malign         -0.583945    -0.999571     0.119414  \n",
       "malign_penalty     -0.646893    -0.354208     0.899606  \n",
       "damage_ratio        1.000000     0.570251    -0.364375  \n",
       "penalty-err         0.570251     1.000000    -0.092294  \n",
       "penalty/err        -0.364375    -0.092294     1.000000  "
      ]
     },
     "execution_count": 87,
     "metadata": {},
     "output_type": "execute_result"
    }
   ],
   "source": [
    "train.corr()"
   ]
  },
  {
   "cell_type": "code",
   "execution_count": 88,
   "metadata": {},
   "outputs": [],
   "source": [
    "train['err-std'] = train['err_malign'] - train['std_dev_malign']"
   ]
  },
  {
   "cell_type": "code",
   "execution_count": 89,
   "metadata": {},
   "outputs": [],
   "source": [
    "scores = cross_val_score(model, train, target, cv = 5, scoring = rmse)"
   ]
  },
  {
   "cell_type": "code",
   "execution_count": 90,
   "metadata": {},
   "outputs": [
    {
     "data": {
      "text/plain": [
       "-3.8795539390635314"
      ]
     },
     "execution_count": 90,
     "metadata": {},
     "output_type": "execute_result"
    }
   ],
   "source": [
    "scores.mean()"
   ]
  },
  {
   "cell_type": "code",
   "execution_count": 91,
   "metadata": {},
   "outputs": [
    {
     "data": {
      "text/plain": [
       "ExtraTreesRegressor(bootstrap=False, ccp_alpha=0.0, criterion='mse',\n",
       "                    max_depth=None, max_features='auto', max_leaf_nodes=None,\n",
       "                    max_samples=None, min_impurity_decrease=0.0,\n",
       "                    min_impurity_split=None, min_samples_leaf=1,\n",
       "                    min_samples_split=2, min_weight_fraction_leaf=0.0,\n",
       "                    n_estimators=100, n_jobs=-1, oob_score=False,\n",
       "                    random_state=2, verbose=0, warm_start=False)"
      ]
     },
     "execution_count": 91,
     "metadata": {},
     "output_type": "execute_result"
    }
   ],
   "source": [
    "model.fit(train, target)"
   ]
  },
  {
   "cell_type": "code",
   "execution_count": 92,
   "metadata": {},
   "outputs": [],
   "source": [
    "importance_df = pd.DataFrame()\n",
    "\n",
    "importance_df['cols'] = train.columns\n",
    "importance_df['importance'] = model.feature_importances_"
   ]
  },
  {
   "cell_type": "code",
   "execution_count": 93,
   "metadata": {},
   "outputs": [
    {
     "data": {
      "text/plain": [
       "<matplotlib.axes._subplots.AxesSubplot at 0x7fb2e0b117d0>"
      ]
     },
     "execution_count": 93,
     "metadata": {},
     "output_type": "execute_result"
    },
    {
     "data": {
      "image/png": "[encoded data removed]",
      "text/plain": [
       "<Figure size 432x288 with 1 Axes>"
      ]
     },
     "metadata": {},
     "output_type": "display_data"
    }
   ],
   "source": [
    "sns.barplot(x = importance_df['importance'], y = importance_df['cols'])"
   ]
  },
  {
   "cell_type": "code",
   "execution_count": 98,
   "metadata": {},
   "outputs": [],
   "source": [
    "train.drop(['err-std'], axis = 1, inplace = True)"
   ]
  },
  {
   "cell_type": "code",
   "execution_count": 99,
   "metadata": {},
   "outputs": [],
   "source": [
    "train['penalty-std'] = train['malign_penalty'] - train['std_dev_malign']"
   ]
  },
  {
   "cell_type": "code",
   "execution_count": 100,
   "metadata": {},
   "outputs": [],
   "source": [
    "scores = cross_val_score(model, train, target, cv = 5, scoring = rmse)"
   ]
  },
  {
   "cell_type": "code",
   "execution_count": 101,
   "metadata": {},
   "outputs": [
    {
     "data": {
      "text/plain": [
       "-3.89019634871163"
      ]
     },
     "execution_count": 101,
     "metadata": {},
     "output_type": "execute_result"
    }
   ],
   "source": [
    "scores.mean()"
   ]
  },
  {
   "cell_type": "code",
   "execution_count": 102,
   "metadata": {},
   "outputs": [
    {
     "data": {
      "text/plain": [
       "<matplotlib.axes._subplots.AxesSubplot at 0x7fb2e0709790>"
      ]
     },
     "execution_count": 102,
     "metadata": {},
     "output_type": "execute_result"
    },
    {
     "data": {
      "image/png": "[encoded data removed]",
      "text/plain": [
       "<Figure size 432x288 with 1 Axes>"
      ]
     },
     "metadata": {},
     "output_type": "display_data"
    }
   ],
   "source": [
    "model.fit(train, target)\n",
    "\n",
    "sns.barplot(x = model.feature_importances_, y = train.columns)"
   ]
  },
  {
   "cell_type": "code",
   "execution_count": 103,
   "metadata": {},
   "outputs": [],
   "source": [
    "train.drop(['penalty-std'], axis = 1, inplace = True)"
   ]
  },
  {
   "cell_type": "code",
   "execution_count": 104,
   "metadata": {},
   "outputs": [],
   "source": [
    "train['mass-size'] = train['mass_npea'] - train['size_npear']"
   ]
  },
  {
   "cell_type": "code",
   "execution_count": 105,
   "metadata": {},
   "outputs": [],
   "source": [
    "scores = cross_val_score(model, train, target, cv = 5, scoring = rmse)"
   ]
  },
  {
   "cell_type": "code",
   "execution_count": 106,
   "metadata": {},
   "outputs": [
    {
     "data": {
      "text/plain": [
       "-3.8965676942123224"
      ]
     },
     "execution_count": 106,
     "metadata": {},
     "output_type": "execute_result"
    }
   ],
   "source": [
    "scores.mean()"
   ]
  },
  {
   "cell_type": "code",
   "execution_count": 107,
   "metadata": {},
   "outputs": [],
   "source": [
    "train.drop(['mass-size'],axis = 1, inplace = True)"
   ]
  },
  {
   "cell_type": "code",
   "execution_count": 108,
   "metadata": {},
   "outputs": [],
   "source": [
    "train['d_size-ratio'] = train['damage_size'] - train['damage_ratio']"
   ]
  },
  {
   "cell_type": "code",
   "execution_count": 109,
   "metadata": {},
   "outputs": [],
   "source": [
    "scores = cross_val_score(model, train, target, cv = 5, scoring = rmse)"
   ]
  },
  {
   "cell_type": "code",
   "execution_count": 110,
   "metadata": {},
   "outputs": [
    {
     "data": {
      "text/plain": [
       "-3.87545682247248"
      ]
     },
     "execution_count": 110,
     "metadata": {},
     "output_type": "execute_result"
    }
   ],
   "source": [
    "scores.mean()"
   ]
  },
  {
   "cell_type": "code",
   "execution_count": 111,
   "metadata": {},
   "outputs": [
    {
     "data": {
      "text/plain": [
       "<matplotlib.axes._subplots.AxesSubplot at 0x7fb2e089f0d0>"
      ]
     },
     "execution_count": 111,
     "metadata": {},
     "output_type": "execute_result"
    },
    {
     "data": {
      "image/png": "[encoded data removed]",
      "text/plain": [
       "<Figure size 432x288 with 1 Axes>"
      ]
     },
     "metadata": {},
     "output_type": "display_data"
    }
   ],
   "source": [
    "model.fit(train, target)\n",
    "\n",
    "sns.barplot(x = model.feature_importances_, y = train.columns)"
   ]
  },
  {
   "cell_type": "code",
   "execution_count": 112,
   "metadata": {},
   "outputs": [],
   "source": [
    "train['d_ratio-m_ratio'] = train['damage_ratio'] - (train['malign_ratio'])"
   ]
  },
  {
   "cell_type": "code",
   "execution_count": 113,
   "metadata": {},
   "outputs": [],
   "source": [
    "scores = cross_val_score(model, train, target, cv = 5, scoring = rmse)"
   ]
  },
  {
   "cell_type": "code",
   "execution_count": 114,
   "metadata": {},
   "outputs": [
    {
     "data": {
      "text/plain": [
       "-3.863754226283784"
      ]
     },
     "execution_count": 114,
     "metadata": {},
     "output_type": "execute_result"
    }
   ],
   "source": [
    "scores.mean()"
   ]
  },
  {
   "cell_type": "code",
   "execution_count": 115,
   "metadata": {},
   "outputs": [],
   "source": [
    "train['penalty/std'] = train['malign_penalty']/train['std_dev_malign']"
   ]
  },
  {
   "cell_type": "code",
   "execution_count": 116,
   "metadata": {},
   "outputs": [],
   "source": [
    "scores = cross_val_score(model, train, target, cv = 5, scoring = rmse)"
   ]
  },
  {
   "cell_type": "code",
   "execution_count": 117,
   "metadata": {},
   "outputs": [
    {
     "data": {
      "text/plain": [
       "-3.8492066459594603"
      ]
     },
     "execution_count": 117,
     "metadata": {},
     "output_type": "execute_result"
    }
   ],
   "source": [
    "scores.mean()"
   ]
  },
  {
   "cell_type": "code",
   "execution_count": 118,
   "metadata": {},
   "outputs": [],
   "source": [
    "x = (train_ori['size_npear']/(train_ori['malign_ratio'] + 1))/10"
   ]
  },
  {
   "cell_type": "code",
   "execution_count": 119,
   "metadata": {},
   "outputs": [],
   "source": [
    "train['x/d_size'] = x/train['damage_size']"
   ]
  },
  {
   "cell_type": "code",
   "execution_count": 120,
   "metadata": {},
   "outputs": [],
   "source": [
    "scores = cross_val_score(model, train, target, cv = 5, scoring = rmse)"
   ]
  },
  {
   "cell_type": "code",
   "execution_count": 121,
   "metadata": {},
   "outputs": [
    {
     "data": {
      "text/plain": [
       "-3.8738020946309843"
      ]
     },
     "execution_count": 121,
     "metadata": {},
     "output_type": "execute_result"
    }
   ],
   "source": [
    "scores.mean()"
   ]
  },
  {
   "cell_type": "code",
   "execution_count": 122,
   "metadata": {},
   "outputs": [],
   "source": [
    "train.drop(['x/d_size'], axis = 1, inplace = True)"
   ]
  },
  {
   "cell_type": "code",
   "execution_count": 123,
   "metadata": {},
   "outputs": [
    {
     "data": {
      "text/plain": [
       "<matplotlib.axes._subplots.AxesSubplot at 0x7fb2be2e35d0>"
      ]
     },
     "execution_count": 123,
     "metadata": {},
     "output_type": "execute_result"
    },
    {
     "data": {
      "image/png": "[encoded data removed]",
      "text/plain": [
       "<Figure size 720x720 with 2 Axes>"
      ]
     },
     "metadata": {},
     "output_type": "display_data"
    }
   ],
   "source": [
    "plt.figure(figsize = (10,10))\n",
    "\n",
    "sns.heatmap(train.corr())"
   ]
  },
  {
   "cell_type": "code",
   "execution_count": 124,
   "metadata": {},
   "outputs": [],
   "source": [
    "train['mass/size'] = (train['mass_npea'])/(train['exposed_area'])"
   ]
  },
  {
   "cell_type": "code",
   "execution_count": 125,
   "metadata": {},
   "outputs": [],
   "source": [
    "scores = cross_val_score(model, train, target, cv = 5, scoring = rmse)"
   ]
  },
  {
   "cell_type": "code",
   "execution_count": 126,
   "metadata": {},
   "outputs": [
    {
     "data": {
      "text/plain": [
       "-3.775557120760589"
      ]
     },
     "execution_count": 126,
     "metadata": {},
     "output_type": "execute_result"
    }
   ],
   "source": [
    "scores.mean()"
   ]
  },
  {
   "cell_type": "code",
   "execution_count": 127,
   "metadata": {},
   "outputs": [
    {
     "data": {
      "text/plain": [
       "<matplotlib.axes._subplots.AxesSubplot at 0x7fb2be0a4710>"
      ]
     },
     "execution_count": 127,
     "metadata": {},
     "output_type": "execute_result"
    },
    {
     "data": {
      "image/png": "[encoded data removed]",
      "text/plain": [
       "<Figure size 432x288 with 1 Axes>"
      ]
     },
     "metadata": {},
     "output_type": "display_data"
    }
   ],
   "source": [
    "model.fit(train, target)\n",
    "\n",
    "sns.barplot(x = model.feature_importances_, y = train.columns)"
   ]
  },
  {
   "cell_type": "code",
   "execution_count": 128,
   "metadata": {},
   "outputs": [],
   "source": [
    "train['area/mass'] = train_ori['exposed_area']/train_ori['mass_npea']"
   ]
  },
  {
   "cell_type": "code",
   "execution_count": 129,
   "metadata": {},
   "outputs": [],
   "source": [
    "scores = cross_val_score(model, train, target, cv = 5, scoring = rmse)"
   ]
  },
  {
   "cell_type": "code",
   "execution_count": 130,
   "metadata": {},
   "outputs": [
    {
     "data": {
      "text/plain": [
       "-3.7655400432110233"
      ]
     },
     "execution_count": 130,
     "metadata": {},
     "output_type": "execute_result"
    }
   ],
   "source": [
    "scores.mean()"
   ]
  },
  {
   "cell_type": "code",
   "execution_count": 131,
   "metadata": {},
   "outputs": [
    {
     "data": {
      "text/plain": [
       "<matplotlib.axes._subplots.AxesSubplot at 0x7fb2bd5bd9d0>"
      ]
     },
     "execution_count": 131,
     "metadata": {},
     "output_type": "execute_result"
    },
    {
     "data": {
      "image/png": "[encoded data removed]",
      "text/plain": [
       "<Figure size 432x288 with 1 Axes>"
      ]
     },
     "metadata": {},
     "output_type": "display_data"
    }
   ],
   "source": [
    "model.fit(train, target)\n",
    "\n",
    "sns.barplot(x = model.feature_importances_, y = train.columns)"
   ]
  },
  {
   "cell_type": "code",
   "execution_count": 132,
   "metadata": {},
   "outputs": [],
   "source": [
    "train['err/std'] = train['penalty-err']/train['std_dev_malign']"
   ]
  },
  {
   "cell_type": "code",
   "execution_count": 133,
   "metadata": {},
   "outputs": [],
   "source": [
    "scores = cross_val_score(model, train, target, cv = 5, scoring = rmse)"
   ]
  },
  {
   "cell_type": "code",
   "execution_count": 134,
   "metadata": {},
   "outputs": [
    {
     "data": {
      "text/plain": [
       "-3.75532550388458"
      ]
     },
     "execution_count": 134,
     "metadata": {},
     "output_type": "execute_result"
    }
   ],
   "source": [
    "scores.mean()"
   ]
  },
  {
   "cell_type": "code",
   "execution_count": 135,
   "metadata": {},
   "outputs": [],
   "source": [
    "train['dsr/ps'] = train['damage_size']/train['penalty-err']"
   ]
  },
  {
   "cell_type": "code",
   "execution_count": 136,
   "metadata": {},
   "outputs": [],
   "source": [
    "scores = cross_val_score(model, train, target, cv = 5, scoring = rmse)"
   ]
  },
  {
   "cell_type": "code",
   "execution_count": 137,
   "metadata": {},
   "outputs": [
    {
     "data": {
      "text/plain": [
       "-3.7353849930049323"
      ]
     },
     "execution_count": 137,
     "metadata": {},
     "output_type": "execute_result"
    }
   ],
   "source": [
    "scores.mean()"
   ]
  },
  {
   "cell_type": "code",
   "execution_count": 138,
   "metadata": {},
   "outputs": [],
   "source": [
    "train['size/area'] = train_ori['exposed_area']/train_ori['size_npear']"
   ]
  },
  {
   "cell_type": "code",
   "execution_count": 139,
   "metadata": {},
   "outputs": [],
   "source": [
    "scores = cross_val_score(model, train, target, cv = 5, scoring = rmse)"
   ]
  },
  {
   "cell_type": "code",
   "execution_count": 140,
   "metadata": {},
   "outputs": [
    {
     "data": {
      "text/plain": [
       "-3.7853415636277985"
      ]
     },
     "execution_count": 140,
     "metadata": {},
     "output_type": "execute_result"
    }
   ],
   "source": [
    "scores.mean()"
   ]
  },
  {
   "cell_type": "code",
   "execution_count": 141,
   "metadata": {},
   "outputs": [],
   "source": [
    "train.drop(['size/area'], axis = 1, inplace = True)"
   ]
  },
  {
   "cell_type": "code",
   "execution_count": 142,
   "metadata": {},
   "outputs": [],
   "source": [
    "train['ds/mr'] = train['damage_size']/(train['malign_ratio']*100)"
   ]
  },
  {
   "cell_type": "code",
   "execution_count": 143,
   "metadata": {},
   "outputs": [],
   "source": [
    "scores = cross_val_score(model, train, target, cv = 5, scoring = rmse)"
   ]
  },
  {
   "cell_type": "code",
   "execution_count": 144,
   "metadata": {},
   "outputs": [
    {
     "data": {
      "text/plain": [
       "-3.750728651104528"
      ]
     },
     "execution_count": 144,
     "metadata": {},
     "output_type": "execute_result"
    }
   ],
   "source": [
    "scores.mean()"
   ]
  },
  {
   "cell_type": "code",
   "execution_count": 145,
   "metadata": {},
   "outputs": [],
   "source": [
    "train.drop(['ds/mr'], axis = 1, inplace = True)"
   ]
  },
  {
   "cell_type": "code",
   "execution_count": 146,
   "metadata": {},
   "outputs": [
    {
     "data": {
      "text/html": [
       "<div>\n",
       "<style scoped>\n",
       "    .dataframe tbody tr th:only-of-type {\n",
       "        vertical-align: middle;\n",
       "    }\n",
       "\n",
       "    .dataframe tbody tr th {\n",
       "        vertical-align: top;\n",
       "    }\n",
       "\n",
       "    .dataframe thead th {\n",
       "        text-align: right;\n",
       "    }\n",
       "</style>\n",
       "<table border=\"1\" class=\"dataframe\">\n",
       "  <thead>\n",
       "    <tr style=\"text-align: right;\">\n",
       "      <th></th>\n",
       "      <th>count</th>\n",
       "      <th>mean</th>\n",
       "      <th>std</th>\n",
       "      <th>min</th>\n",
       "      <th>25%</th>\n",
       "      <th>50%</th>\n",
       "      <th>75%</th>\n",
       "      <th>max</th>\n",
       "    </tr>\n",
       "  </thead>\n",
       "  <tbody>\n",
       "    <tr>\n",
       "      <th>mass_npea</th>\n",
       "      <td>9146.0</td>\n",
       "      <td>9.903052e+03</td>\n",
       "      <td>4060.577116</td>\n",
       "      <td>2864.760000</td>\n",
       "      <td>6988.420000</td>\n",
       "      <td>8.895965e+03</td>\n",
       "      <td>1.211995e+04</td>\n",
       "      <td>3.699540e+04</td>\n",
       "    </tr>\n",
       "    <tr>\n",
       "      <th>size_npear</th>\n",
       "      <td>9146.0</td>\n",
       "      <td>3.032828e+03</td>\n",
       "      <td>1462.334147</td>\n",
       "      <td>510.530000</td>\n",
       "      <td>1983.657500</td>\n",
       "      <td>2.684330e+03</td>\n",
       "      <td>3.830745e+03</td>\n",
       "      <td>1.353500e+04</td>\n",
       "    </tr>\n",
       "    <tr>\n",
       "      <th>malign_ratio</th>\n",
       "      <td>9146.0</td>\n",
       "      <td>3.030829e-01</td>\n",
       "      <td>0.062533</td>\n",
       "      <td>0.114820</td>\n",
       "      <td>0.259053</td>\n",
       "      <td>3.010550e-01</td>\n",
       "      <td>3.430025e-01</td>\n",
       "      <td>5.253000e-01</td>\n",
       "    </tr>\n",
       "    <tr>\n",
       "      <th>damage_size</th>\n",
       "      <td>9146.0</td>\n",
       "      <td>1.039021e+02</td>\n",
       "      <td>55.456862</td>\n",
       "      <td>10.310100</td>\n",
       "      <td>64.012525</td>\n",
       "      <td>8.845830e+01</td>\n",
       "      <td>1.342090e+02</td>\n",
       "      <td>3.464200e+02</td>\n",
       "    </tr>\n",
       "    <tr>\n",
       "      <th>exposed_area</th>\n",
       "      <td>9146.0</td>\n",
       "      <td>1.372442e+06</td>\n",
       "      <td>564677.287032</td>\n",
       "      <td>387853.402500</td>\n",
       "      <td>959687.264300</td>\n",
       "      <td>1.237057e+06</td>\n",
       "      <td>1.693083e+06</td>\n",
       "      <td>4.978616e+06</td>\n",
       "    </tr>\n",
       "    <tr>\n",
       "      <th>std_dev_malign</th>\n",
       "      <td>9146.0</td>\n",
       "      <td>1.463042e+02</td>\n",
       "      <td>70.512177</td>\n",
       "      <td>31.970400</td>\n",
       "      <td>95.853900</td>\n",
       "      <td>1.261385e+02</td>\n",
       "      <td>1.822515e+02</td>\n",
       "      <td>5.288900e+02</td>\n",
       "    </tr>\n",
       "    <tr>\n",
       "      <th>err_malign</th>\n",
       "      <td>9146.0</td>\n",
       "      <td>3.992936e+03</td>\n",
       "      <td>1780.672859</td>\n",
       "      <td>1089.190000</td>\n",
       "      <td>3177.682500</td>\n",
       "      <td>3.846320e+03</td>\n",
       "      <td>4.664577e+03</td>\n",
       "      <td>9.198370e+04</td>\n",
       "    </tr>\n",
       "    <tr>\n",
       "      <th>malign_penalty</th>\n",
       "      <td>9146.0</td>\n",
       "      <td>6.984966e+01</td>\n",
       "      <td>55.785332</td>\n",
       "      <td>0.000000</td>\n",
       "      <td>31.000000</td>\n",
       "      <td>5.400000e+01</td>\n",
       "      <td>9.100000e+01</td>\n",
       "      <td>3.400000e+02</td>\n",
       "    </tr>\n",
       "    <tr>\n",
       "      <th>damage_ratio</th>\n",
       "      <td>9146.0</td>\n",
       "      <td>3.446165e+01</td>\n",
       "      <td>5.972808</td>\n",
       "      <td>15.228000</td>\n",
       "      <td>30.290225</td>\n",
       "      <td>3.524575e+01</td>\n",
       "      <td>3.880607e+01</td>\n",
       "      <td>4.654640e+01</td>\n",
       "    </tr>\n",
       "    <tr>\n",
       "      <th>penalty-err</th>\n",
       "      <td>9146.0</td>\n",
       "      <td>-3.923087e+03</td>\n",
       "      <td>1760.148864</td>\n",
       "      <td>-91953.700000</td>\n",
       "      <td>-4568.067500</td>\n",
       "      <td>-3.799485e+03</td>\n",
       "      <td>-3.137638e+03</td>\n",
       "      <td>-1.053190e+03</td>\n",
       "    </tr>\n",
       "    <tr>\n",
       "      <th>penalty/err</th>\n",
       "      <td>9146.0</td>\n",
       "      <td>1.691961e-02</td>\n",
       "      <td>0.010774</td>\n",
       "      <td>0.000000</td>\n",
       "      <td>0.008896</td>\n",
       "      <td>1.471175e-02</td>\n",
       "      <td>2.290678e-02</td>\n",
       "      <td>6.681378e-02</td>\n",
       "    </tr>\n",
       "    <tr>\n",
       "      <th>d_size-ratio</th>\n",
       "      <td>9146.0</td>\n",
       "      <td>6.944047e+01</td>\n",
       "      <td>60.844572</td>\n",
       "      <td>-34.389300</td>\n",
       "      <td>25.557750</td>\n",
       "      <td>5.298980e+01</td>\n",
       "      <td>1.040223e+02</td>\n",
       "      <td>3.278066e+02</td>\n",
       "    </tr>\n",
       "    <tr>\n",
       "      <th>d_ratio-m_ratio</th>\n",
       "      <td>9146.0</td>\n",
       "      <td>3.415857e+01</td>\n",
       "      <td>5.977424</td>\n",
       "      <td>14.920880</td>\n",
       "      <td>30.008418</td>\n",
       "      <td>3.494804e+01</td>\n",
       "      <td>3.850057e+01</td>\n",
       "      <td>4.641665e+01</td>\n",
       "    </tr>\n",
       "    <tr>\n",
       "      <th>penalty/std</th>\n",
       "      <td>9146.0</td>\n",
       "      <td>4.693436e-01</td>\n",
       "      <td>0.263664</td>\n",
       "      <td>0.000000</td>\n",
       "      <td>0.273917</td>\n",
       "      <td>4.124855e-01</td>\n",
       "      <td>6.394334e-01</td>\n",
       "      <td>1.526758e+00</td>\n",
       "    </tr>\n",
       "    <tr>\n",
       "      <th>mass/size</th>\n",
       "      <td>9146.0</td>\n",
       "      <td>7.225809e-03</td>\n",
       "      <td>0.000191</td>\n",
       "      <td>0.006695</td>\n",
       "      <td>0.007092</td>\n",
       "      <td>7.208746e-03</td>\n",
       "      <td>7.326747e-03</td>\n",
       "      <td>8.296222e-03</td>\n",
       "    </tr>\n",
       "    <tr>\n",
       "      <th>area/mass</th>\n",
       "      <td>9146.0</td>\n",
       "      <td>1.384877e+02</td>\n",
       "      <td>3.587080</td>\n",
       "      <td>120.536792</td>\n",
       "      <td>136.486215</td>\n",
       "      <td>1.387204e+02</td>\n",
       "      <td>1.410008e+02</td>\n",
       "      <td>1.493619e+02</td>\n",
       "    </tr>\n",
       "    <tr>\n",
       "      <th>err/std</th>\n",
       "      <td>9146.0</td>\n",
       "      <td>-2.928397e+01</td>\n",
       "      <td>9.282209</td>\n",
       "      <td>-407.724505</td>\n",
       "      <td>-33.980510</td>\n",
       "      <td>-2.863065e+01</td>\n",
       "      <td>-2.405222e+01</td>\n",
       "      <td>-1.227155e+01</td>\n",
       "    </tr>\n",
       "    <tr>\n",
       "      <th>dsr/ps</th>\n",
       "      <td>9146.0</td>\n",
       "      <td>-2.574777e-02</td>\n",
       "      <td>0.008144</td>\n",
       "      <td>-0.056879</td>\n",
       "      <td>-0.030300</td>\n",
       "      <td>-2.398169e-02</td>\n",
       "      <td>-2.006401e-02</td>\n",
       "      <td>-1.833575e-03</td>\n",
       "    </tr>\n",
       "  </tbody>\n",
       "</table>\n",
       "</div>"
      ],
      "text/plain": [
       "                  count          mean            std            min  \\\n",
       "mass_npea        9146.0  9.903052e+03    4060.577116    2864.760000   \n",
       "size_npear       9146.0  3.032828e+03    1462.334147     510.530000   \n",
       "malign_ratio     9146.0  3.030829e-01       0.062533       0.114820   \n",
       "damage_size      9146.0  1.039021e+02      55.456862      10.310100   \n",
       "exposed_area     9146.0  1.372442e+06  564677.287032  387853.402500   \n",
       "std_dev_malign   9146.0  1.463042e+02      70.512177      31.970400   \n",
       "err_malign       9146.0  3.992936e+03    1780.672859    1089.190000   \n",
       "malign_penalty   9146.0  6.984966e+01      55.785332       0.000000   \n",
       "damage_ratio     9146.0  3.446165e+01       5.972808      15.228000   \n",
       "penalty-err      9146.0 -3.923087e+03    1760.148864  -91953.700000   \n",
       "penalty/err      9146.0  1.691961e-02       0.010774       0.000000   \n",
       "d_size-ratio     9146.0  6.944047e+01      60.844572     -34.389300   \n",
       "d_ratio-m_ratio  9146.0  3.415857e+01       5.977424      14.920880   \n",
       "penalty/std      9146.0  4.693436e-01       0.263664       0.000000   \n",
       "mass/size        9146.0  7.225809e-03       0.000191       0.006695   \n",
       "area/mass        9146.0  1.384877e+02       3.587080     120.536792   \n",
       "err/std          9146.0 -2.928397e+01       9.282209    -407.724505   \n",
       "dsr/ps           9146.0 -2.574777e-02       0.008144      -0.056879   \n",
       "\n",
       "                           25%           50%           75%           max  \n",
       "mass_npea          6988.420000  8.895965e+03  1.211995e+04  3.699540e+04  \n",
       "size_npear         1983.657500  2.684330e+03  3.830745e+03  1.353500e+04  \n",
       "malign_ratio          0.259053  3.010550e-01  3.430025e-01  5.253000e-01  \n",
       "damage_size          64.012525  8.845830e+01  1.342090e+02  3.464200e+02  \n",
       "exposed_area     959687.264300  1.237057e+06  1.693083e+06  4.978616e+06  \n",
       "std_dev_malign       95.853900  1.261385e+02  1.822515e+02  5.288900e+02  \n",
       "err_malign         3177.682500  3.846320e+03  4.664577e+03  9.198370e+04  \n",
       "malign_penalty       31.000000  5.400000e+01  9.100000e+01  3.400000e+02  \n",
       "damage_ratio         30.290225  3.524575e+01  3.880607e+01  4.654640e+01  \n",
       "penalty-err       -4568.067500 -3.799485e+03 -3.137638e+03 -1.053190e+03  \n",
       "penalty/err           0.008896  1.471175e-02  2.290678e-02  6.681378e-02  \n",
       "d_size-ratio         25.557750  5.298980e+01  1.040223e+02  3.278066e+02  \n",
       "d_ratio-m_ratio      30.008418  3.494804e+01  3.850057e+01  4.641665e+01  \n",
       "penalty/std           0.273917  4.124855e-01  6.394334e-01  1.526758e+00  \n",
       "mass/size             0.007092  7.208746e-03  7.326747e-03  8.296222e-03  \n",
       "area/mass           136.486215  1.387204e+02  1.410008e+02  1.493619e+02  \n",
       "err/std             -33.980510 -2.863065e+01 -2.405222e+01 -1.227155e+01  \n",
       "dsr/ps               -0.030300 -2.398169e-02 -2.006401e-02 -1.833575e-03  "
      ]
     },
     "execution_count": 146,
     "metadata": {},
     "output_type": "execute_result"
    }
   ],
   "source": [
    "train.describe().T"
   ]
  },
  {
   "cell_type": "code",
   "execution_count": 147,
   "metadata": {},
   "outputs": [],
   "source": [
    "train['ratio/size'] = train['damage_size']/train['damage_ratio']"
   ]
  },
  {
   "cell_type": "code",
   "execution_count": 148,
   "metadata": {},
   "outputs": [],
   "source": [
    "scores = cross_val_score(model, train, target, cv = 5, scoring = rmse)"
   ]
  },
  {
   "cell_type": "code",
   "execution_count": 149,
   "metadata": {},
   "outputs": [
    {
     "data": {
      "text/plain": [
       "-3.735710771134449"
      ]
     },
     "execution_count": 149,
     "metadata": {},
     "output_type": "execute_result"
    }
   ],
   "source": [
    "scores.mean()"
   ]
  },
  {
   "cell_type": "code",
   "execution_count": 150,
   "metadata": {},
   "outputs": [],
   "source": [
    "train.drop(['ratio/size'], axis = 1, inplace = True)"
   ]
  },
  {
   "cell_type": "code",
   "execution_count": 66,
   "metadata": {},
   "outputs": [
    {
     "data": {
      "text/html": [
       "<div>\n",
       "<style scoped>\n",
       "    .dataframe tbody tr th:only-of-type {\n",
       "        vertical-align: middle;\n",
       "    }\n",
       "\n",
       "    .dataframe tbody tr th {\n",
       "        vertical-align: top;\n",
       "    }\n",
       "\n",
       "    .dataframe thead th {\n",
       "        text-align: right;\n",
       "    }\n",
       "</style>\n",
       "<table border=\"1\" class=\"dataframe\">\n",
       "  <thead>\n",
       "    <tr style=\"text-align: right;\">\n",
       "      <th></th>\n",
       "      <th>mass_npea</th>\n",
       "      <th>size_npear</th>\n",
       "      <th>malign_ratio</th>\n",
       "      <th>damage_size</th>\n",
       "      <th>exposed_area</th>\n",
       "      <th>std_dev_malign</th>\n",
       "      <th>err_malign</th>\n",
       "      <th>malign_penalty</th>\n",
       "      <th>damage_ratio</th>\n",
       "      <th>penalty-err</th>\n",
       "      <th>err-std</th>\n",
       "      <th>penalty-std</th>\n",
       "      <th>d_size-ratio</th>\n",
       "      <th>d_ratio-m_ratio</th>\n",
       "      <th>mass/size</th>\n",
       "      <th>area/mass</th>\n",
       "      <th>dsr/ps</th>\n",
       "      <th>ratio/size</th>\n",
       "    </tr>\n",
       "  </thead>\n",
       "  <tbody>\n",
       "    <tr>\n",
       "      <th>0</th>\n",
       "      <td>6930.90</td>\n",
       "      <td>2919.02</td>\n",
       "      <td>0.42116</td>\n",
       "      <td>51.8298</td>\n",
       "      <td>9.888294e+05</td>\n",
       "      <td>109.487</td>\n",
       "      <td>2758.76</td>\n",
       "      <td>72</td>\n",
       "      <td>39.3620</td>\n",
       "      <td>-2686.76</td>\n",
       "      <td>2649.273</td>\n",
       "      <td>-37.487</td>\n",
       "      <td>12.4678</td>\n",
       "      <td>38.94084</td>\n",
       "      <td>0.007009</td>\n",
       "      <td>142.669698</td>\n",
       "      <td>-0.019291</td>\n",
       "      <td>1.316747</td>\n",
       "    </tr>\n",
       "    <tr>\n",
       "      <th>1</th>\n",
       "      <td>15635.70</td>\n",
       "      <td>4879.36</td>\n",
       "      <td>0.31206</td>\n",
       "      <td>223.5500</td>\n",
       "      <td>2.058426e+06</td>\n",
       "      <td>248.881</td>\n",
       "      <td>5952.53</td>\n",
       "      <td>240</td>\n",
       "      <td>22.0253</td>\n",
       "      <td>-5712.53</td>\n",
       "      <td>5703.649</td>\n",
       "      <td>-8.881</td>\n",
       "      <td>201.5247</td>\n",
       "      <td>21.71324</td>\n",
       "      <td>0.007596</td>\n",
       "      <td>131.649130</td>\n",
       "      <td>-0.039133</td>\n",
       "      <td>10.149691</td>\n",
       "    </tr>\n",
       "    <tr>\n",
       "      <th>2</th>\n",
       "      <td>10376.20</td>\n",
       "      <td>2613.88</td>\n",
       "      <td>0.25191</td>\n",
       "      <td>127.3370</td>\n",
       "      <td>1.434676e+06</td>\n",
       "      <td>160.093</td>\n",
       "      <td>4635.26</td>\n",
       "      <td>73</td>\n",
       "      <td>29.9963</td>\n",
       "      <td>-4562.26</td>\n",
       "      <td>4475.167</td>\n",
       "      <td>-87.093</td>\n",
       "      <td>97.3407</td>\n",
       "      <td>29.74439</td>\n",
       "      <td>0.007232</td>\n",
       "      <td>138.266042</td>\n",
       "      <td>-0.027911</td>\n",
       "      <td>4.245090</td>\n",
       "    </tr>\n",
       "    <tr>\n",
       "      <th>3</th>\n",
       "      <td>13093.80</td>\n",
       "      <td>4510.06</td>\n",
       "      <td>0.34444</td>\n",
       "      <td>155.4400</td>\n",
       "      <td>1.812195e+06</td>\n",
       "      <td>173.015</td>\n",
       "      <td>5273.87</td>\n",
       "      <td>32</td>\n",
       "      <td>28.1354</td>\n",
       "      <td>-5241.87</td>\n",
       "      <td>5100.855</td>\n",
       "      <td>-141.015</td>\n",
       "      <td>127.3046</td>\n",
       "      <td>27.79096</td>\n",
       "      <td>0.007225</td>\n",
       "      <td>138.401013</td>\n",
       "      <td>-0.029654</td>\n",
       "      <td>5.524713</td>\n",
       "    </tr>\n",
       "    <tr>\n",
       "      <th>4</th>\n",
       "      <td>7545.21</td>\n",
       "      <td>2882.36</td>\n",
       "      <td>0.38201</td>\n",
       "      <td>85.1237</td>\n",
       "      <td>1.043918e+06</td>\n",
       "      <td>124.414</td>\n",
       "      <td>3263.35</td>\n",
       "      <td>57</td>\n",
       "      <td>35.0200</td>\n",
       "      <td>-3206.35</td>\n",
       "      <td>3138.936</td>\n",
       "      <td>-67.414</td>\n",
       "      <td>50.1037</td>\n",
       "      <td>34.63799</td>\n",
       "      <td>0.007228</td>\n",
       "      <td>138.354996</td>\n",
       "      <td>-0.026548</td>\n",
       "      <td>2.430717</td>\n",
       "    </tr>\n",
       "  </tbody>\n",
       "</table>\n",
       "</div>"
      ],
      "text/plain": [
       "   mass_npea  size_npear  malign_ratio  damage_size  exposed_area  \\\n",
       "0    6930.90     2919.02       0.42116      51.8298  9.888294e+05   \n",
       "1   15635.70     4879.36       0.31206     223.5500  2.058426e+06   \n",
       "2   10376.20     2613.88       0.25191     127.3370  1.434676e+06   \n",
       "3   13093.80     4510.06       0.34444     155.4400  1.812195e+06   \n",
       "4    7545.21     2882.36       0.38201      85.1237  1.043918e+06   \n",
       "\n",
       "   std_dev_malign  err_malign  malign_penalty  damage_ratio  penalty-err  \\\n",
       "0         109.487     2758.76              72       39.3620     -2686.76   \n",
       "1         248.881     5952.53             240       22.0253     -5712.53   \n",
       "2         160.093     4635.26              73       29.9963     -4562.26   \n",
       "3         173.015     5273.87              32       28.1354     -5241.87   \n",
       "4         124.414     3263.35              57       35.0200     -3206.35   \n",
       "\n",
       "    err-std  penalty-std  d_size-ratio  d_ratio-m_ratio  mass/size  \\\n",
       "0  2649.273      -37.487       12.4678         38.94084   0.007009   \n",
       "1  5703.649       -8.881      201.5247         21.71324   0.007596   \n",
       "2  4475.167      -87.093       97.3407         29.74439   0.007232   \n",
       "3  5100.855     -141.015      127.3046         27.79096   0.007225   \n",
       "4  3138.936      -67.414       50.1037         34.63799   0.007228   \n",
       "\n",
       "    area/mass    dsr/ps  ratio/size  \n",
       "0  142.669698 -0.019291    1.316747  \n",
       "1  131.649130 -0.039133   10.149691  \n",
       "2  138.266042 -0.027911    4.245090  \n",
       "3  138.401013 -0.029654    5.524713  \n",
       "4  138.354996 -0.026548    2.430717  "
      ]
     },
     "execution_count": 66,
     "metadata": {},
     "output_type": "execute_result"
    }
   ],
   "source": [
    "train.head()"
   ]
  },
  {
   "cell_type": "code",
   "execution_count": 151,
   "metadata": {},
   "outputs": [
    {
     "data": {
      "text/plain": [
       "<matplotlib.axes._subplots.AxesSubplot at 0x7fb2bf22fdd0>"
      ]
     },
     "execution_count": 151,
     "metadata": {},
     "output_type": "execute_result"
    },
    {
     "data": {
      "image/png": "[encoded data removed]",
      "text/plain": [
       "<Figure size 432x288 with 1 Axes>"
      ]
     },
     "metadata": {},
     "output_type": "display_data"
    }
   ],
   "source": [
    "model.fit(train, target)\n",
    "\n",
    "sns.barplot(x = model.feature_importances_, y = train.columns)"
   ]
  },
  {
   "cell_type": "code",
   "execution_count": 152,
   "metadata": {},
   "outputs": [],
   "source": [
    "train['std/area'] = train['std_dev_malign']/train['exposed_area']"
   ]
  },
  {
   "cell_type": "code",
   "execution_count": 153,
   "metadata": {},
   "outputs": [],
   "source": [
    "scores = cross_val_score(model, train, target, cv = 5, scoring = rmse)"
   ]
  },
  {
   "cell_type": "code",
   "execution_count": 154,
   "metadata": {},
   "outputs": [
    {
     "data": {
      "text/plain": [
       "-3.706268958331319"
      ]
     },
     "execution_count": 154,
     "metadata": {},
     "output_type": "execute_result"
    }
   ],
   "source": [
    "scores.mean()"
   ]
  },
  {
   "cell_type": "code",
   "execution_count": 155,
   "metadata": {},
   "outputs": [
    {
     "data": {
      "text/plain": [
       "<matplotlib.axes._subplots.AxesSubplot at 0x7fb2be429790>"
      ]
     },
     "execution_count": 155,
     "metadata": {},
     "output_type": "execute_result"
    },
    {
     "data": {
      "image/png": "[encoded data removed]",
      "text/plain": [
       "<Figure size 432x288 with 1 Axes>"
      ]
     },
     "metadata": {},
     "output_type": "display_data"
    }
   ],
   "source": [
    "model.fit(train, target)\n",
    "\n",
    "sns.barplot(x = model.feature_importances_, y = train.columns)"
   ]
  },
  {
   "cell_type": "code",
   "execution_count": 156,
   "metadata": {},
   "outputs": [],
   "source": [
    "train['penalty/area'] = train['malign_penalty']/train['exposed_area']"
   ]
  },
  {
   "cell_type": "code",
   "execution_count": 157,
   "metadata": {},
   "outputs": [],
   "source": [
    "scores = cross_val_score(model, train, target, cv = 5, scoring = rmse)"
   ]
  },
  {
   "cell_type": "code",
   "execution_count": 158,
   "metadata": {},
   "outputs": [
    {
     "data": {
      "text/plain": [
       "-3.7124982248193845"
      ]
     },
     "execution_count": 158,
     "metadata": {},
     "output_type": "execute_result"
    }
   ],
   "source": [
    "scores.mean()"
   ]
  },
  {
   "cell_type": "code",
   "execution_count": 159,
   "metadata": {},
   "outputs": [],
   "source": [
    "train.drop(['penalty/area'], axis = 1, inplace = True)"
   ]
  },
  {
   "cell_type": "code",
   "execution_count": 160,
   "metadata": {},
   "outputs": [],
   "source": [
    "train['m_ratio/area'] = (train['malign_ratio']*1000)/train['exposed_area']"
   ]
  },
  {
   "cell_type": "code",
   "execution_count": 161,
   "metadata": {},
   "outputs": [],
   "source": [
    "scores = cross_val_score(model, train, target, cv = 5, scoring = rmse)"
   ]
  },
  {
   "cell_type": "code",
   "execution_count": 162,
   "metadata": {},
   "outputs": [
    {
     "data": {
      "text/plain": [
       "-3.7132112908083164"
      ]
     },
     "execution_count": 162,
     "metadata": {},
     "output_type": "execute_result"
    }
   ],
   "source": [
    "scores.mean()"
   ]
  },
  {
   "cell_type": "code",
   "execution_count": 163,
   "metadata": {},
   "outputs": [],
   "source": [
    "train.drop(['m_ratio/area'], axis = 1, inplace = True)"
   ]
  },
  {
   "cell_type": "code",
   "execution_count": 164,
   "metadata": {},
   "outputs": [],
   "source": [
    "train['std/size'] = train['std_dev_malign']/train['size_npear']"
   ]
  },
  {
   "cell_type": "code",
   "execution_count": 165,
   "metadata": {},
   "outputs": [],
   "source": [
    "scores = cross_val_score(model, train, target, cv = 5, scoring = rmse)"
   ]
  },
  {
   "cell_type": "code",
   "execution_count": 166,
   "metadata": {},
   "outputs": [
    {
     "data": {
      "text/plain": [
       "-3.7481837966035263"
      ]
     },
     "execution_count": 166,
     "metadata": {},
     "output_type": "execute_result"
    }
   ],
   "source": [
    "scores.mean()"
   ]
  },
  {
   "cell_type": "code",
   "execution_count": 167,
   "metadata": {},
   "outputs": [],
   "source": [
    "train.drop(['std/size'], axis = 1, inplace = True)"
   ]
  },
  {
   "cell_type": "code",
   "execution_count": 182,
   "metadata": {},
   "outputs": [],
   "source": [
    "train['err/area'] = train['err_malign']/train['exposed_area']"
   ]
  },
  {
   "cell_type": "code",
   "execution_count": 183,
   "metadata": {},
   "outputs": [],
   "source": [
    "scores = cross_val_score(model, train, target, cv = 5, scoring = rmse)"
   ]
  },
  {
   "cell_type": "code",
   "execution_count": 184,
   "metadata": {},
   "outputs": [
    {
     "data": {
      "text/plain": [
       "-3.686716045361827"
      ]
     },
     "execution_count": 184,
     "metadata": {},
     "output_type": "execute_result"
    }
   ],
   "source": [
    "scores.mean()"
   ]
  },
  {
   "cell_type": "code",
   "execution_count": 172,
   "metadata": {},
   "outputs": [
    {
     "data": {
      "text/plain": [
       "<matplotlib.axes._subplots.AxesSubplot at 0x7fb2bf083910>"
      ]
     },
     "execution_count": 172,
     "metadata": {},
     "output_type": "execute_result"
    },
    {
     "data": {
      "image/png": "[encoded data removed]",
      "text/plain": [
       "<Figure size 432x288 with 1 Axes>"
      ]
     },
     "metadata": {},
     "output_type": "display_data"
    }
   ],
   "source": [
    "model.fit(train, target)\n",
    "\n",
    "sns.barplot(x = model.feature_importances_, y = train.columns)"
   ]
  },
  {
   "cell_type": "code",
   "execution_count": 186,
   "metadata": {},
   "outputs": [],
   "source": [
    "train['dr/area'] = (train['damage_ratio']*100)/train['exposed_area'] "
   ]
  },
  {
   "cell_type": "code",
   "execution_count": 187,
   "metadata": {},
   "outputs": [],
   "source": [
    "scores = cross_val_score(model, train, target, cv = 5, scoring = rmse)"
   ]
  },
  {
   "cell_type": "code",
   "execution_count": 188,
   "metadata": {},
   "outputs": [
    {
     "data": {
      "text/plain": [
       "-3.6865608551861335"
      ]
     },
     "execution_count": 188,
     "metadata": {},
     "output_type": "execute_result"
    }
   ],
   "source": [
    "scores.mean()"
   ]
  },
  {
   "cell_type": "code",
   "execution_count": 189,
   "metadata": {},
   "outputs": [
    {
     "data": {
      "text/plain": [
       "<matplotlib.axes._subplots.AxesSubplot at 0x7fb2be654310>"
      ]
     },
     "execution_count": 189,
     "metadata": {},
     "output_type": "execute_result"
    },
    {
     "data": {
      "image/png": "[encoded data removed]",
      "text/plain": [
       "<Figure size 432x288 with 1 Axes>"
      ]
     },
     "metadata": {},
     "output_type": "display_data"
    }
   ],
   "source": [
    "model.fit(train, target)\n",
    "\n",
    "sns.barplot(x = model.feature_importances_, y = train.columns)"
   ]
  },
  {
   "cell_type": "code",
   "execution_count": 190,
   "metadata": {},
   "outputs": [],
   "source": [
    "train['std/penalty'] = train['std_dev_malign']/(train['malign_penalty']+1)"
   ]
  },
  {
   "cell_type": "code",
   "execution_count": 191,
   "metadata": {},
   "outputs": [],
   "source": [
    "scores = cross_val_score(model, train, target, cv = 5, scoring = rmse)"
   ]
  },
  {
   "cell_type": "code",
   "execution_count": 192,
   "metadata": {},
   "outputs": [
    {
     "data": {
      "text/plain": [
       "-3.6880154740357307"
      ]
     },
     "execution_count": 192,
     "metadata": {},
     "output_type": "execute_result"
    }
   ],
   "source": [
    "scores.mean()"
   ]
  },
  {
   "cell_type": "code",
   "execution_count": 193,
   "metadata": {},
   "outputs": [],
   "source": [
    "train.drop(['std/penalty'], axis = 1, inplace = True)"
   ]
  },
  {
   "cell_type": "code",
   "execution_count": 194,
   "metadata": {},
   "outputs": [],
   "source": [
    "train['err/penalty'] = train['err_malign']/(train['malign_penalty']+1)"
   ]
  },
  {
   "cell_type": "code",
   "execution_count": 195,
   "metadata": {},
   "outputs": [],
   "source": [
    "scores = cross_val_score(model, train, target, cv = 5, scoring = rmse)"
   ]
  },
  {
   "cell_type": "code",
   "execution_count": 196,
   "metadata": {},
   "outputs": [
    {
     "data": {
      "text/plain": [
       "-3.688475073998698"
      ]
     },
     "execution_count": 196,
     "metadata": {},
     "output_type": "execute_result"
    }
   ],
   "source": [
    "scores.mean()"
   ]
  },
  {
   "cell_type": "code",
   "execution_count": 197,
   "metadata": {},
   "outputs": [],
   "source": [
    "train.drop(['err/penalty'], axis = 1, inplace = True)"
   ]
  },
  {
   "cell_type": "code",
   "execution_count": 201,
   "metadata": {},
   "outputs": [],
   "source": [
    "train['d_ratio/m_ratio'] = train['damage_ratio']/(train['malign_ratio'])"
   ]
  },
  {
   "cell_type": "code",
   "execution_count": 202,
   "metadata": {},
   "outputs": [],
   "source": [
    "scores = cross_val_score(model, train, target, cv = 5, scoring = rmse)"
   ]
  },
  {
   "cell_type": "code",
   "execution_count": 203,
   "metadata": {},
   "outputs": [
    {
     "data": {
      "text/plain": [
       "-3.690976676487378"
      ]
     },
     "execution_count": 203,
     "metadata": {},
     "output_type": "execute_result"
    }
   ],
   "source": [
    "scores.mean()"
   ]
  },
  {
   "cell_type": "code",
   "execution_count": 204,
   "metadata": {},
   "outputs": [],
   "source": [
    "train.drop(['d_ratio/m_ratio'], axis = 1, inplace = True)"
   ]
  },
  {
   "cell_type": "code",
   "execution_count": 208,
   "metadata": {},
   "outputs": [],
   "source": [
    "train['std/m_ratio'] = train['std_dev_malign']/(train['malign_ratio']*1000)"
   ]
  },
  {
   "cell_type": "code",
   "execution_count": 209,
   "metadata": {},
   "outputs": [],
   "source": [
    "scores = cross_val_score(model, train, target, cv = 5, scoring = rmse)"
   ]
  },
  {
   "cell_type": "code",
   "execution_count": 210,
   "metadata": {},
   "outputs": [
    {
     "data": {
      "text/plain": [
       "-3.6928065828122945"
      ]
     },
     "execution_count": 210,
     "metadata": {},
     "output_type": "execute_result"
    }
   ],
   "source": [
    "scores.mean()"
   ]
  },
  {
   "cell_type": "code",
   "execution_count": 211,
   "metadata": {},
   "outputs": [],
   "source": [
    "train.drop(['std/m_ratio'], axis = 1, inplace = True)"
   ]
  },
  {
   "cell_type": "code",
   "execution_count": 273,
   "metadata": {},
   "outputs": [],
   "source": [
    "train['std/err'] = train['std_dev_malign']/(train['err_malign']+1)"
   ]
  },
  {
   "cell_type": "code",
   "execution_count": 274,
   "metadata": {},
   "outputs": [],
   "source": [
    "scores = cross_val_score(model, train, target, cv = 5, scoring = rmse)"
   ]
  },
  {
   "cell_type": "code",
   "execution_count": 275,
   "metadata": {},
   "outputs": [
    {
     "data": {
      "text/plain": [
       "-3.6782750213884"
      ]
     },
     "execution_count": 275,
     "metadata": {},
     "output_type": "execute_result"
    }
   ],
   "source": [
    "scores.mean()"
   ]
  },
  {
   "cell_type": "code",
   "execution_count": 276,
   "metadata": {},
   "outputs": [
    {
     "data": {
      "text/plain": [
       "<matplotlib.axes._subplots.AxesSubplot at 0x7fb2bdceec10>"
      ]
     },
     "execution_count": 276,
     "metadata": {},
     "output_type": "execute_result"
    },
    {
     "data": {
      "image/png": "[encoded data removed]",
      "text/plain": [
       "<Figure size 576x720 with 1 Axes>"
      ]
     },
     "metadata": {},
     "output_type": "display_data"
    }
   ],
   "source": [
    "model.fit(train, target)\n",
    "\n",
    "plt.figure(figsize=(8,10))\n",
    "\n",
    "sns.barplot(x = model.feature_importances_, y = train.columns)"
   ]
  },
  {
   "cell_type": "code",
   "execution_count": 219,
   "metadata": {},
   "outputs": [],
   "source": [
    "train['area/std'] = train['exposed_area']/(train['std_dev_malign']*10)"
   ]
  },
  {
   "cell_type": "code",
   "execution_count": 301,
   "metadata": {},
   "outputs": [],
   "source": [
    "scores = cross_val_score(model, train, target, cv = 5, scoring = rmse)"
   ]
  },
  {
   "cell_type": "code",
   "execution_count": 221,
   "metadata": {},
   "outputs": [
    {
     "data": {
      "text/plain": [
       "-3.696137524245345"
      ]
     },
     "execution_count": 221,
     "metadata": {},
     "output_type": "execute_result"
    }
   ],
   "source": [
    "scores.mean()"
   ]
  },
  {
   "cell_type": "code",
   "execution_count": null,
   "metadata": {},
   "outputs": [],
   "source": [
    "train.drop(['area/std'], axis = 1, inplace = True)"
   ]
  },
  {
   "cell_type": "code",
   "execution_count": 223,
   "metadata": {},
   "outputs": [],
   "source": [
    "train['ps/dsr'] = train['penalty-err']/train['damage_size']"
   ]
  },
  {
   "cell_type": "code",
   "execution_count": 224,
   "metadata": {},
   "outputs": [],
   "source": [
    "scores = cross_val_score(model, train, target, cv = 5, scoring = rmse)"
   ]
  },
  {
   "cell_type": "code",
   "execution_count": 225,
   "metadata": {},
   "outputs": [
    {
     "data": {
      "text/plain": [
       "-3.6980868997656273"
      ]
     },
     "execution_count": 225,
     "metadata": {},
     "output_type": "execute_result"
    }
   ],
   "source": [
    "scores.mean()"
   ]
  },
  {
   "cell_type": "code",
   "execution_count": 226,
   "metadata": {},
   "outputs": [],
   "source": [
    "train.drop(['ps/dsr'], axis = 1, inplace = True)"
   ]
  },
  {
   "cell_type": "code",
   "execution_count": 302,
   "metadata": {},
   "outputs": [
    {
     "data": {
      "text/plain": [
       "-3.6782750213884"
      ]
     },
     "execution_count": 302,
     "metadata": {},
     "output_type": "execute_result"
    }
   ],
   "source": [
    "scores = cross_val_score(model, train, target, cv = 5, scoring = rmse)\n",
    "\n",
    "scores.mean()"
   ]
  },
  {
   "cell_type": "code",
   "execution_count": 309,
   "metadata": {},
   "outputs": [],
   "source": [
    "from sklearn.ensemble import RandomForestRegressor\n",
    "\n",
    "rfc = RandomForestRegressor(n_jobs=-1, random_state=2)\n",
    "\n",
    "scores = cross_val_score(rfc, train, target, cv = 5, scoring = rmse)"
   ]
  },
  {
   "cell_type": "code",
   "execution_count": 310,
   "metadata": {},
   "outputs": [
    {
     "data": {
      "text/plain": [
       "-3.8870238183093795"
      ]
     },
     "execution_count": 310,
     "metadata": {},
     "output_type": "execute_result"
    }
   ],
   "source": [
    "scores.mean()"
   ]
  },
  {
   "cell_type": "code",
   "execution_count": 311,
   "metadata": {},
   "outputs": [],
   "source": [
    "from lightgbm import LGBMRegressor\n",
    "\n",
    "lgb = LGBMRegressor(random_state=2)\n",
    "\n",
    "scores = cross_val_score(lgb, train, target, cv = 5, scoring = rmse)"
   ]
  },
  {
   "cell_type": "code",
   "execution_count": 312,
   "metadata": {},
   "outputs": [
    {
     "data": {
      "text/plain": [
       "-4.045659957789174"
      ]
     },
     "execution_count": 312,
     "metadata": {},
     "output_type": "execute_result"
    }
   ],
   "source": [
    "scores.mean()"
   ]
  },
  {
   "cell_type": "code",
   "execution_count": 313,
   "metadata": {},
   "outputs": [],
   "source": [
    "from xgboost import XGBRegressor\n",
    "\n",
    "xgb = XGBRegressor()\n",
    "\n",
    "scores = cross_val_score(xgb, train, target, cv = 5, scoring = rmse)"
   ]
  },
  {
   "cell_type": "code",
   "execution_count": 314,
   "metadata": {},
   "outputs": [
    {
     "data": {
      "text/plain": [
       "-4.116310306740312"
      ]
     },
     "execution_count": 314,
     "metadata": {},
     "output_type": "execute_result"
    }
   ],
   "source": [
    "scores.mean()"
   ]
  },
  {
   "cell_type": "code",
   "execution_count": 315,
   "metadata": {},
   "outputs": [],
   "source": [
    "from catboost import CatBoostRegressor\n",
    "\n",
    "cb = CatBoostRegressor(verbose=0)\n",
    "\n",
    "scores = cross_val_score(cb, train, target, cv = 5, scoring = rmse)"
   ]
  },
  {
   "cell_type": "code",
   "execution_count": 316,
   "metadata": {},
   "outputs": [
    {
     "data": {
      "text/plain": [
       "-3.922798398183532"
      ]
     },
     "execution_count": 316,
     "metadata": {},
     "output_type": "execute_result"
    }
   ],
   "source": [
    "scores.mean()"
   ]
  },
  {
   "cell_type": "code",
   "execution_count": 236,
   "metadata": {},
   "outputs": [],
   "source": [
    "from sklearn.ensemble import GradientBoostingRegressor\n",
    "\n",
    "gbr = GradientBoostingRegressor()\n",
    "\n",
    "scores = cross_val_score(gbr, train, target, cv = 5, scoring = rmse)"
   ]
  },
  {
   "cell_type": "code",
   "execution_count": 237,
   "metadata": {},
   "outputs": [
    {
     "data": {
      "text/plain": [
       "-4.534638677438818"
      ]
     },
     "execution_count": 237,
     "metadata": {},
     "output_type": "execute_result"
    }
   ],
   "source": [
    "scores.mean()"
   ]
  },
  {
   "cell_type": "code",
   "execution_count": 238,
   "metadata": {},
   "outputs": [
    {
     "data": {
      "text/plain": [
       "<matplotlib.axes._subplots.AxesSubplot at 0x7fb2bc2ff810>"
      ]
     },
     "execution_count": 238,
     "metadata": {},
     "output_type": "execute_result"
    },
    {
     "data": {
      "image/png": "[encoded data removed]",
      "text/plain": [
       "<Figure size 720x720 with 2 Axes>"
      ]
     },
     "metadata": {},
     "output_type": "display_data"
    }
   ],
   "source": [
    "plt.figure(figsize = (10,10))\n",
    "\n",
    "sns.heatmap(train.corr())"
   ]
  },
  {
   "cell_type": "code",
   "execution_count": 239,
   "metadata": {},
   "outputs": [
    {
     "data": {
      "text/plain": [
       "Index(['mass_npea', 'size_npear', 'malign_ratio', 'damage_size',\n",
       "       'exposed_area', 'std_dev_malign', 'err_malign', 'malign_penalty',\n",
       "       'damage_ratio', 'penalty-err', 'penalty/err', 'd_size-ratio',\n",
       "       'd_ratio-m_ratio', 'penalty/std', 'mass/size', 'area/mass', 'err/std',\n",
       "       'dsr/ps', 'std/area', 'err/area', 'dr/area', 'std/err'],\n",
       "      dtype='object')"
      ]
     },
     "execution_count": 239,
     "metadata": {},
     "output_type": "execute_result"
    }
   ],
   "source": [
    "train.columns"
   ]
  },
  {
   "cell_type": "code",
   "execution_count": 293,
   "metadata": {},
   "outputs": [],
   "source": [
    "test = pd.read_csv('/run/media/devesh/Hard Disk/Projects/Machinehack-Melanoma Tumor Size Predicition/input/Test.csv')"
   ]
  },
  {
   "cell_type": "code",
   "execution_count": 294,
   "metadata": {},
   "outputs": [],
   "source": [
    "test['penalty-err'] = test['malign_penalty'] - test['err_malign']\n",
    "test['d_size-ratio'] = test['damage_size'] - test['damage_ratio']\n",
    "test['d_ratio-m_ratio'] = test['damage_ratio'] - (test['malign_ratio'])\n",
    "test['penalty/std'] = test['malign_penalty']/test['std_dev_malign']\n",
    "test['mass/size'] = (test['mass_npea'])/(test['exposed_area'])\n",
    "test['area/mass'] = test['exposed_area']/test['mass_npea']\n",
    "test['err/std'] = test['penalty-err']/test['std_dev_malign']\n",
    "test['dsr/ps'] = test['damage_size']/test['penalty-err']\n",
    "test['std/area'] = test['std_dev_malign']/test['exposed_area']\n",
    "test['err/area'] = test['err_malign']/test['exposed_area']\n",
    "test['dr/area'] = (test['damage_ratio']*100)/test['exposed_area']\n",
    "test['std/err'] = test['std_dev_malign']/(test['err_malign'] + 1)\n",
    "test['penalty/err'] = (test['malign_penalty']+1)/(test['err_malign']+1)"
   ]
  },
  {
   "cell_type": "code",
   "execution_count": 295,
   "metadata": {},
   "outputs": [
    {
     "data": {
      "text/plain": [
       "Index(['mass_npea', 'size_npear', 'malign_ratio', 'damage_size',\n",
       "       'exposed_area', 'std_dev_malign', 'err_malign', 'malign_penalty',\n",
       "       'damage_ratio', 'penalty-err', 'd_size-ratio', 'd_ratio-m_ratio',\n",
       "       'penalty/std', 'mass/size', 'area/mass', 'err/std', 'dsr/ps',\n",
       "       'std/area', 'err/area', 'dr/area', 'std/err', 'penalty/err'],\n",
       "      dtype='object')"
      ]
     },
     "execution_count": 295,
     "metadata": {},
     "output_type": "execute_result"
    }
   ],
   "source": [
    "train.columns"
   ]
  },
  {
   "cell_type": "code",
   "execution_count": 296,
   "metadata": {},
   "outputs": [
    {
     "data": {
      "text/plain": [
       "Index(['mass_npea', 'size_npear', 'malign_ratio', 'damage_size',\n",
       "       'exposed_area', 'std_dev_malign', 'err_malign', 'malign_penalty',\n",
       "       'damage_ratio', 'penalty-err', 'd_size-ratio', 'd_ratio-m_ratio',\n",
       "       'penalty/std', 'mass/size', 'area/mass', 'err/std', 'dsr/ps',\n",
       "       'std/area', 'err/area', 'dr/area', 'std/err', 'penalty/err'],\n",
       "      dtype='object')"
      ]
     },
     "execution_count": 296,
     "metadata": {},
     "output_type": "execute_result"
    }
   ],
   "source": [
    "test.columns"
   ]
  },
  {
   "cell_type": "code",
   "execution_count": 283,
   "metadata": {},
   "outputs": [
    {
     "data": {
      "text/html": [
       "<div>\n",
       "<style scoped>\n",
       "    .dataframe tbody tr th:only-of-type {\n",
       "        vertical-align: middle;\n",
       "    }\n",
       "\n",
       "    .dataframe tbody tr th {\n",
       "        vertical-align: top;\n",
       "    }\n",
       "\n",
       "    .dataframe thead th {\n",
       "        text-align: right;\n",
       "    }\n",
       "</style>\n",
       "<table border=\"1\" class=\"dataframe\">\n",
       "  <thead>\n",
       "    <tr style=\"text-align: right;\">\n",
       "      <th></th>\n",
       "      <th>mass_npea</th>\n",
       "      <th>size_npear</th>\n",
       "      <th>malign_ratio</th>\n",
       "      <th>damage_size</th>\n",
       "      <th>exposed_area</th>\n",
       "      <th>std_dev_malign</th>\n",
       "      <th>err_malign</th>\n",
       "      <th>malign_penalty</th>\n",
       "      <th>damage_ratio</th>\n",
       "      <th>penalty-err</th>\n",
       "      <th>...</th>\n",
       "      <th>penalty/std</th>\n",
       "      <th>mass/size</th>\n",
       "      <th>area/mass</th>\n",
       "      <th>err/std</th>\n",
       "      <th>dsr/ps</th>\n",
       "      <th>std/area</th>\n",
       "      <th>err/area</th>\n",
       "      <th>dr/area</th>\n",
       "      <th>std/err</th>\n",
       "      <th>penalty/err</th>\n",
       "    </tr>\n",
       "  </thead>\n",
       "  <tbody>\n",
       "    <tr>\n",
       "      <th>0</th>\n",
       "      <td>6930.90</td>\n",
       "      <td>2919.02</td>\n",
       "      <td>0.42116</td>\n",
       "      <td>51.8298</td>\n",
       "      <td>9.888294e+05</td>\n",
       "      <td>109.487</td>\n",
       "      <td>2758.76</td>\n",
       "      <td>72</td>\n",
       "      <td>39.3620</td>\n",
       "      <td>-2686.76</td>\n",
       "      <td>...</td>\n",
       "      <td>0.657612</td>\n",
       "      <td>0.007009</td>\n",
       "      <td>142.669698</td>\n",
       "      <td>-24.539534</td>\n",
       "      <td>-0.019291</td>\n",
       "      <td>0.000111</td>\n",
       "      <td>0.002790</td>\n",
       "      <td>0.003981</td>\n",
       "      <td>0.039673</td>\n",
       "      <td>0.026452</td>\n",
       "    </tr>\n",
       "    <tr>\n",
       "      <th>1</th>\n",
       "      <td>15635.70</td>\n",
       "      <td>4879.36</td>\n",
       "      <td>0.31206</td>\n",
       "      <td>223.5500</td>\n",
       "      <td>2.058426e+06</td>\n",
       "      <td>248.881</td>\n",
       "      <td>5952.53</td>\n",
       "      <td>240</td>\n",
       "      <td>22.0253</td>\n",
       "      <td>-5712.53</td>\n",
       "      <td>...</td>\n",
       "      <td>0.964316</td>\n",
       "      <td>0.007596</td>\n",
       "      <td>131.649130</td>\n",
       "      <td>-22.952857</td>\n",
       "      <td>-0.039133</td>\n",
       "      <td>0.000121</td>\n",
       "      <td>0.002892</td>\n",
       "      <td>0.001070</td>\n",
       "      <td>0.041804</td>\n",
       "      <td>0.040480</td>\n",
       "    </tr>\n",
       "    <tr>\n",
       "      <th>2</th>\n",
       "      <td>10376.20</td>\n",
       "      <td>2613.88</td>\n",
       "      <td>0.25191</td>\n",
       "      <td>127.3370</td>\n",
       "      <td>1.434676e+06</td>\n",
       "      <td>160.093</td>\n",
       "      <td>4635.26</td>\n",
       "      <td>73</td>\n",
       "      <td>29.9963</td>\n",
       "      <td>-4562.26</td>\n",
       "      <td>...</td>\n",
       "      <td>0.455985</td>\n",
       "      <td>0.007232</td>\n",
       "      <td>138.266042</td>\n",
       "      <td>-28.497561</td>\n",
       "      <td>-0.027911</td>\n",
       "      <td>0.000112</td>\n",
       "      <td>0.003231</td>\n",
       "      <td>0.002091</td>\n",
       "      <td>0.034531</td>\n",
       "      <td>0.015961</td>\n",
       "    </tr>\n",
       "    <tr>\n",
       "      <th>3</th>\n",
       "      <td>13093.80</td>\n",
       "      <td>4510.06</td>\n",
       "      <td>0.34444</td>\n",
       "      <td>155.4400</td>\n",
       "      <td>1.812195e+06</td>\n",
       "      <td>173.015</td>\n",
       "      <td>5273.87</td>\n",
       "      <td>32</td>\n",
       "      <td>28.1354</td>\n",
       "      <td>-5241.87</td>\n",
       "      <td>...</td>\n",
       "      <td>0.184955</td>\n",
       "      <td>0.007225</td>\n",
       "      <td>138.401013</td>\n",
       "      <td>-30.297200</td>\n",
       "      <td>-0.029654</td>\n",
       "      <td>0.000095</td>\n",
       "      <td>0.002910</td>\n",
       "      <td>0.001553</td>\n",
       "      <td>0.032800</td>\n",
       "      <td>0.006256</td>\n",
       "    </tr>\n",
       "    <tr>\n",
       "      <th>4</th>\n",
       "      <td>7545.21</td>\n",
       "      <td>2882.36</td>\n",
       "      <td>0.38201</td>\n",
       "      <td>85.1237</td>\n",
       "      <td>1.043918e+06</td>\n",
       "      <td>124.414</td>\n",
       "      <td>3263.35</td>\n",
       "      <td>57</td>\n",
       "      <td>35.0200</td>\n",
       "      <td>-3206.35</td>\n",
       "      <td>...</td>\n",
       "      <td>0.458148</td>\n",
       "      <td>0.007228</td>\n",
       "      <td>138.354996</td>\n",
       "      <td>-25.771617</td>\n",
       "      <td>-0.026548</td>\n",
       "      <td>0.000119</td>\n",
       "      <td>0.003126</td>\n",
       "      <td>0.003355</td>\n",
       "      <td>0.038113</td>\n",
       "      <td>0.017768</td>\n",
       "    </tr>\n",
       "  </tbody>\n",
       "</table>\n",
       "<p>5 rows × 22 columns</p>\n",
       "</div>"
      ],
      "text/plain": [
       "   mass_npea  size_npear  malign_ratio  damage_size  exposed_area  \\\n",
       "0    6930.90     2919.02       0.42116      51.8298  9.888294e+05   \n",
       "1   15635.70     4879.36       0.31206     223.5500  2.058426e+06   \n",
       "2   10376.20     2613.88       0.25191     127.3370  1.434676e+06   \n",
       "3   13093.80     4510.06       0.34444     155.4400  1.812195e+06   \n",
       "4    7545.21     2882.36       0.38201      85.1237  1.043918e+06   \n",
       "\n",
       "   std_dev_malign  err_malign  malign_penalty  damage_ratio  penalty-err  ...  \\\n",
       "0         109.487     2758.76              72       39.3620     -2686.76  ...   \n",
       "1         248.881     5952.53             240       22.0253     -5712.53  ...   \n",
       "2         160.093     4635.26              73       29.9963     -4562.26  ...   \n",
       "3         173.015     5273.87              32       28.1354     -5241.87  ...   \n",
       "4         124.414     3263.35              57       35.0200     -3206.35  ...   \n",
       "\n",
       "   penalty/std  mass/size   area/mass    err/std    dsr/ps  std/area  \\\n",
       "0     0.657612   0.007009  142.669698 -24.539534 -0.019291  0.000111   \n",
       "1     0.964316   0.007596  131.649130 -22.952857 -0.039133  0.000121   \n",
       "2     0.455985   0.007232  138.266042 -28.497561 -0.027911  0.000112   \n",
       "3     0.184955   0.007225  138.401013 -30.297200 -0.029654  0.000095   \n",
       "4     0.458148   0.007228  138.354996 -25.771617 -0.026548  0.000119   \n",
       "\n",
       "   err/area   dr/area   std/err  penalty/err  \n",
       "0  0.002790  0.003981  0.039673     0.026452  \n",
       "1  0.002892  0.001070  0.041804     0.040480  \n",
       "2  0.003231  0.002091  0.034531     0.015961  \n",
       "3  0.002910  0.001553  0.032800     0.006256  \n",
       "4  0.003126  0.003355  0.038113     0.017768  \n",
       "\n",
       "[5 rows x 22 columns]"
      ]
     },
     "execution_count": 283,
     "metadata": {},
     "output_type": "execute_result"
    }
   ],
   "source": [
    "train.head()"
   ]
  },
  {
   "cell_type": "code",
   "execution_count": 284,
   "metadata": {},
   "outputs": [
    {
     "data": {
      "text/html": [
       "<div>\n",
       "<style scoped>\n",
       "    .dataframe tbody tr th:only-of-type {\n",
       "        vertical-align: middle;\n",
       "    }\n",
       "\n",
       "    .dataframe tbody tr th {\n",
       "        vertical-align: top;\n",
       "    }\n",
       "\n",
       "    .dataframe thead th {\n",
       "        text-align: right;\n",
       "    }\n",
       "</style>\n",
       "<table border=\"1\" class=\"dataframe\">\n",
       "  <thead>\n",
       "    <tr style=\"text-align: right;\">\n",
       "      <th></th>\n",
       "      <th>mass_npea</th>\n",
       "      <th>size_npear</th>\n",
       "      <th>malign_ratio</th>\n",
       "      <th>damage_size</th>\n",
       "      <th>exposed_area</th>\n",
       "      <th>std_dev_malign</th>\n",
       "      <th>err_malign</th>\n",
       "      <th>malign_penalty</th>\n",
       "      <th>damage_ratio</th>\n",
       "      <th>penalty-err</th>\n",
       "      <th>...</th>\n",
       "      <th>d_ratio-m_ratio</th>\n",
       "      <th>penalty/std</th>\n",
       "      <th>mass/size</th>\n",
       "      <th>area/mass</th>\n",
       "      <th>err/std</th>\n",
       "      <th>dsr/ps</th>\n",
       "      <th>std/area</th>\n",
       "      <th>err/area</th>\n",
       "      <th>dr/area</th>\n",
       "      <th>std/err</th>\n",
       "    </tr>\n",
       "  </thead>\n",
       "  <tbody>\n",
       "    <tr>\n",
       "      <th>0</th>\n",
       "      <td>4946.44</td>\n",
       "      <td>914.06</td>\n",
       "      <td>0.18479</td>\n",
       "      <td>54.5566</td>\n",
       "      <td>6.628345e+05</td>\n",
       "      <td>67.0525</td>\n",
       "      <td>2301.76</td>\n",
       "      <td>22</td>\n",
       "      <td>41.9554</td>\n",
       "      <td>-2279.76</td>\n",
       "      <td>...</td>\n",
       "      <td>41.77061</td>\n",
       "      <td>0.328101</td>\n",
       "      <td>0.007463</td>\n",
       "      <td>134.002324</td>\n",
       "      <td>-33.999627</td>\n",
       "      <td>-0.023931</td>\n",
       "      <td>0.000101</td>\n",
       "      <td>0.003473</td>\n",
       "      <td>0.006330</td>\n",
       "      <td>0.029118</td>\n",
       "    </tr>\n",
       "    <tr>\n",
       "      <th>1</th>\n",
       "      <td>5613.85</td>\n",
       "      <td>1629.12</td>\n",
       "      <td>0.29019</td>\n",
       "      <td>51.5524</td>\n",
       "      <td>7.842271e+05</td>\n",
       "      <td>80.1986</td>\n",
       "      <td>3235.00</td>\n",
       "      <td>48</td>\n",
       "      <td>40.7410</td>\n",
       "      <td>-3187.00</td>\n",
       "      <td>...</td>\n",
       "      <td>40.45081</td>\n",
       "      <td>0.598514</td>\n",
       "      <td>0.007158</td>\n",
       "      <td>139.695063</td>\n",
       "      <td>-39.738848</td>\n",
       "      <td>-0.016176</td>\n",
       "      <td>0.000102</td>\n",
       "      <td>0.004125</td>\n",
       "      <td>0.005195</td>\n",
       "      <td>0.024783</td>\n",
       "    </tr>\n",
       "    <tr>\n",
       "      <th>2</th>\n",
       "      <td>12421.10</td>\n",
       "      <td>3062.41</td>\n",
       "      <td>0.24654</td>\n",
       "      <td>154.1560</td>\n",
       "      <td>1.763575e+06</td>\n",
       "      <td>186.8590</td>\n",
       "      <td>4684.63</td>\n",
       "      <td>63</td>\n",
       "      <td>29.4778</td>\n",
       "      <td>-4621.63</td>\n",
       "      <td>...</td>\n",
       "      <td>29.23126</td>\n",
       "      <td>0.337153</td>\n",
       "      <td>0.007043</td>\n",
       "      <td>141.982173</td>\n",
       "      <td>-24.733248</td>\n",
       "      <td>-0.033355</td>\n",
       "      <td>0.000106</td>\n",
       "      <td>0.002656</td>\n",
       "      <td>0.001671</td>\n",
       "      <td>0.039879</td>\n",
       "    </tr>\n",
       "    <tr>\n",
       "      <th>3</th>\n",
       "      <td>6830.77</td>\n",
       "      <td>2457.66</td>\n",
       "      <td>0.35979</td>\n",
       "      <td>56.8995</td>\n",
       "      <td>9.296623e+05</td>\n",
       "      <td>92.7361</td>\n",
       "      <td>3211.93</td>\n",
       "      <td>42</td>\n",
       "      <td>38.5027</td>\n",
       "      <td>-3169.93</td>\n",
       "      <td>...</td>\n",
       "      <td>38.14291</td>\n",
       "      <td>0.452898</td>\n",
       "      <td>0.007348</td>\n",
       "      <td>136.099193</td>\n",
       "      <td>-34.182266</td>\n",
       "      <td>-0.017950</td>\n",
       "      <td>0.000100</td>\n",
       "      <td>0.003455</td>\n",
       "      <td>0.004142</td>\n",
       "      <td>0.028863</td>\n",
       "    </tr>\n",
       "    <tr>\n",
       "      <th>4</th>\n",
       "      <td>33407.80</td>\n",
       "      <td>12353.60</td>\n",
       "      <td>0.36978</td>\n",
       "      <td>219.0740</td>\n",
       "      <td>4.595871e+06</td>\n",
       "      <td>493.3370</td>\n",
       "      <td>13389.36</td>\n",
       "      <td>187</td>\n",
       "      <td>26.8449</td>\n",
       "      <td>-13202.36</td>\n",
       "      <td>...</td>\n",
       "      <td>26.47512</td>\n",
       "      <td>0.379051</td>\n",
       "      <td>0.007269</td>\n",
       "      <td>137.568809</td>\n",
       "      <td>-26.761342</td>\n",
       "      <td>-0.016594</td>\n",
       "      <td>0.000107</td>\n",
       "      <td>0.002913</td>\n",
       "      <td>0.000584</td>\n",
       "      <td>0.036843</td>\n",
       "    </tr>\n",
       "  </tbody>\n",
       "</table>\n",
       "<p>5 rows × 22 columns</p>\n",
       "</div>"
      ],
      "text/plain": [
       "   mass_npea  size_npear  malign_ratio  damage_size  exposed_area  \\\n",
       "0    4946.44      914.06       0.18479      54.5566  6.628345e+05   \n",
       "1    5613.85     1629.12       0.29019      51.5524  7.842271e+05   \n",
       "2   12421.10     3062.41       0.24654     154.1560  1.763575e+06   \n",
       "3    6830.77     2457.66       0.35979      56.8995  9.296623e+05   \n",
       "4   33407.80    12353.60       0.36978     219.0740  4.595871e+06   \n",
       "\n",
       "   std_dev_malign  err_malign  malign_penalty  damage_ratio  penalty-err  ...  \\\n",
       "0         67.0525     2301.76              22       41.9554     -2279.76  ...   \n",
       "1         80.1986     3235.00              48       40.7410     -3187.00  ...   \n",
       "2        186.8590     4684.63              63       29.4778     -4621.63  ...   \n",
       "3         92.7361     3211.93              42       38.5027     -3169.93  ...   \n",
       "4        493.3370    13389.36             187       26.8449    -13202.36  ...   \n",
       "\n",
       "   d_ratio-m_ratio  penalty/std  mass/size   area/mass    err/std    dsr/ps  \\\n",
       "0         41.77061     0.328101   0.007463  134.002324 -33.999627 -0.023931   \n",
       "1         40.45081     0.598514   0.007158  139.695063 -39.738848 -0.016176   \n",
       "2         29.23126     0.337153   0.007043  141.982173 -24.733248 -0.033355   \n",
       "3         38.14291     0.452898   0.007348  136.099193 -34.182266 -0.017950   \n",
       "4         26.47512     0.379051   0.007269  137.568809 -26.761342 -0.016594   \n",
       "\n",
       "   std/area  err/area   dr/area   std/err  \n",
       "0  0.000101  0.003473  0.006330  0.029118  \n",
       "1  0.000102  0.004125  0.005195  0.024783  \n",
       "2  0.000106  0.002656  0.001671  0.039879  \n",
       "3  0.000100  0.003455  0.004142  0.028863  \n",
       "4  0.000107  0.002913  0.000584  0.036843  \n",
       "\n",
       "[5 rows x 22 columns]"
      ]
     },
     "execution_count": 284,
     "metadata": {},
     "output_type": "execute_result"
    }
   ],
   "source": [
    "test.head()"
   ]
  },
  {
   "cell_type": "code",
   "execution_count": 285,
   "metadata": {},
   "outputs": [
    {
     "data": {
      "text/plain": [
       "mass_npea          0\n",
       "size_npear         0\n",
       "malign_ratio       0\n",
       "damage_size        0\n",
       "exposed_area       0\n",
       "std_dev_malign     0\n",
       "err_malign         0\n",
       "malign_penalty     0\n",
       "damage_ratio       0\n",
       "penalty-err        0\n",
       "d_size-ratio       0\n",
       "d_ratio-m_ratio    0\n",
       "penalty/std        0\n",
       "mass/size          0\n",
       "area/mass          0\n",
       "err/std            0\n",
       "dsr/ps             0\n",
       "std/area           0\n",
       "err/area           0\n",
       "dr/area            0\n",
       "std/err            0\n",
       "penalty/err        0\n",
       "dtype: int64"
      ]
     },
     "execution_count": 285,
     "metadata": {},
     "output_type": "execute_result"
    }
   ],
   "source": [
    "train.isnull().sum()"
   ]
  },
  {
   "cell_type": "code",
   "execution_count": 286,
   "metadata": {},
   "outputs": [
    {
     "data": {
      "text/plain": [
       "mass_npea          0\n",
       "size_npear         0\n",
       "malign_ratio       0\n",
       "damage_size        0\n",
       "exposed_area       0\n",
       "std_dev_malign     0\n",
       "err_malign         0\n",
       "malign_penalty     0\n",
       "damage_ratio       0\n",
       "penalty-err        0\n",
       "penalty/err        0\n",
       "d_size-ratio       0\n",
       "d_ratio-m_ratio    0\n",
       "penalty/std        0\n",
       "mass/size          0\n",
       "area/mass          0\n",
       "err/std            0\n",
       "dsr/ps             0\n",
       "std/area           0\n",
       "err/area           0\n",
       "dr/area            0\n",
       "std/err            0\n",
       "dtype: int64"
      ]
     },
     "execution_count": 286,
     "metadata": {},
     "output_type": "execute_result"
    }
   ],
   "source": [
    "test.isnull().sum()"
   ]
  },
  {
   "cell_type": "code",
   "execution_count": 297,
   "metadata": {},
   "outputs": [
    {
     "data": {
      "text/plain": [
       "ExtraTreesRegressor(bootstrap=False, ccp_alpha=0.0, criterion='mse',\n",
       "                    max_depth=None, max_features='auto', max_leaf_nodes=None,\n",
       "                    max_samples=None, min_impurity_decrease=0.0,\n",
       "                    min_impurity_split=None, min_samples_leaf=1,\n",
       "                    min_samples_split=2, min_weight_fraction_leaf=0.0,\n",
       "                    n_estimators=100, n_jobs=-1, oob_score=False,\n",
       "                    random_state=2, verbose=0, warm_start=False)"
      ]
     },
     "execution_count": 297,
     "metadata": {},
     "output_type": "execute_result"
    }
   ],
   "source": [
    "model.fit(train,target)"
   ]
  },
  {
   "cell_type": "code",
   "execution_count": 288,
   "metadata": {},
   "outputs": [
    {
     "data": {
      "text/html": [
       "<div>\n",
       "<style scoped>\n",
       "    .dataframe tbody tr th:only-of-type {\n",
       "        vertical-align: middle;\n",
       "    }\n",
       "\n",
       "    .dataframe tbody tr th {\n",
       "        vertical-align: top;\n",
       "    }\n",
       "\n",
       "    .dataframe thead th {\n",
       "        text-align: right;\n",
       "    }\n",
       "</style>\n",
       "<table border=\"1\" class=\"dataframe\">\n",
       "  <thead>\n",
       "    <tr style=\"text-align: right;\">\n",
       "      <th></th>\n",
       "      <th>count</th>\n",
       "      <th>mean</th>\n",
       "      <th>std</th>\n",
       "      <th>min</th>\n",
       "      <th>25%</th>\n",
       "      <th>50%</th>\n",
       "      <th>75%</th>\n",
       "      <th>max</th>\n",
       "    </tr>\n",
       "  </thead>\n",
       "  <tbody>\n",
       "    <tr>\n",
       "      <th>mass_npea</th>\n",
       "      <td>36584.0</td>\n",
       "      <td>9.863733e+03</td>\n",
       "      <td>4057.545455</td>\n",
       "      <td>2392.050000</td>\n",
       "      <td>6925.620000</td>\n",
       "      <td>8.899305e+03</td>\n",
       "      <td>1.212762e+04</td>\n",
       "      <td>4.003490e+04</td>\n",
       "    </tr>\n",
       "    <tr>\n",
       "      <th>size_npear</th>\n",
       "      <td>36584.0</td>\n",
       "      <td>3.013502e+03</td>\n",
       "      <td>1464.816338</td>\n",
       "      <td>403.500000</td>\n",
       "      <td>1977.807500</td>\n",
       "      <td>2.664105e+03</td>\n",
       "      <td>3.777537e+03</td>\n",
       "      <td>1.531200e+04</td>\n",
       "    </tr>\n",
       "    <tr>\n",
       "      <th>malign_ratio</th>\n",
       "      <td>36584.0</td>\n",
       "      <td>3.022191e-01</td>\n",
       "      <td>0.062973</td>\n",
       "      <td>0.092500</td>\n",
       "      <td>0.258680</td>\n",
       "      <td>2.999400e-01</td>\n",
       "      <td>3.428725e-01</td>\n",
       "      <td>5.776900e-01</td>\n",
       "    </tr>\n",
       "    <tr>\n",
       "      <th>damage_size</th>\n",
       "      <td>36584.0</td>\n",
       "      <td>1.033900e+02</td>\n",
       "      <td>55.417297</td>\n",
       "      <td>11.096100</td>\n",
       "      <td>63.450275</td>\n",
       "      <td>8.763525e+01</td>\n",
       "      <td>1.334960e+02</td>\n",
       "      <td>3.693170e+02</td>\n",
       "    </tr>\n",
       "    <tr>\n",
       "      <th>exposed_area</th>\n",
       "      <td>36584.0</td>\n",
       "      <td>1.367263e+06</td>\n",
       "      <td>563879.393092</td>\n",
       "      <td>319490.216600</td>\n",
       "      <td>952237.611050</td>\n",
       "      <td>1.237236e+06</td>\n",
       "      <td>1.690452e+06</td>\n",
       "      <td>5.472011e+06</td>\n",
       "    </tr>\n",
       "    <tr>\n",
       "      <th>std_dev_malign</th>\n",
       "      <td>36584.0</td>\n",
       "      <td>1.454715e+02</td>\n",
       "      <td>69.870382</td>\n",
       "      <td>32.865300</td>\n",
       "      <td>94.557150</td>\n",
       "      <td>1.261845e+02</td>\n",
       "      <td>1.812738e+02</td>\n",
       "      <td>5.984080e+02</td>\n",
       "    </tr>\n",
       "    <tr>\n",
       "      <th>err_malign</th>\n",
       "      <td>36584.0</td>\n",
       "      <td>3.988961e+03</td>\n",
       "      <td>2043.358639</td>\n",
       "      <td>0.000000</td>\n",
       "      <td>3161.480000</td>\n",
       "      <td>3.838820e+03</td>\n",
       "      <td>4.638548e+03</td>\n",
       "      <td>1.059482e+05</td>\n",
       "    </tr>\n",
       "    <tr>\n",
       "      <th>malign_penalty</th>\n",
       "      <td>36584.0</td>\n",
       "      <td>7.000642e+01</td>\n",
       "      <td>56.669800</td>\n",
       "      <td>0.000000</td>\n",
       "      <td>31.000000</td>\n",
       "      <td>5.400000e+01</td>\n",
       "      <td>9.100000e+01</td>\n",
       "      <td>3.500000e+02</td>\n",
       "    </tr>\n",
       "    <tr>\n",
       "      <th>damage_ratio</th>\n",
       "      <td>36584.0</td>\n",
       "      <td>3.453917e+01</td>\n",
       "      <td>5.981472</td>\n",
       "      <td>15.312300</td>\n",
       "      <td>30.451775</td>\n",
       "      <td>3.531075e+01</td>\n",
       "      <td>3.888003e+01</td>\n",
       "      <td>5.530090e+01</td>\n",
       "    </tr>\n",
       "    <tr>\n",
       "      <th>penalty-err</th>\n",
       "      <td>36584.0</td>\n",
       "      <td>-3.918954e+03</td>\n",
       "      <td>2024.786422</td>\n",
       "      <td>-105766.170000</td>\n",
       "      <td>-4542.652500</td>\n",
       "      <td>-3.788265e+03</td>\n",
       "      <td>-3.121153e+03</td>\n",
       "      <td>1.330000e+02</td>\n",
       "    </tr>\n",
       "    <tr>\n",
       "      <th>penalty/err</th>\n",
       "      <td>36584.0</td>\n",
       "      <td>2.094874e-02</td>\n",
       "      <td>0.700577</td>\n",
       "      <td>0.000034</td>\n",
       "      <td>0.009113</td>\n",
       "      <td>1.494355e-02</td>\n",
       "      <td>2.346871e-02</td>\n",
       "      <td>1.340000e+02</td>\n",
       "    </tr>\n",
       "    <tr>\n",
       "      <th>d_size-ratio</th>\n",
       "      <td>36584.0</td>\n",
       "      <td>6.885085e+01</td>\n",
       "      <td>60.811299</td>\n",
       "      <td>-33.958900</td>\n",
       "      <td>24.873850</td>\n",
       "      <td>5.199860e+01</td>\n",
       "      <td>1.032731e+02</td>\n",
       "      <td>3.494595e+02</td>\n",
       "    </tr>\n",
       "    <tr>\n",
       "      <th>d_ratio-m_ratio</th>\n",
       "      <td>36584.0</td>\n",
       "      <td>3.423695e+01</td>\n",
       "      <td>5.986154</td>\n",
       "      <td>14.943480</td>\n",
       "      <td>30.140850</td>\n",
       "      <td>3.499415e+01</td>\n",
       "      <td>3.857697e+01</td>\n",
       "      <td>5.490206e+01</td>\n",
       "    </tr>\n",
       "    <tr>\n",
       "      <th>penalty/std</th>\n",
       "      <td>36584.0</td>\n",
       "      <td>4.726374e-01</td>\n",
       "      <td>0.269471</td>\n",
       "      <td>0.000000</td>\n",
       "      <td>0.271300</td>\n",
       "      <td>4.162488e-01</td>\n",
       "      <td>6.478165e-01</td>\n",
       "      <td>1.580387e+00</td>\n",
       "    </tr>\n",
       "    <tr>\n",
       "      <th>mass/size</th>\n",
       "      <td>36584.0</td>\n",
       "      <td>7.223810e-03</td>\n",
       "      <td>0.000190</td>\n",
       "      <td>0.006706</td>\n",
       "      <td>0.007093</td>\n",
       "      <td>7.205462e-03</td>\n",
       "      <td>7.325520e-03</td>\n",
       "      <td>8.415457e-03</td>\n",
       "    </tr>\n",
       "    <tr>\n",
       "      <th>area/mass</th>\n",
       "      <td>36584.0</td>\n",
       "      <td>1.385247e+02</td>\n",
       "      <td>3.562937</td>\n",
       "      <td>118.828965</td>\n",
       "      <td>136.509074</td>\n",
       "      <td>1.387836e+02</td>\n",
       "      <td>1.409756e+02</td>\n",
       "      <td>1.491306e+02</td>\n",
       "    </tr>\n",
       "    <tr>\n",
       "      <th>err/std</th>\n",
       "      <td>36584.0</td>\n",
       "      <td>-2.941425e+01</td>\n",
       "      <td>14.171014</td>\n",
       "      <td>-1272.908933</td>\n",
       "      <td>-33.978522</td>\n",
       "      <td>-2.861437e+01</td>\n",
       "      <td>-2.407405e+01</td>\n",
       "      <td>5.161421e-01</td>\n",
       "    </tr>\n",
       "    <tr>\n",
       "      <th>dsr/ps</th>\n",
       "      <td>36584.0</td>\n",
       "      <td>-2.567145e-02</td>\n",
       "      <td>0.010895</td>\n",
       "      <td>-0.061230</td>\n",
       "      <td>-0.030183</td>\n",
       "      <td>-2.391247e-02</td>\n",
       "      <td>-2.011242e-02</td>\n",
       "      <td>1.363714e+00</td>\n",
       "    </tr>\n",
       "    <tr>\n",
       "      <th>std/area</th>\n",
       "      <td>36584.0</td>\n",
       "      <td>1.044889e-04</td>\n",
       "      <td>0.000014</td>\n",
       "      <td>0.000058</td>\n",
       "      <td>0.000094</td>\n",
       "      <td>1.034191e-04</td>\n",
       "      <td>1.136137e-04</td>\n",
       "      <td>2.545026e-04</td>\n",
       "    </tr>\n",
       "    <tr>\n",
       "      <th>err/area</th>\n",
       "      <td>36584.0</td>\n",
       "      <td>3.055988e-03</td>\n",
       "      <td>0.001244</td>\n",
       "      <td>0.000000</td>\n",
       "      <td>0.002632</td>\n",
       "      <td>2.988108e-03</td>\n",
       "      <td>3.365090e-03</td>\n",
       "      <td>9.652894e-02</td>\n",
       "    </tr>\n",
       "    <tr>\n",
       "      <th>dr/area</th>\n",
       "      <td>36584.0</td>\n",
       "      <td>3.127838e-03</td>\n",
       "      <td>0.001683</td>\n",
       "      <td>0.000322</td>\n",
       "      <td>0.001814</td>\n",
       "      <td>2.850414e-03</td>\n",
       "      <td>4.061195e-03</td>\n",
       "      <td>1.445784e-02</td>\n",
       "    </tr>\n",
       "    <tr>\n",
       "      <th>std/err</th>\n",
       "      <td>36584.0</td>\n",
       "      <td>4.284731e-02</td>\n",
       "      <td>1.347059</td>\n",
       "      <td>0.000785</td>\n",
       "      <td>0.029032</td>\n",
       "      <td>3.439108e-02</td>\n",
       "      <td>4.070226e-02</td>\n",
       "      <td>2.576810e+02</td>\n",
       "    </tr>\n",
       "  </tbody>\n",
       "</table>\n",
       "</div>"
      ],
      "text/plain": [
       "                   count          mean            std            min  \\\n",
       "mass_npea        36584.0  9.863733e+03    4057.545455    2392.050000   \n",
       "size_npear       36584.0  3.013502e+03    1464.816338     403.500000   \n",
       "malign_ratio     36584.0  3.022191e-01       0.062973       0.092500   \n",
       "damage_size      36584.0  1.033900e+02      55.417297      11.096100   \n",
       "exposed_area     36584.0  1.367263e+06  563879.393092  319490.216600   \n",
       "std_dev_malign   36584.0  1.454715e+02      69.870382      32.865300   \n",
       "err_malign       36584.0  3.988961e+03    2043.358639       0.000000   \n",
       "malign_penalty   36584.0  7.000642e+01      56.669800       0.000000   \n",
       "damage_ratio     36584.0  3.453917e+01       5.981472      15.312300   \n",
       "penalty-err      36584.0 -3.918954e+03    2024.786422 -105766.170000   \n",
       "penalty/err      36584.0  2.094874e-02       0.700577       0.000034   \n",
       "d_size-ratio     36584.0  6.885085e+01      60.811299     -33.958900   \n",
       "d_ratio-m_ratio  36584.0  3.423695e+01       5.986154      14.943480   \n",
       "penalty/std      36584.0  4.726374e-01       0.269471       0.000000   \n",
       "mass/size        36584.0  7.223810e-03       0.000190       0.006706   \n",
       "area/mass        36584.0  1.385247e+02       3.562937     118.828965   \n",
       "err/std          36584.0 -2.941425e+01      14.171014   -1272.908933   \n",
       "dsr/ps           36584.0 -2.567145e-02       0.010895      -0.061230   \n",
       "std/area         36584.0  1.044889e-04       0.000014       0.000058   \n",
       "err/area         36584.0  3.055988e-03       0.001244       0.000000   \n",
       "dr/area          36584.0  3.127838e-03       0.001683       0.000322   \n",
       "std/err          36584.0  4.284731e-02       1.347059       0.000785   \n",
       "\n",
       "                           25%           50%           75%           max  \n",
       "mass_npea          6925.620000  8.899305e+03  1.212762e+04  4.003490e+04  \n",
       "size_npear         1977.807500  2.664105e+03  3.777537e+03  1.531200e+04  \n",
       "malign_ratio          0.258680  2.999400e-01  3.428725e-01  5.776900e-01  \n",
       "damage_size          63.450275  8.763525e+01  1.334960e+02  3.693170e+02  \n",
       "exposed_area     952237.611050  1.237236e+06  1.690452e+06  5.472011e+06  \n",
       "std_dev_malign       94.557150  1.261845e+02  1.812738e+02  5.984080e+02  \n",
       "err_malign         3161.480000  3.838820e+03  4.638548e+03  1.059482e+05  \n",
       "malign_penalty       31.000000  5.400000e+01  9.100000e+01  3.500000e+02  \n",
       "damage_ratio         30.451775  3.531075e+01  3.888003e+01  5.530090e+01  \n",
       "penalty-err       -4542.652500 -3.788265e+03 -3.121153e+03  1.330000e+02  \n",
       "penalty/err           0.009113  1.494355e-02  2.346871e-02  1.340000e+02  \n",
       "d_size-ratio         24.873850  5.199860e+01  1.032731e+02  3.494595e+02  \n",
       "d_ratio-m_ratio      30.140850  3.499415e+01  3.857697e+01  5.490206e+01  \n",
       "penalty/std           0.271300  4.162488e-01  6.478165e-01  1.580387e+00  \n",
       "mass/size             0.007093  7.205462e-03  7.325520e-03  8.415457e-03  \n",
       "area/mass           136.509074  1.387836e+02  1.409756e+02  1.491306e+02  \n",
       "err/std             -33.978522 -2.861437e+01 -2.407405e+01  5.161421e-01  \n",
       "dsr/ps               -0.030183 -2.391247e-02 -2.011242e-02  1.363714e+00  \n",
       "std/area              0.000094  1.034191e-04  1.136137e-04  2.545026e-04  \n",
       "err/area              0.002632  2.988108e-03  3.365090e-03  9.652894e-02  \n",
       "dr/area               0.001814  2.850414e-03  4.061195e-03  1.445784e-02  \n",
       "std/err               0.029032  3.439108e-02  4.070226e-02  2.576810e+02  "
      ]
     },
     "execution_count": 288,
     "metadata": {},
     "output_type": "execute_result"
    }
   ],
   "source": [
    "test.describe().T"
   ]
  },
  {
   "cell_type": "code",
   "execution_count": 298,
   "metadata": {},
   "outputs": [],
   "source": [
    "preds = model.predict(test)"
   ]
  },
  {
   "cell_type": "code",
   "execution_count": 290,
   "metadata": {},
   "outputs": [],
   "source": [
    "sub = pd.read_csv('/run/media/devesh/Hard Disk/Projects/Machinehack-Melanoma Tumor Size Predicition/input/sample_submission.csv')"
   ]
  },
  {
   "cell_type": "code",
   "execution_count": 299,
   "metadata": {},
   "outputs": [],
   "source": [
    "sub['tumor_size'] = preds"
   ]
  },
  {
   "cell_type": "code",
   "execution_count": 300,
   "metadata": {},
   "outputs": [],
   "source": [
    "sub.to_csv('sub_4.csv', index = False)"
   ]
  },
  {
   "cell_type": "code",
   "execution_count": 303,
   "metadata": {},
   "outputs": [],
   "source": [
    "train['tumor_size'] = target"
   ]
  },
  {
   "cell_type": "code",
   "execution_count": 304,
   "metadata": {},
   "outputs": [],
   "source": [
    "train.to_csv('train_new.csv', index = False)"
   ]
  },
  {
   "cell_type": "code",
   "execution_count": 305,
   "metadata": {},
   "outputs": [],
   "source": [
    "test.to_csv('test_new.csv', index = False)"
   ]
  }
 ],
 "metadata": {
  "kernelspec": {
   "display_name": "Python 3",
   "language": "python",
   "name": "python3"
  },
  "language_info": {
   "codemirror_mode": {
    "name": "ipython",
    "version": 3
   },
   "file_extension": ".py",
   "mimetype": "text/x-python",
   "name": "python",
   "nbconvert_exporter": "python",
   "pygments_lexer": "ipython3",
   "version": "3.7.6"
  }
 },
 "nbformat": 4,
 "nbformat_minor": 4
}
